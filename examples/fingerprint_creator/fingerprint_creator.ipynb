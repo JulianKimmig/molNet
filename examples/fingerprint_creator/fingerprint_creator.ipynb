{
 "cells": [
  {
   "cell_type": "code",
   "execution_count": 1,
   "metadata": {
    "collapsed": true
   },
   "outputs": [],
   "source": [
    "import pytorch_lightning as pl\n",
    "import pandas as pd\n",
    "import numpy as np\n",
    "import torch\n",
    "from rdkit.Chem.rdmolfiles import MolFromSmiles\n",
    "from rdkit.Chem.rdmolops import RDKFingerprint\n",
    "from torch import nn\n",
    "\n",
    "from molNet.dataloader.base_loader import GeneratorDataLoader, GeneratorDataset, df_to_generator\n",
    "from molNet.dataloader.molecule_loader import MoleculeGraphFromGeneratorLoader, SmilesFromGeneratorLoader, \\\n",
    "    MoleculeFromGeneratorLoader, MoleculeLoaderMixin, MoleculeGraphLoaderMixin, PytorchGeomMolLoaderMixin, \\\n",
    "    PytorchGeomMolGraphFromGeneratorLoader, PytorchGeomMolGraphGenerator, SmilesfromDfGenerator\n",
    "from molNet.featurizer.atom_featurizer import default_atom_featurizer\n",
    "from molNet.nn.models.graph_convolution import GraphFingerprint,ExtendedGrapFingerprint"
   ]
  },
  {
   "cell_type": "code",
   "execution_count": 2,
   "outputs": [],
   "source": [
    "#df = pd.read_csv(\"../../datasets/chembl_27_chemreps.txt.gz\",sep=\"\\t\")\n",
    "df = pd.read_csv(\"../../datasets/delaney-processed.csv\")"
   ],
   "metadata": {
    "collapsed": false,
    "pycharm": {
     "name": "#%%\n"
    }
   }
  },
  {
   "cell_type": "code",
   "execution_count": 3,
   "outputs": [],
   "source": [
    "smiles_col=\"smiles\"\n",
    "#smiles_col=\"canonical_smiles\"\n",
    "fp_size=100\n",
    "df['fp'] = None #= df[smiles_col].apply(lambda s:np.array(RDKFingerprint(MolFromSmiles(s),fpSize=fp_size)))"
   ],
   "metadata": {
    "collapsed": false,
    "pycharm": {
     "name": "#%%\n"
    }
   }
  },
  {
   "cell_type": "code",
   "execution_count": 7,
   "outputs": [
    {
     "name": "stdout",
     "output_type": "stream",
     "text": [
      "Batch(batch=[1711], edge_index=[2, 3446], graph_features=[64, 8], graph_features_titles=[64], string_data=[64], string_data_titles=[64], x=[1711, 141], y=[0])\n",
      "torch.Size([20])\n"
     ]
    }
   ],
   "source": [
    "loader = PytorchGeomMolGraphFromGeneratorLoader(\n",
    "    *[PytorchGeomMolGraphGenerator(atom_featurizer=default_atom_featurizer,generator=g)\n",
    "     for g in\n",
    "        df_to_generator(df,generator_class=SmilesfromDfGenerator,smiles_col=smiles_col)],\n",
    "    batch_size=64)\n",
    "\n",
    "model = ExtendedGrapFingerprint(len(default_atom_featurizer),len_additional_data=8,fully_connected_layer=[20],fingerprint_size=None)\n",
    "\n",
    "loader.setup()\n",
    "for b in loader.test_dataloader():\n",
    "    print(b)\n",
    "    print(model(b)[0].shape)\n",
    "    break"
   ],
   "metadata": {
    "collapsed": false,
    "pycharm": {
     "name": "#%%\n"
    }
   }
  },
  {
   "cell_type": "code",
   "execution_count": 8,
   "outputs": [
    {
     "data": {
      "text/plain": "ExtendedGrapFingerprint(\n  (gnn): ModuleDict(\n    (0_gc): GCNConv(141, 141)\n    (1_gc): GCNConv(141, 141)\n    (2_gc): GCNConv(141, 141)\n    (3_gc): GCNConv(141, 141)\n    (4_gc): GCNConv(141, 141)\n    (5_gc): GCNConv(141, 141)\n  )\n  (pooling): MergedPooling(\n    (pooling_layer): ModuleDict(\n      (0_pooling_weight_sum): PoolWeightedSum(\n        (weighting_of_nodes): Sequential(\n          (0): Linear(in_features=141, out_features=1, bias=True)\n          (1): Sigmoid()\n        )\n      )\n      (1_pooling_max): PoolMax()\n    )\n  )\n  (graph_out): ModuleDict(\n    (0_post_linear): Linear(in_features=290, out_features=20, bias=True)\n  )\n  (loss): MultiLabelSoftMarginLoss()\n)"
     },
     "execution_count": 8,
     "metadata": {},
     "output_type": "execute_result"
    }
   ],
   "source": [
    "model"
   ],
   "metadata": {
    "collapsed": false,
    "pycharm": {
     "name": "#%%\n"
    }
   }
  },
  {
   "cell_type": "code",
   "execution_count": null,
   "outputs": [],
   "source": [],
   "metadata": {
    "collapsed": false,
    "pycharm": {
     "name": "#%%\n"
    }
   }
  }
 ],
 "metadata": {
  "kernelspec": {
   "display_name": "Python 3",
   "language": "python",
   "name": "python3"
  },
  "language_info": {
   "codemirror_mode": {
    "name": "ipython",
    "version": 2
   },
   "file_extension": ".py",
   "mimetype": "text/x-python",
   "name": "python",
   "nbconvert_exporter": "python",
   "pygments_lexer": "ipython2",
   "version": "2.7.6"
  }
 },
 "nbformat": 4,
 "nbformat_minor": 0
}