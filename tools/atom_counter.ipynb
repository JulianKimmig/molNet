{
 "cells": [
  {
   "cell_type": "code",
   "execution_count": 6,
   "metadata": {},
   "outputs": [],
   "source": [
    "import os\n",
    "import pickle"
   ]
  },
  {
   "cell_type": "code",
   "execution_count": 15,
   "metadata": {},
   "outputs": [
    {
     "name": "stdout",
     "output_type": "stream",
     "text": [
      "3.997082130045067e-05\n",
      "GetNumberAtomsEu_Featurizer.pckl Eu\n"
     ]
    }
   ],
   "source": [
    "dirn=\"molecule_ecdf_data\"\n",
    "rel_cont_map={}\n",
    "for f in os.listdir(dirn):\n",
    "    if not f.startswith(\"GetNumberAtoms\") or not f.endswith(\"_Featurizer.pckl\"):\n",
    "        continue\n",
    "    \n",
    "    symbol=f.replace(\"GetNumberAtoms\",\"\").replace(\"_Featurizer.pckl\",\"\")\n",
    "    path=os.path.join(dirn,f)\n",
    "    \n",
    "    with open(path,\"rb\") as _f:\n",
    "        data=pickle.load(_f)\n",
    "    rel_cont_map[]= data['data'].sum()/data['data'].shape[0]\n",
    "    print(f,symbol)\n",
    "    break"
   ]
  },
  {
   "cell_type": "code",
   "execution_count": 14,
   "metadata": {},
   "outputs": [
    {
     "data": {
      "text/plain": [
       "(100073, 1)"
      ]
     },
     "execution_count": 14,
     "metadata": {},
     "output_type": "execute_result"
    }
   ],
   "source": [
    "data['data'].shape"
   ]
  },
  {
   "cell_type": "code",
   "execution_count": null,
   "metadata": {},
   "outputs": [],
   "source": []
  }
 ],
 "metadata": {
  "kernelspec": {
   "display_name": "graph_chem_unit",
   "language": "python",
   "name": "graph_chem_unit"
  },
  "language_info": {
   "codemirror_mode": {
    "name": "ipython",
    "version": 3
   },
   "file_extension": ".py",
   "mimetype": "text/x-python",
   "name": "python",
   "nbconvert_exporter": "python",
   "pygments_lexer": "ipython3",
   "version": "3.8.0"
  }
 },
 "nbformat": 4,
 "nbformat_minor": 4
}
