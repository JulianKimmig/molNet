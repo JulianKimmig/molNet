{
 "cells": [
  {
   "cell_type": "code",
   "execution_count": 1,
   "metadata": {},
   "outputs": [],
   "source": [
    "import os\n",
    "import sys\n",
    "sys.path.append(os.path.dirname(os.path.abspath(\"\")))\n",
    "sys.path.insert(0,os.path.dirname(os.path.abspath(\"\")))\n",
    "\n",
    "import ecdf\n",
    "import numpy as np\n",
    "from rdkit import RDLogger\n",
    "import sys\n",
    "lg = RDLogger.logger()\n",
    "lg.setLevel(RDLogger.CRITICAL)\n",
    "import logging\n",
    "logging.basicConfig(stream=sys.stdout, level=logging.DEBUG)\n",
    "logging.getLogger('matplotlib').setLevel(logging.WARNING)\n",
    "import matplotlib.pyplot as plt\n",
    "import os"
   ]
  },
  {
   "cell_type": "code",
   "execution_count": 8,
   "metadata": {},
   "outputs": [
    {
     "data": {
      "text/plain": [
       "996309"
      ]
     },
     "execution_count": 8,
     "metadata": {},
     "output_type": "execute_result"
    }
   ],
   "source": [
    "basedir=\"/media/julian/ex1ext4_1/chem_graph_unit/input/CID_SMILES/mol\"\n",
    "files=os.listdir(basedir)\n",
    "import random\n",
    "len(files)"
   ]
  },
  {
   "cell_type": "code",
   "execution_count": 9,
   "metadata": {},
   "outputs": [
    {
     "data": {
      "text/plain": [
       "996309"
      ]
     },
     "execution_count": 9,
     "metadata": {},
     "output_type": "execute_result"
    }
   ],
   "source": [
    "files=[os.path.join(basedir,f) for f in files if f.endswith(\"mol\")]\n",
    "len(files)"
   ]
  },
  {
   "cell_type": "code",
   "execution_count": 12,
   "metadata": {},
   "outputs": [
    {
     "name": "stdout",
     "output_type": "stream",
     "text": [
      "Asphericity_Featurizer\n",
      "BCUT2D_CHGHI_Featurizer\n",
      "BCUT2D_CHGLO_Featurizer\n",
      "BCUT2D_LOGPHI_Featurizer\n",
      "BCUT2D_LOGPLOW_Featurizer\n",
      "BCUT2D_MRHI_Featurizer\n",
      "BCUT2D_MRLOW_Featurizer\n",
      "BCUT2D_MWHI_Featurizer\n",
      "BCUT2D_MWLOW_Featurizer\n",
      "BalabanJ_Featurizer\n",
      "BertzCT_Featurizer\n",
      "Chi0_Featurizer\n",
      "Chi0n_Featurizer\n",
      "Chi0v_Featurizer\n",
      "Chi1_Featurizer\n",
      "Chi1n_Featurizer\n",
      "Chi1v_Featurizer\n",
      "Chi2n_Featurizer\n",
      "Chi2v_Featurizer\n",
      "Chi3n_Featurizer\n",
      "Chi3v_Featurizer\n",
      "Chi4n_Featurizer\n",
      "Chi4v_Featurizer\n",
      "EState_VSA10_Featurizer\n",
      "EState_VSA11_Featurizer\n",
      "EState_VSA1_Featurizer\n",
      "EState_VSA2_Featurizer\n",
      "EState_VSA3_Featurizer\n",
      "EState_VSA4_Featurizer\n",
      "EState_VSA5_Featurizer\n",
      "EState_VSA6_Featurizer\n",
      "EState_VSA7_Featurizer\n",
      "EState_VSA8_Featurizer\n",
      "EState_VSA9_Featurizer\n",
      "Eccentricity_Featurizer\n",
      "ExactMolWt_Featurizer\n",
      "FpDensityMorgan1_Featurizer\n",
      "FpDensityMorgan2_Featurizer\n",
      "FpDensityMorgan3_Featurizer\n",
      "FractionCSP3_Featurizer\n",
      "GetFormalCharge_Featurizer\n",
      "GetSSSR_Featurizer\n",
      "HallKierAlpha_Featurizer\n",
      "HeavyAtomCount_Featurizer\n",
      "HeavyAtomMolWt_Featurizer\n",
      "InertialShapeFactor_Featurizer\n",
      "Ipc_Featurizer\n",
      "Kappa1_Featurizer\n",
      "Kappa2_Featurizer\n",
      "Kappa3_Featurizer\n",
      "LabuteASA_Featurizer\n",
      "MaxAbsEStateIndex_Featurizer\n",
      "MaxAbsPartialCharge_Featurizer\n",
      "MaxEStateIndex_Featurizer\n",
      "MaxPartialCharge_Featurizer\n",
      "MinAbsEStateIndex_Featurizer\n",
      "MinAbsPartialCharge_Featurizer\n",
      "MinEStateIndex_Featurizer\n",
      "MinPartialCharge_Featurizer\n",
      "MolLogP_Featurizer\n",
      "MolMR_Featurizer\n",
      "MolWt_Featurizer\n",
      "NHOHCount_Featurizer\n",
      "NOCount_Featurizer\n",
      "NPR1_Featurizer\n",
      "NPR2_Featurizer\n",
      "NumAliphaticCarbocycles_Featurizer\n",
      "NumAliphaticHeterocycles_Featurizer\n",
      "NumAliphaticRings_Featurizer\n",
      "NumAmideBonds_Featurizer\n",
      "NumAromaticCarbocycles_Featurizer\n",
      "NumAromaticHeterocycles_Featurizer\n",
      "NumAromaticRings_Featurizer\n",
      "NumAtomsFeaturizer\n",
      "NumBondsFeaturizer\n",
      "NumBridgeheadAtoms_Featurizer\n",
      "NumFragmentsFeaturizer\n",
      "NumHAcceptors_Featurizer\n",
      "NumHBA_Featurizer\n",
      "NumHBD_Featurizer\n",
      "NumHDonors_Featurizer\n",
      "NumHeteroatoms_Featurizer\n",
      "NumHeterocycles_Featurizer\n",
      "NumLipinskiHBA_Featurizer\n",
      "NumLipinskiHBD_Featurizer\n",
      "NumRadicalElectrons_Featurizer\n",
      "NumRings_Featurizer\n",
      "NumRotatableBonds_Featurizer\n",
      "NumSaturatedCarbocycles_Featurizer\n",
      "NumSaturatedHeterocycles_Featurizer\n",
      "NumSaturatedRings_Featurizer\n",
      "NumSpiroAtoms_Featurizer\n",
      "NumValenceElectrons_Featurizer\n",
      "PBF_Featurizer\n",
      "PEOE_VSA10_Featurizer\n",
      "PEOE_VSA11_Featurizer\n",
      "PEOE_VSA12_Featurizer\n",
      "PEOE_VSA13_Featurizer\n",
      "PEOE_VSA14_Featurizer\n",
      "PEOE_VSA1_Featurizer\n",
      "PEOE_VSA2_Featurizer\n",
      "PEOE_VSA3_Featurizer\n",
      "PEOE_VSA4_Featurizer\n",
      "PEOE_VSA5_Featurizer\n",
      "PEOE_VSA6_Featurizer\n",
      "PEOE_VSA7_Featurizer\n",
      "PEOE_VSA8_Featurizer\n",
      "PEOE_VSA9_Featurizer\n",
      "PMI1_Featurizer\n",
      "PMI2_Featurizer\n",
      "PMI3_Featurizer\n",
      "Phi_Featurizer\n",
      "RadiusOfGyration_Featurizer\n",
      "RingCount_Featurizer\n",
      "SMR_VSA10_Featurizer\n",
      "SMR_VSA1_Featurizer\n",
      "SMR_VSA2_Featurizer\n",
      "SMR_VSA3_Featurizer\n",
      "SMR_VSA4_Featurizer\n",
      "SMR_VSA5_Featurizer\n",
      "SMR_VSA6_Featurizer\n",
      "SMR_VSA7_Featurizer\n",
      "SMR_VSA8_Featurizer\n",
      "SMR_VSA9_Featurizer\n",
      "SlogP_VSA10_Featurizer\n",
      "SlogP_VSA11_Featurizer\n",
      "SlogP_VSA12_Featurizer\n",
      "SlogP_VSA1_Featurizer\n",
      "SlogP_VSA2_Featurizer\n",
      "SlogP_VSA3_Featurizer\n",
      "SlogP_VSA4_Featurizer\n",
      "SlogP_VSA5_Featurizer\n",
      "SlogP_VSA6_Featurizer\n",
      "SlogP_VSA7_Featurizer\n",
      "SlogP_VSA8_Featurizer\n",
      "SlogP_VSA9_Featurizer\n",
      "SpherocityIndex_Featurizer\n",
      "TPSA_Featurizer\n",
      "VSA_EState10_Featurizer\n",
      "VSA_EState1_Featurizer\n",
      "VSA_EState2_Featurizer\n",
      "VSA_EState3_Featurizer\n",
      "VSA_EState4_Featurizer\n",
      "VSA_EState5_Featurizer\n",
      "VSA_EState6_Featurizer\n",
      "VSA_EState7_Featurizer\n",
      "VSA_EState8_Featurizer\n",
      "VSA_EState9_Featurizer\n",
      "fr_Al_COO_Featurizer\n",
      "fr_Al_OH_Featurizer\n",
      "fr_Al_OH_noTert_Featurizer\n",
      "fr_ArN_Featurizer\n",
      "fr_Ar_COO_Featurizer\n",
      "fr_Ar_NH_Featurizer\n",
      "fr_Ar_N_Featurizer\n",
      "fr_Ar_OH_Featurizer\n",
      "fr_COO2_Featurizer\n",
      "fr_COO_Featurizer\n",
      "fr_C_O_Featurizer\n",
      "fr_C_O_noCOO_Featurizer\n",
      "fr_C_S_Featurizer\n",
      "fr_HOCCN_Featurizer\n",
      "fr_Imine_Featurizer\n",
      "fr_NH0_Featurizer\n",
      "fr_NH1_Featurizer\n",
      "fr_NH2_Featurizer\n",
      "fr_N_O_Featurizer\n",
      "fr_Ndealkylation1_Featurizer\n",
      "fr_Ndealkylation2_Featurizer\n",
      "fr_Nhpyrrole_Featurizer\n",
      "fr_SH_Featurizer\n",
      "fr_aldehyde_Featurizer\n",
      "fr_alkyl_carbamate_Featurizer\n",
      "fr_alkyl_halide_Featurizer\n",
      "fr_allylic_oxid_Featurizer\n",
      "fr_amide_Featurizer\n",
      "fr_amidine_Featurizer\n",
      "fr_aniline_Featurizer\n",
      "fr_aryl_methyl_Featurizer\n",
      "fr_azide_Featurizer\n",
      "fr_azo_Featurizer\n",
      "fr_barbitur_Featurizer\n",
      "fr_benzene_Featurizer\n",
      "fr_benzodiazepine_Featurizer\n",
      "fr_bicyclic_Featurizer\n",
      "fr_diazo_Featurizer\n",
      "fr_dihydropyridine_Featurizer\n",
      "fr_epoxide_Featurizer\n",
      "fr_ester_Featurizer\n",
      "fr_ether_Featurizer\n",
      "fr_furan_Featurizer\n",
      "fr_guanido_Featurizer\n",
      "fr_halogen_Featurizer\n",
      "fr_hdrzine_Featurizer\n",
      "fr_hdrzone_Featurizer\n",
      "fr_imidazole_Featurizer\n",
      "fr_imide_Featurizer\n",
      "fr_isocyan_Featurizer\n",
      "fr_isothiocyan_Featurizer\n",
      "fr_ketone_Featurizer\n",
      "fr_ketone_Topliss_Featurizer\n",
      "fr_lactam_Featurizer\n",
      "fr_lactone_Featurizer\n",
      "fr_methoxy_Featurizer\n",
      "fr_morpholine_Featurizer\n",
      "fr_nitrile_Featurizer\n",
      "fr_nitro_Featurizer\n",
      "fr_nitro_arom_Featurizer\n",
      "fr_nitro_arom_nonortho_Featurizer\n",
      "fr_nitroso_Featurizer\n",
      "fr_oxazole_Featurizer\n",
      "fr_oxime_Featurizer\n",
      "fr_para_hydroxylation_Featurizer\n",
      "fr_phenol_Featurizer\n",
      "fr_phenol_noOrthoHbond_Featurizer\n",
      "fr_phos_acid_Featurizer\n",
      "fr_phos_ester_Featurizer\n",
      "fr_piperdine_Featurizer\n",
      "fr_piperzine_Featurizer\n",
      "fr_priamide_Featurizer\n",
      "fr_prisulfonamd_Featurizer\n",
      "fr_pyridine_Featurizer\n",
      "fr_quatN_Featurizer\n",
      "fr_sulfide_Featurizer\n",
      "fr_sulfonamd_Featurizer\n",
      "fr_sulfone_Featurizer\n",
      "fr_term_acetylene_Featurizer\n",
      "fr_tetrazole_Featurizer\n",
      "fr_thiazole_Featurizer\n",
      "fr_thiocyan_Featurizer\n",
      "fr_thiophene_Featurizer\n",
      "fr_unbrch_alkane_Featurizer\n",
      "fr_urea_Featurizer\n",
      "qed_Featurizer\n"
     ]
    }
   ],
   "source": [
    "from molNet.utils.smiles.generator import generate_n_random_hetero_carbon_lattice\n",
    "from molNet.featurizer.molecule_featurizer import MolWt_Featurizer\n",
    "import cdf_h\n",
    "import pickle\n",
    "\n",
    "ecdres=1000\n",
    "#smiles = np.array([k for k in generate_n_random_hetero_carbon_lattice(n=1000, max_c=10)])\n",
    "#ecdf_d = ecdf.gen_ecdf_from_smiles(smiles,cdf_h.FixSVFeaturizerList)    \n",
    "data_folder=\"ecdf_data\"\n",
    "os.makedirs(data_folder,exist_ok=True)\n",
    "for F in cdf_h.classlist:\n",
    "    print(F.__name__)\n",
    "    file=os.path.join(data_folder,F.__name__+\".pckl\")\n",
    "    if os.path.exists(file):\n",
    "        continue\n",
    "    random.shuffle(files)\n",
    "    ecdf_d = ecdf.gen_ecdf_from_mol_file(files,\n",
    "                                         F,# MolWt_Featurizer,\n",
    "                                         min_run=1_00_000,\n",
    "                                         )\n",
    "    with open(file,\"w+b\") as f:\n",
    "        pickle.dump(ecdf_d,f)"
   ]
  },
  {
   "cell_type": "code",
   "execution_count": 7,
   "metadata": {},
   "outputs": [
    {
     "data": {
      "image/png": "[encoded data removed]",
      "text/plain": [
       "<Figure size 432x288 with 1 Axes>"
      ]
     },
     "metadata": {
      "needs_background": "light"
     },
     "output_type": "display_data"
    }
   ],
   "source": [
    "ecdres=1000\n",
    "necdf_data1=ecdf.ecdf(ecdf_d[\"data\"],res=ecdres)\n",
    "necdf_data2=ecdf.ecdf(ecdf_d[\"data\"],res=ecdres,smooth=True,unique_only=True)#\n",
    "necdf1_x=[]\n",
    "necdf1_y=[]\n",
    "necdf2_x=[]\n",
    "necdf2_y=[]\n",
    "if isinstance(necdf_data1,tuple):\n",
    "    necdf1_x.append(necdf_data1[0])\n",
    "    necdf1_y.append(necdf_data1[1])\n",
    "else:\n",
    "    for d in necdf_data1:\n",
    "        necdf1_x.append(d[0])\n",
    "        necdf1_y.append(d[1])\n",
    "        \n",
    "if isinstance(necdf_data2,tuple):\n",
    "    necdf2_x.append(necdf_data2[0])\n",
    "    necdf2_y.append(necdf_data2[1])\n",
    "else:\n",
    "    for d in necdf_data2:\n",
    "        necdf2_x.append(d[0])\n",
    "        necdf2_y.append(d[1])\n",
    "\n",
    "feat=cdf_h.FixSVFeaturizerList()\n",
    "feats = feat.describe_features()\n",
    "for i in range(len(necdf1_x)):\n",
    "\n",
    "    plt.plot(necdf1_x[i],necdf1_y[i])\n",
    "    plt.plot(necdf2_x[i],necdf2_y[i])\n",
    "    plt.title(feats[i])\n",
    "    plt.show()\n",
    "    plt.close()"
   ]
  },
  {
   "cell_type": "code",
   "execution_count": null,
   "metadata": {},
   "outputs": [],
   "source": [
    "feat=cdf_h.FixSVFeaturizerList()\n",
    "feat.describe_features()"
   ]
  },
  {
   "cell_type": "code",
   "execution_count": 7,
   "metadata": {},
   "outputs": [],
   "source": [
    "import molNet.featurizer.molecule_featurizer as mf\n",
    "from molNet.featurizer.molecule_featurizer import SingleValueMoleculeFeaturizer"
   ]
  },
  {
   "cell_type": "code",
   "execution_count": 8,
   "metadata": {},
   "outputs": [],
   "source": [
    "featurizer=[]\n",
    "for m in dir(mf):\n",
    "    m = getattr(mf,m)\n",
    "    if isinstance(m,type(SingleValueMoleculeFeaturizer)):\n",
    "        if issubclass(m,SingleValueMoleculeFeaturizer):\n",
    "            featurizer.append(m)"
   ]
  },
  {
   "cell_type": "code",
   "execution_count": 9,
   "metadata": {
    "scrolled": true
   },
   "outputs": [
    {
     "name": "stdout",
     "output_type": "stream",
     "text": [
      "from molNet.featurizer._autogen_molecule_featurizer_numeric import Asphericity_Featurizer\n",
      "from molNet.featurizer._autogen_molecule_featurizer_numeric import BCUT2D_CHGHI_Featurizer\n",
      "from molNet.featurizer._autogen_molecule_featurizer_numeric import BCUT2D_CHGLO_Featurizer\n",
      "from molNet.featurizer._autogen_molecule_featurizer_numeric import BCUT2D_LOGPHI_Featurizer\n",
      "from molNet.featurizer._autogen_molecule_featurizer_numeric import BCUT2D_LOGPLOW_Featurizer\n",
      "from molNet.featurizer._autogen_molecule_featurizer_numeric import BCUT2D_MRHI_Featurizer\n",
      "from molNet.featurizer._autogen_molecule_featurizer_numeric import BCUT2D_MRLOW_Featurizer\n",
      "from molNet.featurizer._autogen_molecule_featurizer_numeric import BCUT2D_MWHI_Featurizer\n",
      "from molNet.featurizer._autogen_molecule_featurizer_numeric import BCUT2D_MWLOW_Featurizer\n",
      "from molNet.featurizer._autogen_molecule_featurizer_numeric import BalabanJ_Featurizer\n",
      "from molNet.featurizer._autogen_molecule_featurizer_numeric import BertzCT_Featurizer\n",
      "from molNet.featurizer._autogen_molecule_featurizer_numeric import Chi0_Featurizer\n",
      "from molNet.featurizer._autogen_molecule_featurizer_numeric import Chi0n_Featurizer\n",
      "from molNet.featurizer._autogen_molecule_featurizer_numeric import Chi0v_Featurizer\n",
      "from molNet.featurizer._autogen_molecule_featurizer_numeric import Chi1_Featurizer\n",
      "from molNet.featurizer._autogen_molecule_featurizer_numeric import Chi1n_Featurizer\n",
      "from molNet.featurizer._autogen_molecule_featurizer_numeric import Chi1v_Featurizer\n",
      "from molNet.featurizer._autogen_molecule_featurizer_numeric import Chi2n_Featurizer\n",
      "from molNet.featurizer._autogen_molecule_featurizer_numeric import Chi2v_Featurizer\n",
      "from molNet.featurizer._autogen_molecule_featurizer_numeric import Chi3n_Featurizer\n",
      "from molNet.featurizer._autogen_molecule_featurizer_numeric import Chi3v_Featurizer\n",
      "from molNet.featurizer._autogen_molecule_featurizer_numeric import Chi4n_Featurizer\n",
      "from molNet.featurizer._autogen_molecule_featurizer_numeric import Chi4v_Featurizer\n",
      "from molNet.featurizer._autogen_molecule_featurizer_numeric import EState_VSA10_Featurizer\n",
      "from molNet.featurizer._autogen_molecule_featurizer_numeric import EState_VSA11_Featurizer\n",
      "from molNet.featurizer._autogen_molecule_featurizer_numeric import EState_VSA1_Featurizer\n",
      "from molNet.featurizer._autogen_molecule_featurizer_numeric import EState_VSA2_Featurizer\n",
      "from molNet.featurizer._autogen_molecule_featurizer_numeric import EState_VSA3_Featurizer\n",
      "from molNet.featurizer._autogen_molecule_featurizer_numeric import EState_VSA4_Featurizer\n",
      "from molNet.featurizer._autogen_molecule_featurizer_numeric import EState_VSA5_Featurizer\n",
      "from molNet.featurizer._autogen_molecule_featurizer_numeric import EState_VSA6_Featurizer\n",
      "from molNet.featurizer._autogen_molecule_featurizer_numeric import EState_VSA7_Featurizer\n",
      "from molNet.featurizer._autogen_molecule_featurizer_numeric import EState_VSA8_Featurizer\n",
      "from molNet.featurizer._autogen_molecule_featurizer_numeric import EState_VSA9_Featurizer\n",
      "from molNet.featurizer._autogen_molecule_featurizer_numeric import Eccentricity_Featurizer\n",
      "from molNet.featurizer._autogen_molecule_featurizer_numeric import ExactMolWt_Featurizer\n",
      "from molNet.featurizer._autogen_molecule_featurizer_numeric import FpDensityMorgan1_Featurizer\n",
      "from molNet.featurizer._autogen_molecule_featurizer_numeric import FpDensityMorgan2_Featurizer\n",
      "from molNet.featurizer._autogen_molecule_featurizer_numeric import FpDensityMorgan3_Featurizer\n",
      "from molNet.featurizer._autogen_molecule_featurizer_numeric import FractionCSP3_Featurizer\n",
      "from molNet.featurizer._autogen_molecule_featurizer_numeric import GetFormalCharge_Featurizer\n",
      "from molNet.featurizer._autogen_molecule_featurizer_numeric import GetSSSR_Featurizer\n",
      "from molNet.featurizer._autogen_molecule_featurizer_numeric import HallKierAlpha_Featurizer\n",
      "from molNet.featurizer._autogen_molecule_featurizer_numeric import HeavyAtomCount_Featurizer\n",
      "from molNet.featurizer._autogen_molecule_featurizer_numeric import HeavyAtomMolWt_Featurizer\n",
      "from molNet.featurizer._autogen_molecule_featurizer_numeric import InertialShapeFactor_Featurizer\n",
      "from molNet.featurizer._autogen_molecule_featurizer_numeric import Ipc_Featurizer\n",
      "from molNet.featurizer._autogen_molecule_featurizer_numeric import Kappa1_Featurizer\n",
      "from molNet.featurizer._autogen_molecule_featurizer_numeric import Kappa2_Featurizer\n",
      "from molNet.featurizer._autogen_molecule_featurizer_numeric import Kappa3_Featurizer\n",
      "from molNet.featurizer._autogen_molecule_featurizer_numeric import LabuteASA_Featurizer\n",
      "from molNet.featurizer._autogen_molecule_featurizer_numeric import MaxAbsEStateIndex_Featurizer\n",
      "from molNet.featurizer._autogen_molecule_featurizer_numeric import MaxAbsPartialCharge_Featurizer\n",
      "from molNet.featurizer._autogen_molecule_featurizer_numeric import MaxEStateIndex_Featurizer\n",
      "from molNet.featurizer._autogen_molecule_featurizer_numeric import MaxPartialCharge_Featurizer\n",
      "from molNet.featurizer._autogen_molecule_featurizer_numeric import MinAbsEStateIndex_Featurizer\n",
      "from molNet.featurizer._autogen_molecule_featurizer_numeric import MinAbsPartialCharge_Featurizer\n",
      "from molNet.featurizer._autogen_molecule_featurizer_numeric import MinEStateIndex_Featurizer\n",
      "from molNet.featurizer._autogen_molecule_featurizer_numeric import MinPartialCharge_Featurizer\n",
      "from molNet.featurizer._autogen_molecule_featurizer_numeric import MolLogP_Featurizer\n",
      "from molNet.featurizer._autogen_molecule_featurizer_numeric import MolMR_Featurizer\n",
      "from molNet.featurizer._autogen_molecule_featurizer_numeric import MolWt_Featurizer\n",
      "from molNet.featurizer._autogen_molecule_featurizer_numeric import NHOHCount_Featurizer\n",
      "from molNet.featurizer._autogen_molecule_featurizer_numeric import NOCount_Featurizer\n",
      "from molNet.featurizer._autogen_molecule_featurizer_numeric import NPR1_Featurizer\n",
      "from molNet.featurizer._autogen_molecule_featurizer_numeric import NPR2_Featurizer\n",
      "from molNet.featurizer._autogen_molecule_featurizer_numeric import NumAliphaticCarbocycles_Featurizer\n",
      "from molNet.featurizer._autogen_molecule_featurizer_numeric import NumAliphaticHeterocycles_Featurizer\n",
      "from molNet.featurizer._autogen_molecule_featurizer_numeric import NumAliphaticRings_Featurizer\n",
      "from molNet.featurizer._autogen_molecule_featurizer_numeric import NumAmideBonds_Featurizer\n",
      "from molNet.featurizer._autogen_molecule_featurizer_numeric import NumAromaticCarbocycles_Featurizer\n",
      "from molNet.featurizer._autogen_molecule_featurizer_numeric import NumAromaticHeterocycles_Featurizer\n",
      "from molNet.featurizer._autogen_molecule_featurizer_numeric import NumAromaticRings_Featurizer\n",
      "from molNet.featurizer.molecule_featurizer import NumAtomsFeaturizer\n",
      "from molNet.featurizer.molecule_featurizer import NumBondsFeaturizer\n",
      "from molNet.featurizer._autogen_molecule_featurizer_numeric import NumBridgeheadAtoms_Featurizer\n",
      "from molNet.featurizer.molecule_featurizer import NumFragmentsFeaturizer\n",
      "from molNet.featurizer._autogen_molecule_featurizer_numeric import NumHAcceptors_Featurizer\n",
      "from molNet.featurizer._autogen_molecule_featurizer_numeric import NumHBA_Featurizer\n",
      "from molNet.featurizer._autogen_molecule_featurizer_numeric import NumHBD_Featurizer\n",
      "from molNet.featurizer._autogen_molecule_featurizer_numeric import NumHDonors_Featurizer\n",
      "from molNet.featurizer._autogen_molecule_featurizer_numeric import NumHeteroatoms_Featurizer\n",
      "from molNet.featurizer._autogen_molecule_featurizer_numeric import NumHeterocycles_Featurizer\n",
      "from molNet.featurizer._autogen_molecule_featurizer_numeric import NumLipinskiHBA_Featurizer\n",
      "from molNet.featurizer._autogen_molecule_featurizer_numeric import NumLipinskiHBD_Featurizer\n",
      "from molNet.featurizer._autogen_molecule_featurizer_numeric import NumRadicalElectrons_Featurizer\n",
      "from molNet.featurizer._autogen_molecule_featurizer_numeric import NumRings_Featurizer\n",
      "from molNet.featurizer._autogen_molecule_featurizer_numeric import NumRotatableBonds_Featurizer\n",
      "from molNet.featurizer._autogen_molecule_featurizer_numeric import NumSaturatedCarbocycles_Featurizer\n",
      "from molNet.featurizer._autogen_molecule_featurizer_numeric import NumSaturatedHeterocycles_Featurizer\n",
      "from molNet.featurizer._autogen_molecule_featurizer_numeric import NumSaturatedRings_Featurizer\n",
      "from molNet.featurizer._autogen_molecule_featurizer_numeric import NumSpiroAtoms_Featurizer\n",
      "from molNet.featurizer._autogen_molecule_featurizer_numeric import NumValenceElectrons_Featurizer\n",
      "from molNet.featurizer._autogen_molecule_featurizer_numeric import PBF_Featurizer\n",
      "from molNet.featurizer._autogen_molecule_featurizer_numeric import PEOE_VSA10_Featurizer\n",
      "from molNet.featurizer._autogen_molecule_featurizer_numeric import PEOE_VSA11_Featurizer\n",
      "from molNet.featurizer._autogen_molecule_featurizer_numeric import PEOE_VSA12_Featurizer\n",
      "from molNet.featurizer._autogen_molecule_featurizer_numeric import PEOE_VSA13_Featurizer\n",
      "from molNet.featurizer._autogen_molecule_featurizer_numeric import PEOE_VSA14_Featurizer\n",
      "from molNet.featurizer._autogen_molecule_featurizer_numeric import PEOE_VSA1_Featurizer\n",
      "from molNet.featurizer._autogen_molecule_featurizer_numeric import PEOE_VSA2_Featurizer\n",
      "from molNet.featurizer._autogen_molecule_featurizer_numeric import PEOE_VSA3_Featurizer\n",
      "from molNet.featurizer._autogen_molecule_featurizer_numeric import PEOE_VSA4_Featurizer\n",
      "from molNet.featurizer._autogen_molecule_featurizer_numeric import PEOE_VSA5_Featurizer\n",
      "from molNet.featurizer._autogen_molecule_featurizer_numeric import PEOE_VSA6_Featurizer\n",
      "from molNet.featurizer._autogen_molecule_featurizer_numeric import PEOE_VSA7_Featurizer\n",
      "from molNet.featurizer._autogen_molecule_featurizer_numeric import PEOE_VSA8_Featurizer\n",
      "from molNet.featurizer._autogen_molecule_featurizer_numeric import PEOE_VSA9_Featurizer\n",
      "from molNet.featurizer._autogen_molecule_featurizer_numeric import PMI1_Featurizer\n",
      "from molNet.featurizer._autogen_molecule_featurizer_numeric import PMI2_Featurizer\n",
      "from molNet.featurizer._autogen_molecule_featurizer_numeric import PMI3_Featurizer\n",
      "from molNet.featurizer._autogen_molecule_featurizer_numeric import Phi_Featurizer\n",
      "from molNet.featurizer._autogen_molecule_featurizer_numeric import RadiusOfGyration_Featurizer\n",
      "from molNet.featurizer._autogen_molecule_featurizer_numeric import RingCount_Featurizer\n",
      "from molNet.featurizer._autogen_molecule_featurizer_numeric import SMR_VSA10_Featurizer\n",
      "from molNet.featurizer._autogen_molecule_featurizer_numeric import SMR_VSA1_Featurizer\n",
      "from molNet.featurizer._autogen_molecule_featurizer_numeric import SMR_VSA2_Featurizer\n",
      "from molNet.featurizer._autogen_molecule_featurizer_numeric import SMR_VSA3_Featurizer\n",
      "from molNet.featurizer._autogen_molecule_featurizer_numeric import SMR_VSA4_Featurizer\n",
      "from molNet.featurizer._autogen_molecule_featurizer_numeric import SMR_VSA5_Featurizer\n",
      "from molNet.featurizer._autogen_molecule_featurizer_numeric import SMR_VSA6_Featurizer\n",
      "from molNet.featurizer._autogen_molecule_featurizer_numeric import SMR_VSA7_Featurizer\n",
      "from molNet.featurizer._autogen_molecule_featurizer_numeric import SMR_VSA8_Featurizer\n",
      "from molNet.featurizer._autogen_molecule_featurizer_numeric import SMR_VSA9_Featurizer\n",
      "from molNet.featurizer._molecule_featurizer import SingleValueMoleculeFeaturizer\n",
      "from molNet.featurizer._autogen_molecule_featurizer_numeric import SlogP_VSA10_Featurizer\n",
      "from molNet.featurizer._autogen_molecule_featurizer_numeric import SlogP_VSA11_Featurizer\n",
      "from molNet.featurizer._autogen_molecule_featurizer_numeric import SlogP_VSA12_Featurizer\n",
      "from molNet.featurizer._autogen_molecule_featurizer_numeric import SlogP_VSA1_Featurizer\n",
      "from molNet.featurizer._autogen_molecule_featurizer_numeric import SlogP_VSA2_Featurizer\n",
      "from molNet.featurizer._autogen_molecule_featurizer_numeric import SlogP_VSA3_Featurizer\n",
      "from molNet.featurizer._autogen_molecule_featurizer_numeric import SlogP_VSA4_Featurizer\n",
      "from molNet.featurizer._autogen_molecule_featurizer_numeric import SlogP_VSA5_Featurizer\n",
      "from molNet.featurizer._autogen_molecule_featurizer_numeric import SlogP_VSA6_Featurizer\n",
      "from molNet.featurizer._autogen_molecule_featurizer_numeric import SlogP_VSA7_Featurizer\n",
      "from molNet.featurizer._autogen_molecule_featurizer_numeric import SlogP_VSA8_Featurizer\n",
      "from molNet.featurizer._autogen_molecule_featurizer_numeric import SlogP_VSA9_Featurizer\n",
      "from molNet.featurizer._autogen_molecule_featurizer_numeric import SpherocityIndex_Featurizer\n",
      "from molNet.featurizer._autogen_molecule_featurizer_numeric import TPSA_Featurizer\n",
      "from molNet.featurizer._autogen_molecule_featurizer_numeric import VSA_EState10_Featurizer\n",
      "from molNet.featurizer._autogen_molecule_featurizer_numeric import VSA_EState1_Featurizer\n",
      "from molNet.featurizer._autogen_molecule_featurizer_numeric import VSA_EState2_Featurizer\n",
      "from molNet.featurizer._autogen_molecule_featurizer_numeric import VSA_EState3_Featurizer\n",
      "from molNet.featurizer._autogen_molecule_featurizer_numeric import VSA_EState4_Featurizer\n",
      "from molNet.featurizer._autogen_molecule_featurizer_numeric import VSA_EState5_Featurizer\n",
      "from molNet.featurizer._autogen_molecule_featurizer_numeric import VSA_EState6_Featurizer\n",
      "from molNet.featurizer._autogen_molecule_featurizer_numeric import VSA_EState7_Featurizer\n",
      "from molNet.featurizer._autogen_molecule_featurizer_numeric import VSA_EState8_Featurizer\n",
      "from molNet.featurizer._autogen_molecule_featurizer_numeric import VSA_EState9_Featurizer\n",
      "from molNet.featurizer._autogen_molecule_featurizer_numeric import fr_Al_COO_Featurizer\n",
      "from molNet.featurizer._autogen_molecule_featurizer_numeric import fr_Al_OH_Featurizer\n",
      "from molNet.featurizer._autogen_molecule_featurizer_numeric import fr_Al_OH_noTert_Featurizer\n",
      "from molNet.featurizer._autogen_molecule_featurizer_numeric import fr_ArN_Featurizer\n",
      "from molNet.featurizer._autogen_molecule_featurizer_numeric import fr_Ar_COO_Featurizer\n",
      "from molNet.featurizer._autogen_molecule_featurizer_numeric import fr_Ar_NH_Featurizer\n",
      "from molNet.featurizer._autogen_molecule_featurizer_numeric import fr_Ar_N_Featurizer\n",
      "from molNet.featurizer._autogen_molecule_featurizer_numeric import fr_Ar_OH_Featurizer\n",
      "from molNet.featurizer._autogen_molecule_featurizer_numeric import fr_COO2_Featurizer\n",
      "from molNet.featurizer._autogen_molecule_featurizer_numeric import fr_COO_Featurizer\n",
      "from molNet.featurizer._autogen_molecule_featurizer_numeric import fr_C_O_Featurizer\n",
      "from molNet.featurizer._autogen_molecule_featurizer_numeric import fr_C_O_noCOO_Featurizer\n",
      "from molNet.featurizer._autogen_molecule_featurizer_numeric import fr_C_S_Featurizer\n",
      "from molNet.featurizer._autogen_molecule_featurizer_numeric import fr_HOCCN_Featurizer\n",
      "from molNet.featurizer._autogen_molecule_featurizer_numeric import fr_Imine_Featurizer\n",
      "from molNet.featurizer._autogen_molecule_featurizer_numeric import fr_NH0_Featurizer\n",
      "from molNet.featurizer._autogen_molecule_featurizer_numeric import fr_NH1_Featurizer\n",
      "from molNet.featurizer._autogen_molecule_featurizer_numeric import fr_NH2_Featurizer\n",
      "from molNet.featurizer._autogen_molecule_featurizer_numeric import fr_N_O_Featurizer\n",
      "from molNet.featurizer._autogen_molecule_featurizer_numeric import fr_Ndealkylation1_Featurizer\n",
      "from molNet.featurizer._autogen_molecule_featurizer_numeric import fr_Ndealkylation2_Featurizer\n",
      "from molNet.featurizer._autogen_molecule_featurizer_numeric import fr_Nhpyrrole_Featurizer\n",
      "from molNet.featurizer._autogen_molecule_featurizer_numeric import fr_SH_Featurizer\n",
      "from molNet.featurizer._autogen_molecule_featurizer_numeric import fr_aldehyde_Featurizer\n",
      "from molNet.featurizer._autogen_molecule_featurizer_numeric import fr_alkyl_carbamate_Featurizer\n",
      "from molNet.featurizer._autogen_molecule_featurizer_numeric import fr_alkyl_halide_Featurizer\n",
      "from molNet.featurizer._autogen_molecule_featurizer_numeric import fr_allylic_oxid_Featurizer\n",
      "from molNet.featurizer._autogen_molecule_featurizer_numeric import fr_amide_Featurizer\n",
      "from molNet.featurizer._autogen_molecule_featurizer_numeric import fr_amidine_Featurizer\n",
      "from molNet.featurizer._autogen_molecule_featurizer_numeric import fr_aniline_Featurizer\n",
      "from molNet.featurizer._autogen_molecule_featurizer_numeric import fr_aryl_methyl_Featurizer\n",
      "from molNet.featurizer._autogen_molecule_featurizer_numeric import fr_azide_Featurizer\n",
      "from molNet.featurizer._autogen_molecule_featurizer_numeric import fr_azo_Featurizer\n",
      "from molNet.featurizer._autogen_molecule_featurizer_numeric import fr_barbitur_Featurizer\n",
      "from molNet.featurizer._autogen_molecule_featurizer_numeric import fr_benzene_Featurizer\n",
      "from molNet.featurizer._autogen_molecule_featurizer_numeric import fr_benzodiazepine_Featurizer\n",
      "from molNet.featurizer._autogen_molecule_featurizer_numeric import fr_bicyclic_Featurizer\n",
      "from molNet.featurizer._autogen_molecule_featurizer_numeric import fr_diazo_Featurizer\n",
      "from molNet.featurizer._autogen_molecule_featurizer_numeric import fr_dihydropyridine_Featurizer\n",
      "from molNet.featurizer._autogen_molecule_featurizer_numeric import fr_epoxide_Featurizer\n",
      "from molNet.featurizer._autogen_molecule_featurizer_numeric import fr_ester_Featurizer\n",
      "from molNet.featurizer._autogen_molecule_featurizer_numeric import fr_ether_Featurizer\n",
      "from molNet.featurizer._autogen_molecule_featurizer_numeric import fr_furan_Featurizer\n",
      "from molNet.featurizer._autogen_molecule_featurizer_numeric import fr_guanido_Featurizer\n",
      "from molNet.featurizer._autogen_molecule_featurizer_numeric import fr_halogen_Featurizer\n",
      "from molNet.featurizer._autogen_molecule_featurizer_numeric import fr_hdrzine_Featurizer\n",
      "from molNet.featurizer._autogen_molecule_featurizer_numeric import fr_hdrzone_Featurizer\n",
      "from molNet.featurizer._autogen_molecule_featurizer_numeric import fr_imidazole_Featurizer\n",
      "from molNet.featurizer._autogen_molecule_featurizer_numeric import fr_imide_Featurizer\n",
      "from molNet.featurizer._autogen_molecule_featurizer_numeric import fr_isocyan_Featurizer\n",
      "from molNet.featurizer._autogen_molecule_featurizer_numeric import fr_isothiocyan_Featurizer\n",
      "from molNet.featurizer._autogen_molecule_featurizer_numeric import fr_ketone_Featurizer\n",
      "from molNet.featurizer._autogen_molecule_featurizer_numeric import fr_ketone_Topliss_Featurizer\n",
      "from molNet.featurizer._autogen_molecule_featurizer_numeric import fr_lactam_Featurizer\n",
      "from molNet.featurizer._autogen_molecule_featurizer_numeric import fr_lactone_Featurizer\n",
      "from molNet.featurizer._autogen_molecule_featurizer_numeric import fr_methoxy_Featurizer\n",
      "from molNet.featurizer._autogen_molecule_featurizer_numeric import fr_morpholine_Featurizer\n",
      "from molNet.featurizer._autogen_molecule_featurizer_numeric import fr_nitrile_Featurizer\n",
      "from molNet.featurizer._autogen_molecule_featurizer_numeric import fr_nitro_Featurizer\n",
      "from molNet.featurizer._autogen_molecule_featurizer_numeric import fr_nitro_arom_Featurizer\n",
      "from molNet.featurizer._autogen_molecule_featurizer_numeric import fr_nitro_arom_nonortho_Featurizer\n",
      "from molNet.featurizer._autogen_molecule_featurizer_numeric import fr_nitroso_Featurizer\n",
      "from molNet.featurizer._autogen_molecule_featurizer_numeric import fr_oxazole_Featurizer\n",
      "from molNet.featurizer._autogen_molecule_featurizer_numeric import fr_oxime_Featurizer\n",
      "from molNet.featurizer._autogen_molecule_featurizer_numeric import fr_para_hydroxylation_Featurizer\n",
      "from molNet.featurizer._autogen_molecule_featurizer_numeric import fr_phenol_Featurizer\n",
      "from molNet.featurizer._autogen_molecule_featurizer_numeric import fr_phenol_noOrthoHbond_Featurizer\n",
      "from molNet.featurizer._autogen_molecule_featurizer_numeric import fr_phos_acid_Featurizer\n",
      "from molNet.featurizer._autogen_molecule_featurizer_numeric import fr_phos_ester_Featurizer\n",
      "from molNet.featurizer._autogen_molecule_featurizer_numeric import fr_piperdine_Featurizer\n",
      "from molNet.featurizer._autogen_molecule_featurizer_numeric import fr_piperzine_Featurizer\n",
      "from molNet.featurizer._autogen_molecule_featurizer_numeric import fr_priamide_Featurizer\n",
      "from molNet.featurizer._autogen_molecule_featurizer_numeric import fr_prisulfonamd_Featurizer\n",
      "from molNet.featurizer._autogen_molecule_featurizer_numeric import fr_pyridine_Featurizer\n",
      "from molNet.featurizer._autogen_molecule_featurizer_numeric import fr_quatN_Featurizer\n",
      "from molNet.featurizer._autogen_molecule_featurizer_numeric import fr_sulfide_Featurizer\n",
      "from molNet.featurizer._autogen_molecule_featurizer_numeric import fr_sulfonamd_Featurizer\n",
      "from molNet.featurizer._autogen_molecule_featurizer_numeric import fr_sulfone_Featurizer\n",
      "from molNet.featurizer._autogen_molecule_featurizer_numeric import fr_term_acetylene_Featurizer\n",
      "from molNet.featurizer._autogen_molecule_featurizer_numeric import fr_tetrazole_Featurizer\n",
      "from molNet.featurizer._autogen_molecule_featurizer_numeric import fr_thiazole_Featurizer\n",
      "from molNet.featurizer._autogen_molecule_featurizer_numeric import fr_thiocyan_Featurizer\n",
      "from molNet.featurizer._autogen_molecule_featurizer_numeric import fr_thiophene_Featurizer\n",
      "from molNet.featurizer._autogen_molecule_featurizer_numeric import fr_unbrch_alkane_Featurizer\n",
      "from molNet.featurizer._autogen_molecule_featurizer_numeric import fr_urea_Featurizer\n",
      "from molNet.featurizer._autogen_molecule_featurizer_numeric import qed_Featurizer\n"
     ]
    }
   ],
   "source": [
    "for m  in featurizer:\n",
    "    print(\"from\",m.__module__,\"import\",m.__name__)"
   ]
  },
  {
   "cell_type": "code",
   "execution_count": 10,
   "metadata": {},
   "outputs": [
    {
     "data": {
      "text/plain": [
       "'Asphericity_Featurizer, BCUT2D_CHGHI_Featurizer, BCUT2D_CHGLO_Featurizer, BCUT2D_LOGPHI_Featurizer, BCUT2D_LOGPLOW_Featurizer, BCUT2D_MRHI_Featurizer, BCUT2D_MRLOW_Featurizer, BCUT2D_MWHI_Featurizer, BCUT2D_MWLOW_Featurizer, BalabanJ_Featurizer, BertzCT_Featurizer, Chi0_Featurizer, Chi0n_Featurizer, Chi0v_Featurizer, Chi1_Featurizer, Chi1n_Featurizer, Chi1v_Featurizer, Chi2n_Featurizer, Chi2v_Featurizer, Chi3n_Featurizer, Chi3v_Featurizer, Chi4n_Featurizer, Chi4v_Featurizer, EState_VSA10_Featurizer, EState_VSA11_Featurizer, EState_VSA1_Featurizer, EState_VSA2_Featurizer, EState_VSA3_Featurizer, EState_VSA4_Featurizer, EState_VSA5_Featurizer, EState_VSA6_Featurizer, EState_VSA7_Featurizer, EState_VSA8_Featurizer, EState_VSA9_Featurizer, Eccentricity_Featurizer, ExactMolWt_Featurizer, FpDensityMorgan1_Featurizer, FpDensityMorgan2_Featurizer, FpDensityMorgan3_Featurizer, FractionCSP3_Featurizer, GetFormalCharge_Featurizer, GetSSSR_Featurizer, HallKierAlpha_Featurizer, HeavyAtomCount_Featurizer, HeavyAtomMolWt_Featurizer, InertialShapeFactor_Featurizer, Ipc_Featurizer, Kappa1_Featurizer, Kappa2_Featurizer, Kappa3_Featurizer, LabuteASA_Featurizer, MaxAbsEStateIndex_Featurizer, MaxAbsPartialCharge_Featurizer, MaxEStateIndex_Featurizer, MaxPartialCharge_Featurizer, MinAbsEStateIndex_Featurizer, MinAbsPartialCharge_Featurizer, MinEStateIndex_Featurizer, MinPartialCharge_Featurizer, MolLogP_Featurizer, MolMR_Featurizer, MolWt_Featurizer, NHOHCount_Featurizer, NOCount_Featurizer, NPR1_Featurizer, NPR2_Featurizer, NumAliphaticCarbocycles_Featurizer, NumAliphaticHeterocycles_Featurizer, NumAliphaticRings_Featurizer, NumAmideBonds_Featurizer, NumAromaticCarbocycles_Featurizer, NumAromaticHeterocycles_Featurizer, NumAromaticRings_Featurizer, NumAtomsFeaturizer, NumBondsFeaturizer, NumBridgeheadAtoms_Featurizer, NumFragmentsFeaturizer, NumHAcceptors_Featurizer, NumHBA_Featurizer, NumHBD_Featurizer, NumHDonors_Featurizer, NumHeteroatoms_Featurizer, NumHeterocycles_Featurizer, NumLipinskiHBA_Featurizer, NumLipinskiHBD_Featurizer, NumRadicalElectrons_Featurizer, NumRings_Featurizer, NumRotatableBonds_Featurizer, NumSaturatedCarbocycles_Featurizer, NumSaturatedHeterocycles_Featurizer, NumSaturatedRings_Featurizer, NumSpiroAtoms_Featurizer, NumValenceElectrons_Featurizer, PBF_Featurizer, PEOE_VSA10_Featurizer, PEOE_VSA11_Featurizer, PEOE_VSA12_Featurizer, PEOE_VSA13_Featurizer, PEOE_VSA14_Featurizer, PEOE_VSA1_Featurizer, PEOE_VSA2_Featurizer, PEOE_VSA3_Featurizer, PEOE_VSA4_Featurizer, PEOE_VSA5_Featurizer, PEOE_VSA6_Featurizer, PEOE_VSA7_Featurizer, PEOE_VSA8_Featurizer, PEOE_VSA9_Featurizer, PMI1_Featurizer, PMI2_Featurizer, PMI3_Featurizer, Phi_Featurizer, RadiusOfGyration_Featurizer, RingCount_Featurizer, SMR_VSA10_Featurizer, SMR_VSA1_Featurizer, SMR_VSA2_Featurizer, SMR_VSA3_Featurizer, SMR_VSA4_Featurizer, SMR_VSA5_Featurizer, SMR_VSA6_Featurizer, SMR_VSA7_Featurizer, SMR_VSA8_Featurizer, SMR_VSA9_Featurizer, SingleValueMoleculeFeaturizer, SlogP_VSA10_Featurizer, SlogP_VSA11_Featurizer, SlogP_VSA12_Featurizer, SlogP_VSA1_Featurizer, SlogP_VSA2_Featurizer, SlogP_VSA3_Featurizer, SlogP_VSA4_Featurizer, SlogP_VSA5_Featurizer, SlogP_VSA6_Featurizer, SlogP_VSA7_Featurizer, SlogP_VSA8_Featurizer, SlogP_VSA9_Featurizer, SpherocityIndex_Featurizer, TPSA_Featurizer, VSA_EState10_Featurizer, VSA_EState1_Featurizer, VSA_EState2_Featurizer, VSA_EState3_Featurizer, VSA_EState4_Featurizer, VSA_EState5_Featurizer, VSA_EState6_Featurizer, VSA_EState7_Featurizer, VSA_EState8_Featurizer, VSA_EState9_Featurizer, fr_Al_COO_Featurizer, fr_Al_OH_Featurizer, fr_Al_OH_noTert_Featurizer, fr_ArN_Featurizer, fr_Ar_COO_Featurizer, fr_Ar_NH_Featurizer, fr_Ar_N_Featurizer, fr_Ar_OH_Featurizer, fr_COO2_Featurizer, fr_COO_Featurizer, fr_C_O_Featurizer, fr_C_O_noCOO_Featurizer, fr_C_S_Featurizer, fr_HOCCN_Featurizer, fr_Imine_Featurizer, fr_NH0_Featurizer, fr_NH1_Featurizer, fr_NH2_Featurizer, fr_N_O_Featurizer, fr_Ndealkylation1_Featurizer, fr_Ndealkylation2_Featurizer, fr_Nhpyrrole_Featurizer, fr_SH_Featurizer, fr_aldehyde_Featurizer, fr_alkyl_carbamate_Featurizer, fr_alkyl_halide_Featurizer, fr_allylic_oxid_Featurizer, fr_amide_Featurizer, fr_amidine_Featurizer, fr_aniline_Featurizer, fr_aryl_methyl_Featurizer, fr_azide_Featurizer, fr_azo_Featurizer, fr_barbitur_Featurizer, fr_benzene_Featurizer, fr_benzodiazepine_Featurizer, fr_bicyclic_Featurizer, fr_diazo_Featurizer, fr_dihydropyridine_Featurizer, fr_epoxide_Featurizer, fr_ester_Featurizer, fr_ether_Featurizer, fr_furan_Featurizer, fr_guanido_Featurizer, fr_halogen_Featurizer, fr_hdrzine_Featurizer, fr_hdrzone_Featurizer, fr_imidazole_Featurizer, fr_imide_Featurizer, fr_isocyan_Featurizer, fr_isothiocyan_Featurizer, fr_ketone_Featurizer, fr_ketone_Topliss_Featurizer, fr_lactam_Featurizer, fr_lactone_Featurizer, fr_methoxy_Featurizer, fr_morpholine_Featurizer, fr_nitrile_Featurizer, fr_nitro_Featurizer, fr_nitro_arom_Featurizer, fr_nitro_arom_nonortho_Featurizer, fr_nitroso_Featurizer, fr_oxazole_Featurizer, fr_oxime_Featurizer, fr_para_hydroxylation_Featurizer, fr_phenol_Featurizer, fr_phenol_noOrthoHbond_Featurizer, fr_phos_acid_Featurizer, fr_phos_ester_Featurizer, fr_piperdine_Featurizer, fr_piperzine_Featurizer, fr_priamide_Featurizer, fr_prisulfonamd_Featurizer, fr_pyridine_Featurizer, fr_quatN_Featurizer, fr_sulfide_Featurizer, fr_sulfonamd_Featurizer, fr_sulfone_Featurizer, fr_term_acetylene_Featurizer, fr_tetrazole_Featurizer, fr_thiazole_Featurizer, fr_thiocyan_Featurizer, fr_thiophene_Featurizer, fr_unbrch_alkane_Featurizer, fr_urea_Featurizer, qed_Featurizer'"
      ]
     },
     "execution_count": 10,
     "metadata": {},
     "output_type": "execute_result"
    }
   ],
   "source": [
    "\", \".join([m.__name__ for m  in featurizer])"
   ]
  },
  {
   "cell_type": "code",
   "execution_count": 1,
   "metadata": {},
   "outputs": [
    {
     "data": {
      "text/plain": [
       "FeatureList(AsphericityFeaturizer,BCUT2D_CHGHIFeaturizer,BCUT2D_CHGLOFeaturizer,BCUT2D_LOGPHIFeaturizer,BCUT2D_LOGPLOWFeaturizer,BCUT2D_MRHIFeaturizer,BCUT2D_MRLOWFeaturizer,BCUT2D_MWHIFeaturizer,BCUT2D_MWLOWFeaturizer,BalabanJFeaturizer,BertzCTFeaturizer,Chi0Featurizer,Chi0nFeaturizer,Chi0vFeaturizer,Chi1Featurizer,Chi1nFeaturizer,Chi1vFeaturizer,Chi2nFeaturizer,Chi2vFeaturizer,Chi3nFeaturizer,Chi3vFeaturizer,Chi4nFeaturizer,Chi4vFeaturizer,EState_VSA10Featurizer,EState_VSA11Featurizer,EState_VSA1Featurizer,EState_VSA2Featurizer,EState_VSA3Featurizer,EState_VSA4Featurizer,EState_VSA5Featurizer,EState_VSA6Featurizer,EState_VSA7Featurizer,EState_VSA8Featurizer,EState_VSA9Featurizer,EccentricityFeaturizer,ExactMolWtFeaturizer,FpDensityMorgan1Featurizer,FpDensityMorgan2Featurizer,FpDensityMorgan3Featurizer,FractionCSP3Featurizer,GetFormalChargeFeaturizer,GetSSSRFeaturizer,HallKierAlphaFeaturizer,HeavyAtomCountFeaturizer,HeavyAtomMolWtFeaturizer,InertialShapeFactorFeaturizer,IpcFeaturizer,Kappa1Featurizer,Kappa2Featurizer,Kappa3Featurizer,LabuteASAFeaturizer,MaxAbsEStateIndexFeaturizer,MaxAbsPartialChargeFeaturizer,MaxEStateIndexFeaturizer,MaxPartialChargeFeaturizer,MinAbsEStateIndexFeaturizer,MinAbsPartialChargeFeaturizer,MinEStateIndexFeaturizer,MinPartialChargeFeaturizer,MolLogPFeaturizer,MolMRFeaturizer,MolWtFeaturizer,NHOHCountFeaturizer,NOCountFeaturizer,NPR1Featurizer,NPR2Featurizer,NumAliphaticCarbocyclesFeaturizer,NumAliphaticHeterocyclesFeaturizer,NumAliphaticRingsFeaturizer,NumAmideBondsFeaturizer,NumAromaticCarbocyclesFeaturizer,NumAromaticHeterocyclesFeaturizer,NumAromaticRingsFeaturizer,NumAtomStereoCentersFeaturizer,NumAtomsFeaturizer,NumBondsFeaturizer,NumBridgeheadAtomsFeaturizer,NumFragmentsFeaturizer,NumHAcceptorsFeaturizer,NumHBAFeaturizer,NumHBDFeaturizer,NumHDonorsFeaturizer,NumHeteroatomsFeaturizer,NumHeterocyclesFeaturizer,NumLipinskiHBAFeaturizer,NumLipinskiHBDFeaturizer,NumRadicalElectronsFeaturizer,NumRingsFeaturizer,NumRotatableBondsFeaturizer,NumSaturatedCarbocyclesFeaturizer,NumSaturatedHeterocyclesFeaturizer,NumSaturatedRingsFeaturizer,NumSpiroAtomsFeaturizer,NumUnspecifiedAtomStereoCentersFeaturizer,NumValenceElectronsFeaturizer,PBFFeaturizer,PEOE_VSA10Featurizer,PEOE_VSA11Featurizer,PEOE_VSA12Featurizer,PEOE_VSA13Featurizer,PEOE_VSA14Featurizer,PEOE_VSA1Featurizer,PEOE_VSA2Featurizer,PEOE_VSA3Featurizer,PEOE_VSA4Featurizer,PEOE_VSA5Featurizer,PEOE_VSA6Featurizer,PEOE_VSA7Featurizer,PEOE_VSA8Featurizer,PEOE_VSA9Featurizer,PMI1Featurizer,PMI2Featurizer,PMI3Featurizer,RadiusOfGyrationFeaturizer,RingCountFeaturizer,SMR_VSA10Featurizer,SMR_VSA1Featurizer,SMR_VSA2Featurizer,SMR_VSA3Featurizer,SMR_VSA4Featurizer,SMR_VSA5Featurizer,SMR_VSA6Featurizer,SMR_VSA7Featurizer,SMR_VSA8Featurizer,SMR_VSA9Featurizer,SingleValueMoleculeFeaturizer,SlogP_VSA10Featurizer,SlogP_VSA11Featurizer,SlogP_VSA12Featurizer,SlogP_VSA1Featurizer,SlogP_VSA2Featurizer,SlogP_VSA3Featurizer,SlogP_VSA4Featurizer,SlogP_VSA5Featurizer,SlogP_VSA6Featurizer,SlogP_VSA7Featurizer,SlogP_VSA8Featurizer,SlogP_VSA9Featurizer,SpherocityIndexFeaturizer,TPSAFeaturizer,VSA_EState10Featurizer,VSA_EState1Featurizer,VSA_EState2Featurizer,VSA_EState3Featurizer,VSA_EState4Featurizer,VSA_EState5Featurizer,VSA_EState6Featurizer,VSA_EState7Featurizer,VSA_EState8Featurizer,VSA_EState9Featurizer,fr_Al_COOFeaturizer,fr_Al_OHFeaturizer,fr_Al_OH_noTertFeaturizer,fr_ArNFeaturizer,fr_Ar_COOFeaturizer,fr_Ar_NFeaturizer,fr_Ar_NHFeaturizer,fr_Ar_OHFeaturizer,fr_COO2Featurizer,fr_COOFeaturizer,fr_C_OFeaturizer,fr_C_O_noCOOFeaturizer,fr_C_SFeaturizer,fr_HOCCNFeaturizer,fr_ImineFeaturizer,fr_NH0Featurizer,fr_NH1Featurizer,fr_NH2Featurizer,fr_N_OFeaturizer,fr_Ndealkylation1Featurizer,fr_Ndealkylation2Featurizer,fr_NhpyrroleFeaturizer,fr_SHFeaturizer,fr_aldehydeFeaturizer,fr_alkyl_carbamateFeaturizer,fr_alkyl_halideFeaturizer,fr_allylic_oxidFeaturizer,fr_amideFeaturizer,fr_amidineFeaturizer,fr_anilineFeaturizer,fr_aryl_methylFeaturizer,fr_azideFeaturizer,fr_azoFeaturizer,fr_barbiturFeaturizer,fr_benzeneFeaturizer,fr_benzodiazepineFeaturizer,fr_bicyclicFeaturizer,fr_diazoFeaturizer,fr_dihydropyridineFeaturizer,fr_epoxideFeaturizer,fr_esterFeaturizer,fr_etherFeaturizer,fr_furanFeaturizer,fr_guanidoFeaturizer,fr_halogenFeaturizer,fr_hdrzineFeaturizer,fr_hdrzoneFeaturizer,fr_imidazoleFeaturizer,fr_imideFeaturizer,fr_isocyanFeaturizer,fr_isothiocyanFeaturizer,fr_ketoneFeaturizer,fr_ketone_ToplissFeaturizer,fr_lactamFeaturizer,fr_lactoneFeaturizer,fr_methoxyFeaturizer,fr_morpholineFeaturizer,fr_nitrileFeaturizer,fr_nitroFeaturizer,fr_nitro_aromFeaturizer,fr_nitro_arom_nonorthoFeaturizer,fr_nitrosoFeaturizer,fr_oxazoleFeaturizer,fr_oximeFeaturizer,fr_para_hydroxylationFeaturizer,fr_phenolFeaturizer,fr_phenol_noOrthoHbondFeaturizer,fr_phos_acidFeaturizer,fr_phos_esterFeaturizer,fr_piperdineFeaturizer,fr_piperzineFeaturizer,fr_priamideFeaturizer,fr_prisulfonamdFeaturizer,fr_pyridineFeaturizer,fr_quatNFeaturizer,fr_sulfideFeaturizer,fr_sulfonamdFeaturizer,fr_sulfoneFeaturizer,fr_term_acetyleneFeaturizer,fr_tetrazoleFeaturizer,fr_thiazoleFeaturizer,fr_thiocyanFeaturizer,fr_thiopheneFeaturizer,fr_unbrch_alkaneFeaturizer,fr_ureaFeaturizer,qedFeaturizer)(AsphericityFeaturizer,BCUT2D_CHGHIFeaturizer,BCUT2D_CHGLOFeaturizer,BCUT2D_LOGPHIFeaturizer,BCUT2D_LOGPLOWFeaturizer,BCUT2D_MRHIFeaturizer,BCUT2D_MRLOWFeaturizer,BCUT2D_MWHIFeaturizer,BCUT2D_MWLOWFeaturizer,BalabanJFeaturizer,BertzCTFeaturizer,Chi0Featurizer,Chi0nFeaturizer,Chi0vFeaturizer,Chi1Featurizer,Chi1nFeaturizer,Chi1vFeaturizer,Chi2nFeaturizer,Chi2vFeaturizer,Chi3nFeaturizer,Chi3vFeaturizer,Chi4nFeaturizer,Chi4vFeaturizer,EState_VSA10Featurizer,EState_VSA11Featurizer,EState_VSA1Featurizer,EState_VSA2Featurizer,EState_VSA3Featurizer,EState_VSA4Featurizer,EState_VSA5Featurizer,EState_VSA6Featurizer,EState_VSA7Featurizer,EState_VSA8Featurizer,EState_VSA9Featurizer,EccentricityFeaturizer,ExactMolWtFeaturizer,FpDensityMorgan1Featurizer,FpDensityMorgan2Featurizer,FpDensityMorgan3Featurizer,FractionCSP3Featurizer,GetFormalChargeFeaturizer,GetSSSRFeaturizer,HallKierAlphaFeaturizer,HeavyAtomCountFeaturizer,HeavyAtomMolWtFeaturizer,InertialShapeFactorFeaturizer,IpcFeaturizer,Kappa1Featurizer,Kappa2Featurizer,Kappa3Featurizer,LabuteASAFeaturizer,MaxAbsEStateIndexFeaturizer,MaxAbsPartialChargeFeaturizer,MaxEStateIndexFeaturizer,MaxPartialChargeFeaturizer,MinAbsEStateIndexFeaturizer,MinAbsPartialChargeFeaturizer,MinEStateIndexFeaturizer,MinPartialChargeFeaturizer,MolLogPFeaturizer,MolMRFeaturizer,MolWtFeaturizer,NHOHCountFeaturizer,NOCountFeaturizer,NPR1Featurizer,NPR2Featurizer,NumAliphaticCarbocyclesFeaturizer,NumAliphaticHeterocyclesFeaturizer,NumAliphaticRingsFeaturizer,NumAmideBondsFeaturizer,NumAromaticCarbocyclesFeaturizer,NumAromaticHeterocyclesFeaturizer,NumAromaticRingsFeaturizer,NumAtomStereoCentersFeaturizer,NumAtomsFeaturizer,NumBondsFeaturizer,NumBridgeheadAtomsFeaturizer,NumFragmentsFeaturizer,NumHAcceptorsFeaturizer,NumHBAFeaturizer,NumHBDFeaturizer,NumHDonorsFeaturizer,NumHeteroatomsFeaturizer,NumHeterocyclesFeaturizer,NumLipinskiHBAFeaturizer,NumLipinskiHBDFeaturizer,NumRadicalElectronsFeaturizer,NumRingsFeaturizer,NumRotatableBondsFeaturizer,NumSaturatedCarbocyclesFeaturizer,NumSaturatedHeterocyclesFeaturizer,NumSaturatedRingsFeaturizer,NumSpiroAtomsFeaturizer,NumUnspecifiedAtomStereoCentersFeaturizer,NumValenceElectronsFeaturizer,PBFFeaturizer,PEOE_VSA10Featurizer,PEOE_VSA11Featurizer,PEOE_VSA12Featurizer,PEOE_VSA13Featurizer,PEOE_VSA14Featurizer,PEOE_VSA1Featurizer,PEOE_VSA2Featurizer,PEOE_VSA3Featurizer,PEOE_VSA4Featurizer,PEOE_VSA5Featurizer,PEOE_VSA6Featurizer,PEOE_VSA7Featurizer,PEOE_VSA8Featurizer,PEOE_VSA9Featurizer,PMI1Featurizer,PMI2Featurizer,PMI3Featurizer,RadiusOfGyrationFeaturizer,RingCountFeaturizer,SMR_VSA10Featurizer,SMR_VSA1Featurizer,SMR_VSA2Featurizer,SMR_VSA3Featurizer,SMR_VSA4Featurizer,SMR_VSA5Featurizer,SMR_VSA6Featurizer,SMR_VSA7Featurizer,SMR_VSA8Featurizer,SMR_VSA9Featurizer,SingleValueMoleculeFeaturizer,SlogP_VSA10Featurizer,SlogP_VSA11Featurizer,SlogP_VSA12Featurizer,SlogP_VSA1Featurizer,SlogP_VSA2Featurizer,SlogP_VSA3Featurizer,SlogP_VSA4Featurizer,SlogP_VSA5Featurizer,SlogP_VSA6Featurizer,SlogP_VSA7Featurizer,SlogP_VSA8Featurizer,SlogP_VSA9Featurizer,SpherocityIndexFeaturizer,TPSAFeaturizer,VSA_EState10Featurizer,VSA_EState1Featurizer,VSA_EState2Featurizer,VSA_EState3Featurizer,VSA_EState4Featurizer,VSA_EState5Featurizer,VSA_EState6Featurizer,VSA_EState7Featurizer,VSA_EState8Featurizer,VSA_EState9Featurizer,fr_Al_COOFeaturizer,fr_Al_OHFeaturizer,fr_Al_OH_noTertFeaturizer,fr_ArNFeaturizer,fr_Ar_COOFeaturizer,fr_Ar_NFeaturizer,fr_Ar_NHFeaturizer,fr_Ar_OHFeaturizer,fr_COO2Featurizer,fr_COOFeaturizer,fr_C_OFeaturizer,fr_C_O_noCOOFeaturizer,fr_C_SFeaturizer,fr_HOCCNFeaturizer,fr_ImineFeaturizer,fr_NH0Featurizer,fr_NH1Featurizer,fr_NH2Featurizer,fr_N_OFeaturizer,fr_Ndealkylation1Featurizer,fr_Ndealkylation2Featurizer,fr_NhpyrroleFeaturizer,fr_SHFeaturizer,fr_aldehydeFeaturizer,fr_alkyl_carbamateFeaturizer,fr_alkyl_halideFeaturizer,fr_allylic_oxidFeaturizer,fr_amideFeaturizer,fr_amidineFeaturizer,fr_anilineFeaturizer,fr_aryl_methylFeaturizer,fr_azideFeaturizer,fr_azoFeaturizer,fr_barbiturFeaturizer,fr_benzeneFeaturizer,fr_benzodiazepineFeaturizer,fr_bicyclicFeaturizer,fr_diazoFeaturizer,fr_dihydropyridineFeaturizer,fr_epoxideFeaturizer,fr_esterFeaturizer,fr_etherFeaturizer,fr_furanFeaturizer,fr_guanidoFeaturizer,fr_halogenFeaturizer,fr_hdrzineFeaturizer,fr_hdrzoneFeaturizer,fr_imidazoleFeaturizer,fr_imideFeaturizer,fr_isocyanFeaturizer,fr_isothiocyanFeaturizer,fr_ketoneFeaturizer,fr_ketone_ToplissFeaturizer,fr_lactamFeaturizer,fr_lactoneFeaturizer,fr_methoxyFeaturizer,fr_morpholineFeaturizer,fr_nitrileFeaturizer,fr_nitroFeaturizer,fr_nitro_aromFeaturizer,fr_nitro_arom_nonorthoFeaturizer,fr_nitrosoFeaturizer,fr_oxazoleFeaturizer,fr_oximeFeaturizer,fr_para_hydroxylationFeaturizer,fr_phenolFeaturizer,fr_phenol_noOrthoHbondFeaturizer,fr_phos_acidFeaturizer,fr_phos_esterFeaturizer,fr_piperdineFeaturizer,fr_piperzineFeaturizer,fr_priamideFeaturizer,fr_prisulfonamdFeaturizer,fr_pyridineFeaturizer,fr_quatNFeaturizer,fr_sulfideFeaturizer,fr_sulfonamdFeaturizer,fr_sulfoneFeaturizer,fr_term_acetyleneFeaturizer,fr_tetrazoleFeaturizer,fr_thiazoleFeaturizer,fr_thiocyanFeaturizer,fr_thiopheneFeaturizer,fr_unbrch_alkaneFeaturizer,fr_ureaFeaturizer,qedFeaturizer)"
      ]
     },
     "execution_count": 1,
     "metadata": {},
     "output_type": "execute_result"
    }
   ],
   "source": []
  },
  {
   "cell_type": "code",
   "execution_count": 2,
   "metadata": {
    "collapsed": false,
    "jupyter": {
     "outputs_hidden": false
    },
    "pycharm": {
     "name": "#%%\n"
    }
   },
   "outputs": [
    {
     "name": "stderr",
     "output_type": "stream",
     "text": [
      "100%|██████████| 100000/100000 [00:25<00:00, 3902.88 mol/s]\n"
     ]
    }
   ],
   "source": [
    "smiles = np.array([k for k in generate_n_random_hetero_carbon_lattice(n=100_000, max_c=10)])"
   ]
  },
  {
   "cell_type": "code",
   "execution_count": 12,
   "metadata": {
    "collapsed": false,
    "jupyter": {
     "outputs_hidden": false
    },
    "pycharm": {
     "name": "#%%\n"
    }
   },
   "outputs": [],
   "source": [
    "max_split=100\n",
    "progess_bar=True\n",
    "gen_args=[]\n",
    "gen_kwargs={}\n",
    "progress_bar_kwargs={}\n",
    "featurizer_class=NumAtomsFeaturizer\n",
    "data=[(s, gen_args, gen_kwargs, featurizer_class) for s in smiles]\n",
    "from cdf_h import func"
   ]
  },
  {
   "cell_type": "code",
   "execution_count": 209,
   "metadata": {
    "collapsed": false,
    "jupyter": {
     "outputs_hidden": false
    },
    "pycharm": {
     "name": "#%%\n"
    }
   },
   "outputs": [
    {
     "data": {
      "text/plain": [
       "(1000, 27)"
      ]
     },
     "execution_count": 209,
     "metadata": {},
     "output_type": "execute_result"
    }
   ],
   "source": [
    "data = np.array(data)\n",
    "cores = solve_cores(\"all-1\")\n",
    "MOLNET_LOGGER.debug(f\"using {cores} cores\")\n",
    "sub_data = np.array_split(data, len(data) / 100)\n",
    "\n",
    "len(sub_data),cores"
   ]
  },
  {
   "cell_type": "code",
   "execution_count": 17,
   "metadata": {
    "collapsed": false,
    "jupyter": {
     "outputs_hidden": false
    },
    "pycharm": {
     "name": "#%%\n"
    }
   },
   "outputs": [
    {
     "data": {
      "text/plain": [
       "array(0.)"
      ]
     },
     "execution_count": 17,
     "metadata": {},
     "output_type": "execute_result"
    }
   ],
   "source": [
    "np.squeeze(np.zeros((1,1,1)))"
   ]
  },
  {
   "cell_type": "code",
   "execution_count": 210,
   "metadata": {
    "collapsed": false,
    "jupyter": {
     "outputs_hidden": false
    },
    "pycharm": {
     "name": "#%%\n"
    }
   },
   "outputs": [],
   "source": [
    "bins=100\n",
    "ecdres=200\n",
    "patience=20\n",
    "th=1e-4\n",
    "r = []"
   ]
  },
  {
   "cell_type": "code",
   "execution_count": 215,
   "metadata": {
    "collapsed": false,
    "jupyter": {
     "outputs_hidden": false
    },
    "pycharm": {
     "name": "#%%\n"
    }
   },
   "outputs": [],
   "source": [
    "def ecdf(data,res=None,smooth=False,unique_only=False):\n",
    "    x=np.sort(data)\n",
    "    n=len(data)\n",
    "    y=np.arange(1,n+1)/n\n",
    "    if smooth:\n",
    "        x,uindices = np.unique(x,return_index =True)\n",
    "        y = np.array([a.mean() for a in np.split(y,uindices[1:])])\n",
    "        \n",
    "    if res:\n",
    "        dp=(np.linspace(0,1,res)*(len(x)-1)).astype(int)\n",
    "        n=res\n",
    "        x=x[dp]\n",
    "        y=y[dp]\n",
    "    if unique_only:\n",
    "        x,uindices = np.unique(x,return_index =True)\n",
    "        y=y[uindices]\n",
    "    return x,y"
   ]
  },
  {
   "cell_type": "code",
   "execution_count": 214,
   "metadata": {
    "collapsed": false,
    "jupyter": {
     "outputs_hidden": false
    },
    "pycharm": {
     "name": "#%%\n"
    }
   },
   "outputs": [
    {
     "data": {
      "image/png": "[encoded data removed]",
      "text/plain": [
       "<Figure size 432x288 with 1 Axes>"
      ]
     },
     "metadata": {
      "needs_background": "light"
     },
     "output_type": "display_data"
    },
    {
     "data": {
      "image/png": "[encoded data removed]",
      "text/plain": [
       "<Figure size 432x288 with 1 Axes>"
      ]
     },
     "metadata": {
      "needs_background": "light"
     },
     "output_type": "display_data"
    },
    {
     "name": "stderr",
     "output_type": "stream",
     "text": [
      " 52%|█████▏    | 52400/100000 [02:41<02:26, 324.76it/s]\n"
     ]
    }
   ],
   "source": [
    "r_patience=patience\n",
    "precfd=np.zeros(ecdres)\n",
    "error=[]\n",
    "with Pool(cores) as p:\n",
    "    if progess_bar:\n",
    "        with tqdm(total=len(data), **progress_bar_kwargs) as pbar:\n",
    "            for ri in p.imap(func, sub_data):\n",
    "                lri=len(ri)\n",
    "                ri=ri[~np.isnan(ri)]\n",
    "            \n",
    "                r.extend(ri)\n",
    "                \n",
    "                necdf=ecdf(np.array(r).flatten(),ecdres,smooth=True)\n",
    "                error.append(\n",
    "                    np.sqrt(((necdf[1]-precfd)**2).mean())\n",
    "                )\n",
    "                \n",
    "                plt.plot(*necdf)\n",
    "                clear_output(wait=True)\n",
    "                plt.show()\n",
    "                plt.close()\n",
    "                plt.plot(error[-min(100,len(error)):])\n",
    "                plt.hlines(th,0,100)\n",
    "                plt.show()\n",
    "                plt.close()\n",
    "\n",
    "                if error[-1]<th:\n",
    "                    r_patience-=1\n",
    "                    if r_patience<=0:\n",
    "                        break\n",
    "                else:\n",
    "                    r_patience=patience\n",
    "\n",
    "                precfd=necdf[1]\n",
    "                pbar.update(lri)\n",
    "\n",
    "    else:\n",
    "        for ri in p.imap(func, sub_data):\n",
    "            r.extend(ri)"
   ]
  },
  {
   "cell_type": "code",
   "execution_count": 218,
   "metadata": {
    "collapsed": false,
    "jupyter": {
     "outputs_hidden": false
    },
    "pycharm": {
     "name": "#%%\n"
    }
   },
   "outputs": [
    {
     "data": {
      "text/plain": [
       "(array([ 2.,  3.,  4.,  5.,  6.,  7.,  8.,  9., 10., 11., 12., 13., 14.,\n",
       "        15., 16., 17., 18., 19., 20., 21., 22., 23., 24., 25., 26., 27.,\n",
       "        28., 29., 30., 31., 32.]),\n",
       " array([1.92056541e-05, 8.64254437e-05, 2.68879158e-04, 6.52992241e-04,\n",
       "        1.53645233e-03, 3.14972728e-03, 6.05938388e-03, 1.10720596e-02,\n",
       "        1.91000230e-02, 3.10939541e-02, 4.83598371e-02, 7.30583084e-02,\n",
       "        1.06418530e-01, 1.49141507e-01, 2.01284858e-01, 2.65489360e-01,\n",
       "        3.40477837e-01, 4.21929016e-01, 5.08901821e-01, 5.95989859e-01,\n",
       "        6.82271261e-01, 7.62983022e-01, 8.31124683e-01, 8.87627718e-01,\n",
       "        9.30293078e-01, 9.60455558e-01, 9.79939694e-01, 9.90435584e-01,\n",
       "        9.96264500e-01, 9.98914881e-01, 9.99769532e-01]))"
      ]
     },
     "execution_count": 218,
     "metadata": {},
     "output_type": "execute_result"
    },
    {
     "data": {
      "image/png": "[encoded data removed]",
      "text/plain": [
       "<Figure size 432x288 with 1 Axes>"
      ]
     },
     "metadata": {
      "needs_background": "light"
     },
     "output_type": "display_data"
    }
   ],
   "source": [
    "\n",
    "x,y=ecdf(np.array(r).flatten())\n",
    "plt.plot(x,y)\n",
    "x,y=ecdf(np.array(r).flatten(),smooth=True,unique_only=True)\n",
    "plt.plot(x,y)\n",
    "x,y"
   ]
  },
  {
   "cell_type": "code",
   "execution_count": 202,
   "metadata": {
    "collapsed": false,
    "jupyter": {
     "outputs_hidden": false
    },
    "pycharm": {
     "name": "#%%\n"
    }
   },
   "outputs": [
    {
     "name": "stderr",
     "output_type": "stream",
     "text": [
      "/home/julian/anaconda3/envs/graph_chem_unit/lib/python3.8/site-packages/numpy/lib/function_base.py:1084: RuntimeWarning: divide by zero encountered in true_divide\n",
      "  a = -(dx2)/(dx1 * (dx1 + dx2))\n",
      "/home/julian/anaconda3/envs/graph_chem_unit/lib/python3.8/site-packages/numpy/lib/function_base.py:1084: RuntimeWarning: invalid value encountered in true_divide\n",
      "  a = -(dx2)/(dx1 * (dx1 + dx2))\n",
      "/home/julian/anaconda3/envs/graph_chem_unit/lib/python3.8/site-packages/numpy/lib/function_base.py:1085: RuntimeWarning: divide by zero encountered in true_divide\n",
      "  b = (dx2 - dx1) / (dx1 * dx2)\n",
      "/home/julian/anaconda3/envs/graph_chem_unit/lib/python3.8/site-packages/numpy/lib/function_base.py:1085: RuntimeWarning: invalid value encountered in true_divide\n",
      "  b = (dx2 - dx1) / (dx1 * dx2)\n",
      "/home/julian/anaconda3/envs/graph_chem_unit/lib/python3.8/site-packages/numpy/lib/function_base.py:1086: RuntimeWarning: divide by zero encountered in true_divide\n",
      "  c = dx1 / (dx2 * (dx1 + dx2))\n",
      "/home/julian/anaconda3/envs/graph_chem_unit/lib/python3.8/site-packages/numpy/lib/function_base.py:1086: RuntimeWarning: invalid value encountered in true_divide\n",
      "  c = dx1 / (dx2 * (dx1 + dx2))\n",
      "/home/julian/anaconda3/envs/graph_chem_unit/lib/python3.8/site-packages/numpy/lib/function_base.py:1092: RuntimeWarning: invalid value encountered in add\n",
      "  out[tuple(slice1)] = a * f[tuple(slice2)] + b * f[tuple(slice3)] + c * f[tuple(slice4)]\n",
      "/home/julian/anaconda3/envs/graph_chem_unit/lib/python3.8/site-packages/numpy/lib/function_base.py:1101: RuntimeWarning: invalid value encountered in double_scalars\n",
      "  out[tuple(slice1)] = (f[tuple(slice2)] - f[tuple(slice3)]) / dx_0\n"
     ]
    },
    {
     "data": {
      "text/plain": [
       "[<matplotlib.lines.Line2D at 0x7fb907fa2d00>]"
      ]
     },
     "execution_count": 202,
     "metadata": {},
     "output_type": "execute_result"
    },
    {
     "data": {
      "image/png": "[encoded data removed]",
      "text/plain": [
       "<Figure size 432x288 with 1 Axes>"
      ]
     },
     "metadata": {
      "needs_background": "light"
     },
     "output_type": "display_data"
    }
   ],
   "source": [
    "gad=np.gradient(y,x)\n",
    "plt.plot(x,gad)"
   ]
  },
  {
   "cell_type": "code",
   "execution_count": 200,
   "metadata": {
    "collapsed": false,
    "jupyter": {
     "outputs_hidden": false
    },
    "pycharm": {
     "name": "#%%\n"
    }
   },
   "outputs": [
    {
     "name": "stderr",
     "output_type": "stream",
     "text": [
      "<ipython-input-200-f2cdb51f6cee>:17: RuntimeWarning: overflow encountered in exp\n",
      "  return 1 / (1 + Q * np.exp(-B * (x - M))) ** (1 / v)\n",
      "<ipython-input-200-f2cdb51f6cee>:17: RuntimeWarning: divide by zero encountered in true_divide\n",
      "  return 1 / (1 + Q * np.exp(-B * (x - M))) ** (1 / v)\n",
      "<ipython-input-200-f2cdb51f6cee>:17: RuntimeWarning: invalid value encountered in power\n",
      "  return 1 / (1 + Q * np.exp(-B * (x - M))) ** (1 / v)\n"
     ]
    },
    {
     "data": {
      "image/png": "[encoded data removed]",
      "text/plain": [
       "<Figure size 432x288 with 1 Axes>"
      ]
     },
     "metadata": {
      "needs_background": "light"
     },
     "output_type": "display_data"
    }
   ],
   "source": [
    "def sig(x,m=0,d=1):\n",
    "    return 1/(1+np.exp(-d*(x-m)))\n",
    "\n",
    "def lin(x,m,c):\n",
    "    return m*x+c\n",
    "\n",
    "def min_max(x,m,c):\n",
    "    return np.clip(lin(x,m,c),0,1)\n",
    "\n",
    "def mean_norm(x):\n",
    "    return (x-x.mean())/(x.max()-x.min())\n",
    "\n",
    "def std_norm(x):\n",
    "    return (x-x.mean())/x.std()\n",
    "\n",
    "def genlogistic(x, B, M, Q, v):\n",
    "    return 1 / (1 + Q * np.exp(-B * (x - M))) ** (1 / v)\n",
    "\n",
    "from scipy.optimize import curve_fit\n",
    "\n",
    "def dual_sig(x,m,d1,d2):\n",
    "    mx=np.argmin(np.abs(x-m))\n",
    "    return np.concatenate((sig(x[:mx],m=m,d=d1),sig(x[mx:],m=m,d=d2)))\n",
    "\n",
    "def fit_dualsig(x,y):\n",
    "    popt, pcov = curve_fit(dual_sig, x, y, method='dogbox')\n",
    "    return popt\n",
    "\n",
    "def fit_sig(x,y):\n",
    "    popt, pcov = curve_fit(sig, x, y, method='dogbox')\n",
    "    return popt\n",
    "\n",
    "def fit_lin(x,y):\n",
    "    popt, pcov = curve_fit(lin, x, y, method='dogbox')\n",
    "    return popt\n",
    "\n",
    "def fit_genlogistic(x,y):\n",
    "    popt, pcov = curve_fit(genlogistic, x, y)\n",
    "    return popt\n",
    "\n",
    "def fit_min_max(x,y):\n",
    "    argmin=x.argmin()\n",
    "    argmax=x.argmax()\n",
    "    m=(y[argmax]-y[argmin])/(x[argmax]-x[argmin])\n",
    "    c=y[argmax]-m*x[argmax]\n",
    "    return m,c\n",
    "\n",
    "x,y=ecdf(np.array(r).flatten(),smooth=True)\n",
    "plt.plot(x,y,label=\"ecdf\")\n",
    "\n",
    "m,d=fit_sig(x,y)\n",
    "plt.plot(x,sig(x,m=m,d=d),label=\"sig_op\")\n",
    "\n",
    "m,d1,d2=fit_dualsig(x,y)\n",
    "plt.plot(x,dual_sig(x,m=m,d1=d1,d2=d2),label=\"dual_sig_op\")\n",
    "\n",
    "m,c=fit_lin(x,y)\n",
    "plt.plot(x,lin(x,m,c),label=\"linar\")\n",
    "\n",
    "m,c=fit_min_max(x,y)\n",
    "plt.plot(x,min_max(x,m,c),label=\"min_max\")\n",
    "\n",
    "plt.plot(x,mean_norm(x),label=\"mean_norm\")\n",
    "\n",
    "B, M, Q, v = fit_genlogistic(x,y)\n",
    "plt.plot(x,genlogistic(x,B, M, Q, v),label=\"genlogistic\")\n",
    "#plt.plot(x,std_norm(x),label=\"std_norm\")\n",
    "\n",
    "plt.legend()\n",
    "plt.show()\n",
    "plt.close()\n"
   ]
  },
  {
   "cell_type": "code",
   "execution_count": 165,
   "metadata": {
    "collapsed": false,
    "jupyter": {
     "outputs_hidden": false
    },
    "pycharm": {
     "name": "#%%\n"
    }
   },
   "outputs": [
    {
     "data": {
      "text/plain": [
       "20.0"
      ]
     },
     "execution_count": 165,
     "metadata": {},
     "output_type": "execute_result"
    }
   ],
   "source": [
    "np.log(np.exp(20))"
   ]
  },
  {
   "cell_type": "code",
   "execution_count": 166,
   "metadata": {
    "collapsed": false,
    "jupyter": {
     "outputs_hidden": false
    },
    "pycharm": {
     "name": "#%%\n"
    }
   },
   "outputs": [],
   "source": [
    "\n"
   ]
  },
  {
   "cell_type": "code",
   "execution_count": null,
   "metadata": {},
   "outputs": [],
   "source": []
  },
  {
   "cell_type": "code",
   "execution_count": null,
   "metadata": {},
   "outputs": [],
   "source": []
  }
 ],
 "metadata": {
  "kernelspec": {
   "display_name": "graph_chem_unit",
   "language": "python",
   "name": "graph_chem_unit"
  },
  "language_info": {
   "codemirror_mode": {
    "name": "ipython",
    "version": 3
   },
   "file_extension": ".py",
   "mimetype": "text/x-python",
   "name": "python",
   "nbconvert_exporter": "python",
   "pygments_lexer": "ipython3",
   "version": "3.8.0"
  }
 },
 "nbformat": 4,
 "nbformat_minor": 4
}
