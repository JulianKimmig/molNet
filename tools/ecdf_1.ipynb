{
 "cells": [
  {
   "cell_type": "code",
   "execution_count": 5,
   "metadata": {},
   "outputs": [],
   "source": [
    "import sys\n",
    "sys.path.append(\"../\")\n",
    "import logging\n",
    "import pandas as pd\n",
    "import os\n",
    "from rdkit import Chem\n",
    "import multiprocessing\n",
    "from multiprocessing import Pool, cpu_count\n",
    "Chem.SetDefaultPickleProperties(Chem.PropertyPickleOptions.AllProps)\n",
    "from IPython.display import clear_output"
   ]
  },
  {
   "cell_type": "code",
   "execution_count": 6,
   "metadata": {},
   "outputs": [],
   "source": [
    "USE_SUBSET=True\n",
    "SUBSET_SIZE=1_0_000\n",
    "THREAD_COUND=max(1,int(cpu_count()-2))\n",
    "\n",
    "SOURCE_FILE=\"../dev/black_box/notebooks/data/CID-SMILES\"\n",
    "DATA_FOLDER=\"/media/julian/ex1ext4_1/temp/\"\n",
    "\n",
    "LOG_FOLDER=os.path.join(DATA_FOLDER,\"logs\")\n",
    "SUBSET_DATA=os.path.join(DATA_FOLDER,\"CID-SMILES_subset_{}.pckl\".format(SUBSET_SIZE))\n",
    "FULL_DATA=os.path.join(DATA_FOLDER,\"CID-SMILES.pckl\")\n",
    "MOL_FOLDER=os.path.join(DATA_FOLDER,\"CID-MOLES\")\n",
    "\n",
    "\n",
    "os.makedirs(DATA_FOLDER,exist_ok=True)\n",
    "os.makedirs(LOG_FOLDER,exist_ok=True)\n",
    "os.makedirs(MOL_FOLDER,exist_ok=True)\n",
    "\n",
    "logger = logging.getLogger(\"ecdf_1\")\n",
    "logger.setLevel(logging.DEBUG)\n",
    "for h in list(logger.handlers):\n",
    "    logger.removeHandler(h)\n",
    "\n",
    "fh = logging.FileHandler(os.path.join(LOG_FOLDER,\"ecdf_1.log\"))\n",
    "fh.setLevel(logging.DEBUG)\n",
    "logger.addHandler(fh)\n",
    "\n",
    "ch = logging.StreamHandler()\n",
    "ch.setLevel(logging.DEBUG)\n",
    "logger.addHandler(ch)\n"
   ]
  },
  {
   "cell_type": "code",
   "execution_count": 7,
   "metadata": {},
   "outputs": [],
   "source": [
    "def load_df():\n",
    "    try:\n",
    "        logger.info(\"load pickle\")\n",
    "        dataset = pd.read_pickle(SUBSET_DATA if USE_SUBSET else FULL_DATA)\n",
    "        if len(dataset)<SUBSET_SIZE:\n",
    "            raise ValueError(\"wrong size\")\n",
    "    except Exception as e:\n",
    "        logger.exception(e)\n",
    "        try:\n",
    "            logger.info(\"load bu pickle\")\n",
    "            dataset = pd.read_pickle(FULL_DATA)\n",
    "        except Exception as e:\n",
    "            logger.exception(e)\n",
    "            logger.info(\"reload textfile\")\n",
    "            dataset = pd.read_csv(SOURCE_FILE,sep=\"\\t\",header=None,index_col=0)\n",
    "            dataset.columns=[\"smiles\"]\n",
    "            logger.info(\"save bu pickle\")\n",
    "            dataset.to_pickle(FULL_DATA)\n",
    "        if USE_SUBSET:\n",
    "            dataset = dataset.sample(n = SUBSET_SIZE)\n",
    "            logger.info(\"save subset pickle\")\n",
    "            dataset.to_pickle(SUBSET_DATA)\n",
    "    return dataset"
   ]
  },
  {
   "cell_type": "code",
   "execution_count": 8,
   "metadata": {},
   "outputs": [
    {
     "name": "stdout",
     "output_type": "stream",
     "text": [
      "CPU times: user 33 µs, sys: 3 µs, total: 36 µs\n",
      "Wall time: 40.8 µs\n"
     ]
    }
   ],
   "source": [
    "%%time\n",
    "try:\n",
    "    dataset\n",
    "except NameError:\n",
    "    dataset = load_df()\n",
    "if len(dataset)>SUBSET_SIZE or len(dataset)<SUBSET_SIZE:\n",
    "        logger.error(\"wrong size\")\n",
    "        dataset = load_df()"
   ]
  },
  {
   "cell_type": "code",
   "execution_count": 9,
   "metadata": {},
   "outputs": [],
   "source": [
    "def load_mol_file(path):\n",
    "    with open(path,\"rb\") as f:\n",
    "        mol = Chem.Mol(f.read())\n",
    "    return mol\n",
    "\n",
    "def smiles_to_molfile(smiles,uuid,path,clean=True,load_exists=True):\n",
    "    fn=os.path.join(path,\"{}.mol\".format(uuid))\n",
    "    mol=None\n",
    "    change=False\n",
    "    if load_exists and os.path.exists(fn):\n",
    "        mol = load_mol_file(fn)\n",
    "        \n",
    "    if mol is None:\n",
    "        mol = Chem.MolFromSmiles(smiles)\n",
    "        change=True\n",
    "    if mol is None:\n",
    "        raise ValueError(\"cannot generate mol\")\n",
    "    if clean:\n",
    "        if not has_confomers(mol,iterations=0):\n",
    "            change=True\n",
    "            if not has_confomers(mol,iterations=1):\n",
    "                if not has_confomers(mol,iterations=10):\n",
    "                    raise ValueError(\"cannot clean\")\n",
    "    if change:\n",
    "        with open(fn,\"w+b\") as f:\n",
    "            f.write(mol.ToBinary())\n",
    "    return mol"
   ]
  },
  {
   "cell_type": "code",
   "execution_count": 10,
   "metadata": {},
   "outputs": [],
   "source": [
    "def sgar_smiles_to_molfile(arg):\n",
    "    try:\n",
    "        return smiles_to_molfile(*arg) is not None\n",
    "    except ValueError as e:\n",
    "        return False\n",
    "    #except:\n",
    "    #    return False\n",
    "    \n",
    "def batch_smiles_to_molfile(smiles,uuids,path,clean=True,processes=0,load_exist=True):\n",
    "    if processes<=0:\n",
    "        processes = THREAD_COUND\n",
    "    logger.info(\"Using {} cpu(s)\".format(processes))\n",
    "    data=zip(smiles,uuids,[path]*len(smiles),[clean]*len(smiles),[load_exist]*len(smiles))    \n",
    "    if processes<=1:\n",
    "        succs=[sgar_smiles_to_molfile(d) for d in data]\n",
    "    else:        \n",
    "        with Pool(processes=processes) as pool:\n",
    "            res = pool.map(sgar_smiles_to_molfile,data)\n",
    "            succs=res\n",
    "    \n",
    "    return np.array(succs,dtype=bool)"
   ]
  },
  {
   "cell_type": "code",
   "execution_count": 11,
   "metadata": {},
   "outputs": [
    {
     "name": "stderr",
     "output_type": "stream",
     "text": [
      "0,files missing\n"
     ]
    },
    {
     "name": "stdout",
     "output_type": "stream",
     "text": [
      "CPU times: user 29.1 ms, sys: 23.4 ms, total: 52.5 ms\n",
      "Wall time: 50.4 ms\n"
     ]
    }
   ],
   "source": [
    "%%time\n",
    "def clean_up(df,redo=False,check_file_exist=True):\n",
    "    run_since_files_missing=False\n",
    "    \n",
    "    if redo or \"valid\" not in df.columns or df[\"valid\"].sum()<len(df)*0.97:\n",
    "        succs=batch_smiles_to_molfile(df[\"smiles\"],df.index,MOL_FOLDER,True,processes=0,load_exist=not redo)\n",
    "        df[\"valid\"]=succs\n",
    "    elif check_file_exist:\n",
    "        def _c(uuid):\n",
    "            return os.path.exists(os.path.join(MOL_FOLDER,\"{}.mol\".format(uuid)))\n",
    "        e=df[df[\"valid\"]].index.map(_c).values.astype(bool)\n",
    "        fm=len(e)-e.sum()\n",
    "        logger.info(\"{},files missing\".format(fm))\n",
    "        if fm>0:\n",
    "            missingdf=df[df[\"valid\"]].loc[~e]\n",
    "            if fm<100:\n",
    "                for i,d in missingdf.iterrows():\n",
    "                    smiles_to_molfile(d[\"smiles\"],i,MOL_FOLDER)\n",
    "            else:\n",
    "                batch_smiles_to_molfile(missingdf[\"smiles\"],missingdf.index,MOL_FOLDER,True,processes=0,load_exist=not redo)\n",
    "        \n",
    "\n",
    "if USE_SUBSET:\n",
    "    clean_up(dataset)\n",
    "    dataset.to_pickle(SUBSET_DATA)"
   ]
  }
 ],
 "metadata": {
  "kernelspec": {
   "display_name": "molNet",
   "language": "python",
   "name": "molnet"
  },
  "language_info": {
   "codemirror_mode": {
    "name": "ipython",
    "version": 3
   },
   "file_extension": ".py",
   "mimetype": "text/x-python",
   "name": "python",
   "nbconvert_exporter": "python",
   "pygments_lexer": "ipython3",
   "version": "3.7.10"
  }
 },
 "nbformat": 4,
 "nbformat_minor": 4
}
