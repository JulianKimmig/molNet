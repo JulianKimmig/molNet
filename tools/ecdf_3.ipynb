{
 "cells": [
  {
   "cell_type": "code",
   "execution_count": 12,
   "metadata": {},
   "outputs": [],
   "source": [
    "import sys\n",
    "sys.path.append(\"../\")\n",
    "import os\n",
    "import multiprocessing\n",
    "from multiprocessing import Pool, cpu_count\n",
    "import logging\n",
    "import numpy as np"
   ]
  },
  {
   "cell_type": "code",
   "execution_count": 9,
   "metadata": {},
   "outputs": [],
   "source": [
    "CHECKFILES=10\n",
    "MAX_RAM=30 * 2**30 # gb * fac\n",
    "\n",
    "THREAD_COUND=max(1,int(cpu_count()-10))\n",
    "DATA_FOLDER=\"/media/julian/ex1ext4_1/temp/\"\n",
    "MOLPROP_FOLDER=os.path.join(DATA_FOLDER,\"CID-PROPS\")\n",
    "PROPVEC_FOLDER=os.path.join(DATA_FOLDER,\"prop_vecs\")\n",
    "LOG_FOLDER=os.path.join(DATA_FOLDER,\"logs\")\n",
    "\n",
    "os.makedirs(LOG_FOLDER,exist_ok=True)\n",
    "os.makedirs(MOLPROP_FOLDER,exist_ok=True)\n",
    "os.makedirs(PROPVEC_FOLDER,exist_ok=True)\n",
    "\n",
    "logger = logging.getLogger(\"ecdf_3\")\n",
    "logger.setLevel(logging.DEBUG)\n",
    "for h in list(logger.handlers):\n",
    "    logger.removeHandler(h)\n",
    "\n",
    "fh = logging.FileHandler(os.path.join(LOG_FOLDER,\"ecdf_3.log\"))\n",
    "fh.setLevel(logging.DEBUG)\n",
    "logger.addHandler(fh)\n",
    "\n",
    "ch = logging.StreamHandler()\n",
    "ch.setLevel(logging.DEBUG)\n",
    "logger.addHandler(ch)"
   ]
  },
  {
   "cell_type": "code",
   "execution_count": 10,
   "metadata": {},
   "outputs": [
    {
     "data": {
      "text/plain": [
       "1957547"
      ]
     },
     "execution_count": 10,
     "metadata": {},
     "output_type": "execute_result"
    }
   ],
   "source": [
    "mdt_files=np.array([os.path.join(MOLPROP_FOLDER,f)for f in os.listdir(MOLPROP_FOLDER) if f.endswith(\".mdt\")])\n",
    "np.random.shuffle(mdt_files)\n",
    "len(mdt_files)"
   ]
  },
  {
   "cell_type": "code",
   "execution_count": 11,
   "metadata": {},
   "outputs": [
    {
     "data": {
      "text/plain": [
       "(0, [], 1957547, array([], dtype=float64))"
      ]
     },
     "execution_count": 11,
     "metadata": {},
     "output_type": "execute_result"
    }
   ],
   "source": [
    "item_sizes={}\n",
    "item_shapes={}\n",
    "item_types={}\n",
    "for mdtf in mdt_files[:CHECKFILES]:\n",
    "    for k,v in np.load(mdtf).items():\n",
    "        if k not in item_sizes:\n",
    "            item_sizes[k]=[]\n",
    "        if k not in item_shapes:\n",
    "            item_shapes[k]=[]\n",
    "        if k not in item_types:\n",
    "            item_types[k]=[]\n",
    "        item_sizes[k].append(v.size*v.itemsize)\n",
    "        item_shapes[k].append(v.shape)\n",
    "        item_types[k].append(v.dtype)\n",
    "        \n",
    "n_files = len(mdt_files)\n",
    "\n",
    "for k in list(item_sizes.keys()):\n",
    "    item_sizes[k]=int(np.median(item_sizes[k]))*n_files\n",
    "\n",
    "for k in list(item_shapes.keys()):\n",
    "    item_shapes[k]=np.median(item_shapes[k],0).astype(int)\n",
    "    \n",
    "item_types={k:max(set(v), key = v.count) for k, v in item_types.items()} \n",
    "\n",
    "\n",
    "\n",
    "for b,s in list(item_sizes.items()):\n",
    "    f=os.path.join(PROPVEC_FOLDER,b+\".npy\")\n",
    "    f_size=0\n",
    "    if os.path.exists(f):\n",
    "        f_size=os.path.getsize(f)\n",
    "    sp=min(f_size,s)/max(f_size,s)\n",
    "\n",
    "    if sp<0.95:\n",
    "        pass\n",
    "    else:\n",
    "        del item_sizes[b]\n",
    "\n",
    "item_sizes = {k: v for k, v in sorted(item_sizes.items(), key=lambda item: item[1])}\n",
    "\n",
    "blocks=[]\n",
    "remaining_ram=-1#MAX_RAM\n",
    "block_index=-1\n",
    "block_sizes=[]\n",
    "for n,az in item_sizes.items():\n",
    "    if remaining_ram - az<0:\n",
    "        block_index+=1\n",
    "        blocks.append([])\n",
    "        block_sizes.append(0)\n",
    "        remaining_ram=MAX_RAM\n",
    "    blocks[block_index].append(n)\n",
    "    remaining_ram -=az\n",
    "    block_sizes[block_index]+=az\n",
    "    \n",
    "len(blocks),[len(b) for b in blocks],n_files,np.array(block_sizes)/2**30"
   ]
  },
  {
   "cell_type": "code",
   "execution_count": null,
   "metadata": {},
   "outputs": [],
   "source": [
    "def npload(f):\n",
    "        return dict(np.load(f))\n",
    "    \n",
    "def load_block(block):    \n",
    "    data={b:np.zeros((n_files,*item_shapes[b]),dtype=item_types[b]) for b in block}\n",
    "    deltaprint=10**(max(0,int(np.log10(len(mdt_files)/THREAD_COUND)))-2)\n",
    "    idx={b:0 for b in block}\n",
    "    i=0\n",
    "    with multiprocessing.Pool(processes=THREAD_COUND) as pool: # or more\n",
    "        for d in pool.imap_unordered(npload, mdt_files,100):\n",
    "            if i%deltaprint==0:\n",
    "                logger.debug(i)\n",
    "            i+=1\n",
    "            try:\n",
    "                for b in block:\n",
    "                    data[b][idx[b]]=d[b]\n",
    "    #                print(d[b],data[b][idx[b]])\n",
    "                    idx[b]+=1\n",
    "            except Exception:\n",
    "                continue\n",
    "    for b in block:\n",
    "        logger.info(i)\n",
    "        np.save(os.path.join(PROPVEC_FOLDER,b),np.stack(data[b]))\n",
    "for b in blocks:\n",
    "    load_block(b)"
   ]
  },
  {
   "cell_type": "code",
   "execution_count": null,
   "metadata": {},
   "outputs": [],
   "source": []
  },
  {
   "cell_type": "code",
   "execution_count": null,
   "metadata": {},
   "outputs": [],
   "source": [
    "%timeit np.load(mdt_files[np.random.randint(len(mdt_files))])"
   ]
  },
  {
   "cell_type": "code",
   "execution_count": null,
   "metadata": {},
   "outputs": [],
   "source": []
  },
  {
   "cell_type": "code",
   "execution_count": null,
   "metadata": {},
   "outputs": [],
   "source": []
  }
 ],
 "metadata": {
  "kernelspec": {
   "display_name": "molNet",
   "language": "python",
   "name": "molnet"
  },
  "language_info": {
   "codemirror_mode": {
    "name": "ipython",
    "version": 3
   },
   "file_extension": ".py",
   "mimetype": "text/x-python",
   "name": "python",
   "nbconvert_exporter": "python",
   "pygments_lexer": "ipython3",
   "version": "3.7.10"
  }
 },
 "nbformat": 4,
 "nbformat_minor": 4
}
