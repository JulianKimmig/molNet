{
 "cells": [
  {
   "cell_type": "code",
   "execution_count": 1,
   "metadata": {},
   "outputs": [],
   "source": [
    "import sys\n",
    "sys.path.append(\"../\")\n",
    "import os\n",
    "from rdkit import Chem\n",
    "from io import BytesIO\n",
    "import multiprocessing\n",
    "from multiprocessing import Pool, cpu_count"
   ]
  },
  {
   "cell_type": "code",
   "execution_count": 2,
   "metadata": {},
   "outputs": [],
   "source": [
    "from molNet.featurizer.molecule_featurizer import (\n",
    "    molecule_mol_wt,\n",
    "    molecule_num_atoms,\n",
    "    molecule_num_rings,\n",
    "    molecule_asphericity,\n",
    ")\n",
    "from molNet.utils.mol.properties import has_confomers\n",
    "from molNet.featurizer import molecule_featurizer\n",
    "from molNet.featurizer.molecule_featurizer import *\n",
    "\n",
    "to_ecdf={\n",
    "    \"molecule_mol_wt\":molecule_mol_wt,\n",
    "    \"molecule_num_atoms\":molecule_num_atoms,\n",
    "    \"molecule_num_rings\":molecule_num_rings,\n",
    "    \"molecule_asphericity\":molecule_asphericity,\n",
    "    \"molecule_autocorr2d\":molecule_autocorr2d \n",
    "        }\n",
    "\n",
    "for fs,_f in molecule_featurizer._available_featurizer.items():\n",
    "    if fs.startswith(\"molecule_\"):\n",
    "        to_ecdf[fs]=_f"
   ]
  },
  {
   "cell_type": "code",
   "execution_count": 3,
   "metadata": {},
   "outputs": [],
   "source": [
    "THREAD_COUND=max(1,int(cpu_count()-2))\n",
    "DATA_FOLDER=\"/media/julian/ex1ext4_1/temp/\"\n",
    "MOL_FOLDER=os.path.join(DATA_FOLDER,\"CID-MOLES\")\n",
    "MOLPROP_FOLDER=os.path.join(DATA_FOLDER,\"CID-PROPS\")\n",
    "\n",
    "os.makedirs(MOL_FOLDER,exist_ok=True)\n",
    "os.makedirs(MOLPROP_FOLDER,exist_ok=True)"
   ]
  },
  {
   "cell_type": "code",
   "execution_count": 4,
   "metadata": {},
   "outputs": [],
   "source": [
    "mol_files=np.array([os.path.join(MOL_FOLDER,f)for f in os.listdir(MOL_FOLDER) if f.endswith(\".mol\")])\n",
    "np.random.shuffle(mol_files)"
   ]
  },
  {
   "cell_type": "code",
   "execution_count": 5,
   "metadata": {},
   "outputs": [],
   "source": [
    "def load_mol_file(path):\n",
    "    with open(path,\"rb\") as f:\n",
    "        mol = Chem.Mol(f.read())\n",
    "    return mol\n",
    "\n",
    "def get_mol_data_dict(mol,skip_errors=False):\n",
    "    d={}\n",
    "    for c,f in to_ecdf.items():\n",
    "        try:\n",
    "            v=f(mol)\n",
    "            d[c]=v\n",
    "        except Exception as e:\n",
    "            if not skip_errors:\n",
    "                raise e\n",
    "    return d\n",
    "\n",
    "def determine_size(n_samples=100):\n",
    "    samples=[]\n",
    "    for mf in mol_files:\n",
    "        try:\n",
    "            mol = load_mol_file(mf)\n",
    "            #display(mol)\n",
    "        except FileNotFoundError:\n",
    "            continue\n",
    "        if len(Chem.rdmolops.GetMolFrags(mol)) > 1:\n",
    "            continue       \n",
    "        try:\n",
    "            d=get_mol_data_dict(mol)\n",
    "        except Exception as e:\n",
    "            \n",
    "            continue\n",
    "            \n",
    "        file_obj=BytesIO()\n",
    "        np.savez(file_obj, **d)\n",
    "        s=len(file_obj.getvalue())\n",
    "        samples.append(s)\n",
    "        if len(samples)>=n_samples:\n",
    "            break\n",
    "    print(np.min(samples),np.median(samples),np.mean(samples),np.max(samples))\n",
    "    return int(np.median(samples))"
   ]
  },
  {
   "cell_type": "code",
   "execution_count": 6,
   "metadata": {},
   "outputs": [
    {
     "data": {
      "text/plain": [
       "157066"
      ]
     },
     "execution_count": 6,
     "metadata": {},
     "output_type": "execute_result"
    }
   ],
   "source": [
    "#datasize=determine_size()\n",
    "datasize=157066\n",
    "datasize"
   ]
  },
  {
   "cell_type": "code",
   "execution_count": 7,
   "metadata": {},
   "outputs": [],
   "source": [
    "def get_mol_data_dict(mol,skip_errors=False):\n",
    "    d={}\n",
    "    for c,f in to_ecdf.items():\n",
    "        try:\n",
    "            v=f(mol)\n",
    "            d[c]=v\n",
    "        except Exception as e:\n",
    "            if not skip_errors:\n",
    "                raise e\n",
    "    return d\n",
    "\n",
    "def molfile_to_prop_file(molfile,propfile,target_size=None,ignore_errors=True,skip_errors=False, skip_fragmented=True):\n",
    "    if os.path.exists(propfile):\n",
    "        if target_size is None:\n",
    "            return True\n",
    "        if os.path.getsize(propfile) == target_size:\n",
    "            return True\n",
    "            \n",
    "    mol = load_mol_file(molfile)\n",
    "    \n",
    "    if skip_fragmented:\n",
    "        if len(Chem.rdmolops.GetMolFrags(mol)) > 1:\n",
    "            return False \n",
    "    \n",
    "   \n",
    "    try:\n",
    "        d=get_mol_data_dict(mol,skip_errors=skip_errors)\n",
    "    except Exception as e:\n",
    "        if ignore_errors:\n",
    "            return False\n",
    "        else:\n",
    "            raise e\n",
    "\n",
    "    with open(propfile,\"w+b\") as f:\n",
    "        np.savez(f, **d)\n",
    "    return True\n",
    "\n",
    "def iter_mol_props_file(molfile,target_size=None):\n",
    "    datafile=os.path.join(MOLPROP_FOLDER,os.path.basename(molfile).replace(\".mol\",\".mdt\"))\n",
    "    \n",
    "    #print(molfile,datafile)\n",
    "    ex=None\n",
    "    try:\n",
    "        molfile_to_prop_file(\n",
    "                    molfile=molfile,\n",
    "                    propfile = datafile,\n",
    "                    target_size=target_size,\n",
    "                    ignore_errors=False,\n",
    "                )\n",
    "    except Exception as e:\n",
    "            stre=str(e)\n",
    "            if stre.startswith(\"ERROR: No Gasteiger Partial Charge\"):\n",
    "                ex=e\n",
    "            elif stre.startswith(\"too few atoms\"):\n",
    "                    ex=e\n",
    "            elif stre.startswith(\"numStereoCenters called without stereo being assigned\"):\n",
    "                try:\n",
    "                    os.remove(molfile)\n",
    "                except:pass\n",
    "                ex=e\n",
    "            elif stre.startswith(\"numUnspecifiedStereoCenters called without stereo being assigned\"):\n",
    "                try:\n",
    "                    os.remove(molfile)\n",
    "                except:pass\n",
    "                ex=e\n",
    "            elif stre.startswith(\"Can't kekulize mol\"):\n",
    "                try:\n",
    "                    os.remove(molfile)\n",
    "                except:pass\n",
    "                ex=e\n",
    "            elif stre.startswith(\"Explicit valence for atom\"):\n",
    "                try:\n",
    "                    os.remove(molfile)\n",
    "                except:pass\n",
    "                ex=e\n",
    "            elif stre.startswith(\"Bad pickle format\"):\n",
    "                try:\n",
    "                    os.remove(molfile)\n",
    "                except:pass\n",
    "                ex=e\n",
    "            else:\n",
    "                print(stre)\n",
    "    if ex is not None:\n",
    "        return ex\n",
    "    return True"
   ]
  },
  {
   "cell_type": "code",
   "execution_count": null,
   "metadata": {},
   "outputs": [],
   "source": [
    "def _iter_mol_props_file(fs):\n",
    "    for f in fs:\n",
    "        iter_mol_props_file(f,target_size=datasize)\n",
    "\n",
    "with Pool(processes=THREAD_COUND) as pool:\n",
    "    res = pool.map(_iter_mol_props_file, np.array_split(mol_files,THREAD_COUND))"
   ]
  },
  {
   "cell_type": "code",
   "execution_count": 19,
   "metadata": {},
   "outputs": [
    {
     "data": {
      "image/png": "[encoded data removed]",
      "text/plain": [
       "<rdkit.Chem.rdchem.Mol at 0x7fcb7b2341b0>"
      ]
     },
     "execution_count": 19,
     "metadata": {},
     "output_type": "execute_result"
    }
   ],
   "source": []
  },
  {
   "cell_type": "code",
   "execution_count": 61,
   "metadata": {},
   "outputs": [],
   "source": [
    "from molNet.featurizer.atom_featurizer import atom_symbol_one_hot\n",
    "from molNet.featurizer.featurizer import OneHotFeaturizer\n"
   ]
  },
  {
   "cell_type": "code",
   "execution_count": 48,
   "metadata": {},
   "outputs": [
    {
     "name": "stdout",
     "output_type": "stream",
     "text": [
      "400000\r"
     ]
    }
   ],
   "source": [
    "d=np.zeros((400000,len(atom_symbol_one_hot)))\n",
    "i=0\n",
    "j=0\n",
    "jf=d.shape[0]\n",
    "while True:\n",
    "    for atom in load_mol_file(mol_files[i]).GetAtoms():\n",
    "        d[j]=atom_symbol_one_hot(atom)\n",
    "        j+=1\n",
    "        if j>=jf:\n",
    "            break\n",
    "    print(j,end=\"\\r\")\n",
    "    i+=1\n",
    "    if j>=jf:\n",
    "        break\n",
    "    "
   ]
  },
  {
   "cell_type": "code",
   "execution_count": 65,
   "metadata": {},
   "outputs": [
    {
     "data": {
      "text/plain": [
       "({'O': 2.7449206973391007,\n",
       "  'Si': 0.014877441342246691,\n",
       "  'Na': 0.003408048236990431,\n",
       "  'H': 0.008978896316686328,\n",
       "  'P': 0.024052955826451696,\n",
       "  'F': 0.42771005374229915,\n",
       "  'S': 0.3685935247083497,\n",
       "  'C': 19.523397561934722,\n",
       "  'Cl': 0.23050203172106437,\n",
       "  'N': 2.7477388910735354,\n",
       "  'B': 0.005439769301350111,\n",
       "  'Br': 0.07871280639664438,\n",
       "  'I': 0.02365971949141434},\n",
       " array(['O', 'Si', 'Na', 'H', 'P', 'F', 'S', 'C', 'Cl', 'N', 'B', 'Br',\n",
       "        'I'], dtype=object))"
      ]
     },
     "execution_count": 65,
     "metadata": {},
     "output_type": "execute_result"
    }
   ],
   "source": [
    "dsum0=d.sum(0).astype(int)\n",
    "dict(zip(\n",
    "    np.array(atom_symbol_one_hot.possible_values)[dsum0>d.shape[0]/i],\n",
    "    dsum0[dsum0>d.shape[0]/i]/i\n",
    ")),np.array(atom_symbol_one_hot.possible_values)[dsum0>d.shape[0]/i]"
   ]
  },
  {
   "cell_type": "code",
   "execution_count": 77,
   "metadata": {},
   "outputs": [
    {
     "name": "stdout",
     "output_type": "stream",
     "text": [
      "400000\r"
     ]
    }
   ],
   "source": [
    "def _get_atom_symbol(atom):\n",
    "    return atom.GetSymbol()\n",
    "\n",
    "atom_symbol_hcnopsclbr_one_hot = OneHotFeaturizer(\n",
    "    possible_values=['O', 'Si', 'Na', 'H', 'P', 'F', 'S', 'C', 'Cl', 'N', 'B', 'Br','I',None],\n",
    "    pre_featurize=_get_atom_symbol,\n",
    "    name=\"atom_symbol_one_hot\",\n",
    ")\n",
    "\n",
    "d2=np.zeros((400000,len(atom_symbol_hcnopsclbr_one_hot)))\n",
    "i2=0\n",
    "j2=0\n",
    "jf2=d.shape[0]\n",
    "while True:\n",
    "    for atom in load_mol_file(mol_files[i2]).GetAtoms():\n",
    "        d2[j2]=atom_symbol_hcnopsclbr_one_hot(atom)\n",
    "        j2+=1\n",
    "        if j2>=jf2:\n",
    "            break\n",
    "    print(j2,end=\"\\r\")\n",
    "    i2+=1\n",
    "    if j2>=jf2:\n",
    "        break\n",
    "    "
   ]
  },
  {
   "cell_type": "code",
   "execution_count": 83,
   "metadata": {},
   "outputs": [
    {
     "data": {
      "text/plain": [
       "{'O': 2.7449206973391007,\n",
       " 'Si': 0.014877441342246691,\n",
       " 'Na': 0.003408048236990431,\n",
       " 'H': 0.008978896316686328,\n",
       " 'P': 0.024052955826451696,\n",
       " 'F': 0.42771005374229915,\n",
       " 'S': 0.3685935247083497,\n",
       " 'C': 19.523397561934722,\n",
       " 'Cl': 0.23050203172106437,\n",
       " 'N': 2.7477388910735354,\n",
       " 'B': 0.005439769301350111,\n",
       " 'Br': 0.07871280639664438,\n",
       " 'I': 0.02365971949141434,\n",
       " None: 0.013763271726307511}"
      ]
     },
     "execution_count": 83,
     "metadata": {},
     "output_type": "execute_result"
    }
   ],
   "source": [
    "dsum02=d2.sum(0).astype(int)\n",
    "dict(zip(\n",
    "    np.array(atom_symbol_hcnopsclbr_one_hot.possible_values),\n",
    "    dsum02/i2\n",
    "))"
   ]
  },
  {
   "cell_type": "code",
   "execution_count": 79,
   "metadata": {},
   "outputs": [
    {
     "data": {
      "text/plain": [
       "array([ 41882,    227,     52,    137,    367,   6526,   5624, 297888,\n",
       "         3517,  41925,     83,   1201,    361,    210])"
      ]
     },
     "execution_count": 79,
     "metadata": {},
     "output_type": "execute_result"
    }
   ],
   "source": [
    "dsum02"
   ]
  },
  {
   "cell_type": "code",
   "execution_count": null,
   "metadata": {},
   "outputs": [],
   "source": []
  }
 ],
 "metadata": {
  "kernelspec": {
   "display_name": "molNet",
   "language": "python",
   "name": "molnet"
  },
  "language_info": {
   "codemirror_mode": {
    "name": "ipython",
    "version": 3
   },
   "file_extension": ".py",
   "mimetype": "text/x-python",
   "name": "python",
   "nbconvert_exporter": "python",
   "pygments_lexer": "ipython3",
   "version": "3.7.10"
  }
 },
 "nbformat": 4,
 "nbformat_minor": 4
}
