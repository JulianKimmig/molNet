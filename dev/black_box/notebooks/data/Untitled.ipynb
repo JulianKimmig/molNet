{
 "cells": [
  {
   "cell_type": "code",
   "execution_count": 1,
   "id": "refined-garage",
   "metadata": {},
   "outputs": [],
   "source": [
    "import pandas as pd\n",
    "from rdkit import Chem\n",
    "import requests\n",
    "from bs4 import BeautifulSoup\n",
    "import numpy as np\n",
    "from rdkit.Chem import PandasTools\n",
    "from rdkit import RDConfig\n",
    "PandasTools.RenderImagesInAllDataFrames(images=True)"
   ]
  },
  {
   "cell_type": "code",
   "execution_count": null,
   "id": "clean-diving",
   "metadata": {},
   "outputs": [
    {
     "name": "stdout",
     "output_type": "stream",
     "text": [
      "483918 157600 1577\n",
      "483918 157700 1578\n",
      "483918 157800 1579\n",
      "483918 157900 1580\n",
      "483918 158000 1581\n",
      "483918 158100 1582\n",
      "483918 158200 1583\n",
      "483918 158300 1584\n",
      "483918 158400 1585\n",
      "483918 158500 1586\n",
      "483918 158600 1587\n",
      "483918 158700 1588\n",
      "483918 158800 1589\n",
      "483918 158900 1590\n",
      "483918 159000 1591\n",
      "483918 159100 1592\n",
      "483918 159200 1593\n",
      "483918 159300 1594\n",
      "483918 159400 1595\n",
      "483918 159500 1596\n",
      "483918 159600 1597\n",
      "483918 159700 1598\n",
      "483918 159800 1599\n",
      "483918 159900 1600\n"
     ]
    }
   ],
   "source": [
    "cookies = {'JSESSIONID': 'A4F2D9B857B9779D00176F168AEFC7DE'}\n",
    "data={\"out\":\"json\",\n",
    "      \"pagenum\":1,\n",
    "      \"pagesize\":100,\n",
    "      \"article\":99826\n",
    "     }\n",
    "\n",
    "coll_data=[]\n",
    "\n",
    "last_res=1\n",
    "cur_res=0\n",
    "while last_res>cur_res:\n",
    "    resp=requests.post(\"https://ochem.eu/epbrowser/list.do\",cookies=cookies,data=data)\n",
    "    resp_data = resp.json()\n",
    "    coll_data.extend(resp_data['list']['exp-property'])\n",
    "    last_res=int(resp_data['list']['size'])\n",
    "    cur_res=int(resp_data['list']['lastResult'])\n",
    "    data[\"pagenum\"]=int(resp_data['list'][\"pageNum\"])+1\n",
    "    print(last_res,cur_res,data[\"pagenum\"])\n",
    "len(coll_data)"
   ]
  },
  {
   "cell_type": "code",
   "execution_count": 5,
   "id": "raising-workstation",
   "metadata": {},
   "outputs": [
    {
     "data": {
      "text/plain": [
       "dict_keys(['exp-property', 'firstResult', 'lastResult', 'maxAllowedItemsForSorting', 'pageNum', 'pageSize', 'size', 'sortingDiscarded'])"
      ]
     },
     "execution_count": 5,
     "metadata": {},
     "output_type": "execute_result"
    }
   ],
   "source": []
  },
  {
   "cell_type": "code",
   "execution_count": 11,
   "id": "amended-religious",
   "metadata": {},
   "outputs": [
    {
     "data": {
      "text/plain": [
       "100"
      ]
     },
     "execution_count": 11,
     "metadata": {},
     "output_type": "execute_result"
    }
   ],
   "source": []
  },
  {
   "cell_type": "code",
   "execution_count": null,
   "id": "unable-macintosh",
   "metadata": {},
   "outputs": [],
   "source": []
  }
 ],
 "metadata": {
  "kernelspec": {
   "display_name": "molNet",
   "language": "python",
   "name": "molnet"
  },
  "language_info": {
   "codemirror_mode": {
    "name": "ipython",
    "version": 3
   },
   "file_extension": ".py",
   "mimetype": "text/x-python",
   "name": "python",
   "nbconvert_exporter": "python",
   "pygments_lexer": "ipython3",
   "version": "3.7.10"
  }
 },
 "nbformat": 4,
 "nbformat_minor": 5
}
