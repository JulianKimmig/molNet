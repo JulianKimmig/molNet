{
 "cells": [
  {
   "cell_type": "code",
   "execution_count": 70,
   "id": "interpreted-startup",
   "metadata": {},
   "outputs": [],
   "source": [
    "import pandas as pd\n",
    "from rdkit import Chem\n",
    "import numpy as np\n",
    "from rdkit.Chem import PandasTools\n",
    "from rdkit import RDConfig\n",
    "PandasTools.RenderImagesInAllDataFrames(images=True)\n",
    "import os"
   ]
  },
  {
   "cell_type": "code",
   "execution_count": 71,
   "id": "built-scheduling",
   "metadata": {},
   "outputs": [],
   "source": [
    "lines=[]\n",
    "with open(\"patents_ochem_enamine_bradley_begstrom_training_.csv\",\"r\") as f:\n",
    "    l = f.readline()\n",
    "    while l:\n",
    "        l = l.strip().replace('\",\"',\"'\\t'\").replace('\"',\"''\").replace(\"'\\t'\",'\",\"')\n",
    "        if l.startswith(\"''\"):\n",
    "            l='\"'+l[2:]\n",
    "        if l.endswith(\"''\"):\n",
    "            l=l[:-2]+'\"'\n",
    "        l=l+\"\\n\"\n",
    "        \n",
    "        lines.append(l)\n",
    "        l = f.readline()\n",
    "    \n",
    "with open(\"patents_ochem_enamine_bradley_begstrom_training_edit.csv\",\"w+\") as f:\n",
    "    f.writelines(lines)"
   ]
  },
  {
   "cell_type": "code",
   "execution_count": 111,
   "id": "united-soviet",
   "metadata": {},
   "outputs": [],
   "source": [
    "df = pd.read_csv(\"patents_ochem_enamine_bradley_begstrom_training_edit.csv\")"
   ]
  },
  {
   "cell_type": "code",
   "execution_count": 107,
   "id": "adapted-lindsay",
   "metadata": {},
   "outputs": [],
   "source": [
    "from rdkit.Chem import MolFromSmiles\n",
    "def _mfs(s):\n",
    "    return MolFromSmiles(s)\n",
    "df[\"mol\"]=df[\"smiles\"].apply(_mfs)"
   ]
  },
  {
   "cell_type": "code",
   "execution_count": 108,
   "id": "painful-delight",
   "metadata": {},
   "outputs": [],
   "source": [
    "from rdkit.Chem import MolToSmiles\n",
    "def _mts(m):\n",
    "    try:\n",
    "        return MolToSmiles(m)\n",
    "    except:\n",
    "        return \"\"\n",
    "df[\"new_SMILES\"]=df[\"mol\"].apply(_mts)\n",
    "df.drop(df.index[df[\"new_SMILES\"]==\"\"],inplace=True)"
   ]
  },
  {
   "cell_type": "code",
   "execution_count": 112,
   "id": "prompt-winning",
   "metadata": {},
   "outputs": [],
   "source": [
    "df.drop([\"NAME.1\",\"UNIT {Melting Point}\",\"CASRN\",\"SMILES\",\"mol\"],axis=1,errors=\"ignore\",inplace=True)\n",
    "df.rename({\"Melting Point {measured, converted}\":\"mpC\",\"new_SMILES\":\"smiles\",\"mpc\":\"mpC\"},axis=1,inplace=True)"
   ]
  },
  {
   "cell_type": "code",
   "execution_count": 121,
   "id": "technological-timing",
   "metadata": {},
   "outputs": [],
   "source": [
    "for smiles in df[\"smiles\"][df[\"smiles\"].duplicated()]:\n",
    "    _d = df[df[\"smiles\"]==smiles]\n",
    "    _mean= _d.mpC.mean()\n",
    "    if np.abs(_d.mpC-_mean).max() > 5:\n",
    "        df.drop(_d.index,inplace=True)\n",
    "    else:\n",
    "        _di=_d.index\n",
    "        df.loc[_d.index[0],\"mpC\"]=_mean\n",
    "        df.drop(_d.index[1:],inplace=True)\n",
    "df.reset_index(drop=True, inplace=True)"
   ]
  },
  {
   "cell_type": "code",
   "execution_count": 125,
   "id": "convinced-display",
   "metadata": {},
   "outputs": [],
   "source": [
    "df.to_csv(\"patents_ochem_enamine_bradley_begstrom_training_edit.csv\",index=False)"
   ]
  },
  {
   "cell_type": "code",
   "execution_count": null,
   "id": "visible-packet",
   "metadata": {},
   "outputs": [],
   "source": []
  },
  {
   "cell_type": "code",
   "execution_count": null,
   "id": "civic-mountain",
   "metadata": {},
   "outputs": [],
   "source": []
  }
 ],
 "metadata": {
  "kernelspec": {
   "display_name": "molNet",
   "language": "python",
   "name": "molnet"
  },
  "language_info": {
   "codemirror_mode": {
    "name": "ipython",
    "version": 3
   },
   "file_extension": ".py",
   "mimetype": "text/x-python",
   "name": "python",
   "nbconvert_exporter": "python",
   "pygments_lexer": "ipython3",
   "version": "3.7.10"
  }
 },
 "nbformat": 4,
 "nbformat_minor": 5
}
