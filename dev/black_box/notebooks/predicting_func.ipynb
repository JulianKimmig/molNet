{
 "cells": [
  {
   "cell_type": "code",
   "execution_count": null,
   "metadata": {},
   "outputs": [],
   "source": [
    "import pandas as pd\n",
    "\n",
    "import _background as bg\n",
    "import molNet\n",
    "from molNet.dataloader.molecule_loader import PytorchGeomMolDfLoader\n",
    "from molNet.featurizer.atom_featurizer import atom_formal_charge, atom_partial_charge, atom_hybridization_one_hot, \\\n",
    "    atom_is_aromatic, atom_is_in_ring, atom_symbol_one_hot_from_set\n",
    "from molNet.featurizer.featurizer import FeaturizerList\n",
    "import pytorch_lightning as pl\n",
    "import torch"
   ]
  },
  {
   "cell_type": "code",
   "execution_count": null,
   "metadata": {},
   "outputs": [],
   "source": [
    "dataset = pd.read_csv(\"data/functional_groups.csv\")\n",
    "dataset=dataset.iloc[:1000]"
   ]
  },
  {
   "cell_type": "code",
   "execution_count": null,
   "metadata": {},
   "outputs": [],
   "source": [
    "ys=list(dataset.columns)\n",
    "ys.remove(\"smiles\")\n",
    "yar=[]\n",
    "\n",
    "for i,d in dataset.iterrows():\n",
    "    yar.append(d[ys].values[None,:])\n",
    "dataset[\"y\"]=yar\n",
    "#dataset[[\"y\"]]\n",
    "#dataset"
   ]
  },
  {
   "cell_type": "code",
   "execution_count": 4,
   "metadata": {},
   "outputs": [],
   "source": [
    "dataset[\"rd_mol\"]=dataset[\"smiles\"].apply(bg.MolFromSmiles)\n",
    "c_mp_atom_symbol_featurizer = atom_symbol_one_hot_from_set(dataset[\"rd_mol\"],only_mass=True)\n",
    "\n",
    "\n",
    "featurizer = FeaturizerList([\n",
    "    c_mp_atom_symbol_featurizer,\n",
    "    atom_formal_charge,\n",
    "    atom_partial_charge,\n",
    "    atom_hybridization_one_hot,\n",
    "    atom_is_in_ring,\n",
    "    atom_is_aromatic,\n",
    "])"
   ]
  },
  {
   "cell_type": "code",
   "execution_count": 5,
   "outputs": [
    {
     "data": {
      "text/plain": "42"
     },
     "execution_count": 5,
     "metadata": {},
     "output_type": "execute_result"
    }
   ],
   "source": [
    "yar[0].size"
   ],
   "metadata": {
    "collapsed": false,
    "pycharm": {
     "name": "#%%\n"
    }
   }
  },
  {
   "cell_type": "code",
   "execution_count": 6,
   "metadata": {},
   "outputs": [],
   "source": [
    "loader_FGModel1 = PytorchGeomMolDfLoader(dataset,\n",
    "                                         y_columns=[\"y\"],\n",
    "                                         columns=[],\n",
    "                                         atom_featurizer=featurizer,\n",
    "                                         seed=1,\n",
    "                                         batch_size=128,\n",
    "                                         )\n"
   ]
  },
  {
   "cell_type": "code",
   "execution_count": 7,
   "metadata": {},
   "outputs": [
    {
     "name": "stdout",
     "output_type": "stream",
     "text": [
      "Batch(batch=[4816], edge_index=[2, 9956], x=[4816, 22], x_graph_features=[128, 0], y=[4816, 0], y_graph_features=[128, 42])\n"
     ]
    }
   ],
   "source": [
    "loader_FGModel1.setup()\n",
    "for d in loader_FGModel1.test_dataloader():\n",
    "    print(d)\n",
    "    break"
   ]
  },
  {
   "cell_type": "code",
   "execution_count": 8,
   "metadata": {},
   "outputs": [],
   "source": [
    "class FGModel1(pl.LightningModule):\n",
    "    def __init__(self,in_size,out_size,name=\"none\",n_chem_layer=6,chem_layer_feats_out=40,chem_layer_gc_out=30,chem_layer_net_sizes=10,chem_layer_net_count=2,\n",
    "                 collector_net_depth=3,collector_net_depth_red_fac=2,lr=1e-3,poolings=[\"pool_wsum\"]):\n",
    "        super().__init__()\n",
    "        self.save_hyperparameters()\n",
    "        \n",
    "        #print(self.hparams)\n",
    "        \n",
    "        chem_layer=[\n",
    "            bg.ChemGCLayer(in_size,[chem_layer_net_sizes]*chem_layer_net_count,chem_layer_gc_out,chem_layer_feats_out,bias=False)\n",
    "        ]\n",
    "        for n in range(n_chem_layer-1):\n",
    "            chem_layer.append(bg.ChemGCLayer(chem_layer_feats_out,[chem_layer_net_sizes]*chem_layer_net_count,chem_layer_gc_out,chem_layer_feats_out,bias=False))\n",
    "        \n",
    "        self.chem_layer=torch.nn.Sequential(*chem_layer)\n",
    "        \n",
    "        \n",
    "        self.lr = lr\n",
    "        \n",
    "        poolings_layer=[]\n",
    "        for p in poolings:\n",
    "            if p==\"pool_max\":\n",
    "                poolings_layer.append(molNet.nn.models.graph_convolution.PoolMax())\n",
    "            elif p==\"pool_min\":\n",
    "                poolings_layer.append(molNet.nn.models.graph_convolution.PoolMin())\n",
    "            elif p==\"pool_mean\":\n",
    "                poolings_layer.append(molNet.nn.models.graph_convolution.PoolMean())\n",
    "            elif p==\"pool_sum\":\n",
    "                poolings_layer.append(molNet.nn.models.graph_convolution.PoolSum())\n",
    "            elif p==\"pool_wsum\":\n",
    "                poolings_layer.append(molNet.nn.models.graph_convolution.PoolWeightedSum(self.chem_layer[-1].feats_out,normalize=False))\n",
    "            elif p==\"pool_nwsum\":\n",
    "                poolings_layer.append(molNet.nn.models.graph_convolution.PoolWeightedSum(self.chem_layer[-1].feats_out,normalize=True))\n",
    "\n",
    "            else:\n",
    "                raise Exception(\"unknown pooling '{}'\".format(p))\n",
    "        \n",
    "        self.pooling=molNet.nn.models.graph_convolution.MergedPooling(\n",
    "            {\"pool_{}\".format(i):poolings_layer[i] for i in range(len(poolings_layer))}\n",
    "        )\n",
    "        \n",
    "        self.post_pool_norm=torch.nn.Sigmoid()\n",
    "        \n",
    "        collector_net = [\n",
    "            torch.nn.Linear(len(self.pooling)*self.chem_layer[-1].feats_out,max(1,int(len(self.pooling)*self.chem_layer[-1].feats_out/collector_net_depth_red_fac))),\n",
    "            torch.nn.ReLU()\n",
    "        ]\n",
    "        \n",
    "        for i in range(collector_net_depth-1):\n",
    "            collector_net.append(torch.nn.Linear(collector_net[-2].out_features,max(1,int(collector_net[-2].out_features/collector_net_depth_red_fac))))\n",
    "            collector_net.append(torch.nn.ReLU())\n",
    "        collector_net.append(torch.nn.Linear(collector_net[-2].out_features,out_size))\n",
    "        \n",
    "        collector_net.append(torch.nn.Sigmoid())\n",
    "        self.nn=torch.nn.Sequential(*collector_net)\n",
    "        \n",
    "        \n",
    "        \n",
    "        self.lossf=torch.nn.MSELoss()#torch.nn.BCEWithLogitsLoss()#\n",
    "\n",
    "    def unpacked_forward(self, feats, edges, batch,graph_features):\n",
    "        feats,_,_ = self.chem_layer((feats, edges, batch))\n",
    "\n",
    "        y_hat = self.pooling(feats,batch)\n",
    "        y_hat = self.post_pool_norm(y_hat)\n",
    "        y_hat = self.nn(y_hat)\n",
    "        return y_hat\n",
    "      \n",
    "    def forward(self,batch):\n",
    "        return self.unpacked_forward(feats=batch.x,edges=batch.edge_index,batch=batch.batch,graph_features=batch.x_graph_features)\n",
    "\n",
    "    def configure_optimizers(self):\n",
    "        optimizer = torch.optim.Adam(self.parameters(), lr=self.lr)\n",
    "        return optimizer\n",
    "\n",
    "    def batch_to_loss(self,batch):\n",
    "        y_hat=self(batch)\n",
    "        loss = self.lossf(y_hat, batch.y_graph_features)\n",
    "        return loss\n",
    "\n",
    "    def training_step(self,batch, *args, **kwargs):\n",
    "        loss =  self.batch_to_loss(batch)\n",
    "        self.log('train_loss', loss)\n",
    "        return loss\n",
    "    \n",
    "    def validation_step(self,batch, *args, **kwargs):\n",
    "        loss =  self.batch_to_loss(batch)\n",
    "        self.log('val_loss', loss)\n",
    "        return loss\n",
    "    \n",
    "    def test_step(self,batch, *args, **kwargs):\n",
    "        loss =  self.batch_to_loss(batch)\n",
    "        self.log('test_loss', loss)\n",
    "        return loss\n",
    "\n",
    "model_FGModel1 = FGModel1(in_size=len(featurizer),out_size=yar[0].size)"
   ]
  },
  {
   "cell_type": "code",
   "execution_count": 9,
   "metadata": {},
   "outputs": [],
   "source": [
    "model_FGModel1 = FGModel1(in_size=len(featurizer),\n",
    "                          out_size=yar[0].size,\n",
    "                              n_chem_layer = 3,\n",
    "                              chem_layer_feats_out=25,\n",
    "                              chem_layer_gc_out=20,\n",
    "                              chem_layer_net_sizes=8,\n",
    "                              chem_layer_net_count=1,\n",
    "                              collector_net_depth=3,\n",
    "                              collector_net_depth_red_fac=1,\n",
    "                              poolings=[\"pool_min\",\"pool_max\",\"pool_mean\",\"pool_nwsum\"],\n",
    "                              lr=0.001,\n",
    "                             )"
   ]
  },
  {
   "cell_type": "code",
   "execution_count": 10,
   "outputs": [
    {
     "data": {
      "text/plain": "<Figure size 432x288 with 1 Axes>",
      "image/png": "[encoded data removed]"
     },
     "metadata": {
      "needs_background": "light"
     },
     "output_type": "display_data"
    },
    {
     "name": "stderr",
     "output_type": "stream",
     "text": [
      "Epoch 50, global step 305: val_loss reached 0.15028 (best 0.15028), saving model to \"models/FGModel1/logs/tensorboard/default/version_14/checkpoints/epoch=50-step=305.ckpt\" as top 1\n",
      "/home/julian/anaconda3/envs/molNet/lib/python3.7/site-packages/pytorch_lightning/utilities/distributed.py:50: UserWarning: you defined a test_step but have no test_dataloader. Skipping test loop\n",
      "  warnings.warn(*args, **kwargs)\n"
     ]
    },
    {
     "name": "stdout",
     "output_type": "stream",
     "text": [
      "(0,) (6300,)\n"
     ]
    },
    {
     "ename": "ValueError",
     "evalue": "x and y must have same first dimension, but have shapes (0,) and (6300,)",
     "output_type": "error",
     "traceback": [
      "\u001B[0;31m---------------------------------------------------------------------------\u001B[0m",
      "\u001B[0;31mValueError\u001B[0m                                Traceback (most recent call last)",
      "\u001B[0;32m<ipython-input-10-b56d351be677>\u001B[0m in \u001B[0;36m<module>\u001B[0;34m\u001B[0m\n\u001B[1;32m     10\u001B[0m                     \u001B[0mearly_stopping_delta\u001B[0m\u001B[0;34m=\u001B[0m\u001B[0;36m1\u001B[0m\u001B[0;34m,\u001B[0m\u001B[0;34m\u001B[0m\u001B[0;34m\u001B[0m\u001B[0m\n\u001B[1;32m     11\u001B[0m                    \u001B[0mdetect_lr\u001B[0m\u001B[0;34m=\u001B[0m\u001B[0;32mFalse\u001B[0m\u001B[0;34m,\u001B[0m\u001B[0;34m\u001B[0m\u001B[0;34m\u001B[0m\u001B[0m\n\u001B[0;32m---> 12\u001B[0;31m                     \u001B[0mearly_stop_patience\u001B[0m\u001B[0;34m=\u001B[0m\u001B[0;36m50\u001B[0m\u001B[0;34m,\u001B[0m\u001B[0;34m\u001B[0m\u001B[0;34m\u001B[0m\u001B[0m\n\u001B[0m\u001B[1;32m     13\u001B[0m \u001B[0;34m\u001B[0m\u001B[0m\n\u001B[1;32m     14\u001B[0m     )\n",
      "\u001B[0;32m~/IdeaProjects/molNet/dev/black_box/notebooks/_training.py\u001B[0m in \u001B[0;36mdefault_model_run\u001B[0;34m(model_name, model, loader, force_run, detect_lr, show_tb, train, save, test, live_plot, max_epochs, min_epochs, ignore_load_error, early_stopping, early_stopping_delta, categories, plot_ignore_first, early_stop_patience)\u001B[0m\n\u001B[1;32m    193\u001B[0m     \u001B[0mmodel\u001B[0m\u001B[0;34m.\u001B[0m\u001B[0mto\u001B[0m\u001B[0;34m(\u001B[0m\u001B[0;34m\"cpu\"\u001B[0m\u001B[0;34m)\u001B[0m\u001B[0;34m\u001B[0m\u001B[0;34m\u001B[0m\u001B[0m\n\u001B[1;32m    194\u001B[0m     \u001B[0;32mif\u001B[0m \u001B[0mREDRAW\u001B[0m \u001B[0;32mor\u001B[0m \u001B[0mforce_run\u001B[0m\u001B[0;34m:\u001B[0m\u001B[0;34m\u001B[0m\u001B[0;34m\u001B[0m\u001B[0m\n\u001B[0;32m--> 195\u001B[0;31m         \u001B[0mplot_true_pred\u001B[0m\u001B[0;34m(\u001B[0m\u001B[0mmodel\u001B[0m\u001B[0;34m,\u001B[0m \u001B[0mloader\u001B[0m\u001B[0;34m,\u001B[0m \u001B[0mtarget_file\u001B[0m\u001B[0;34m=\u001B[0m\u001B[0mdata\u001B[0m\u001B[0;34m[\u001B[0m\u001B[0;34m\"files\"\u001B[0m\u001B[0;34m]\u001B[0m\u001B[0;34m[\u001B[0m\u001B[0;34m\"true_pred_plt\"\u001B[0m\u001B[0;34m]\u001B[0m\u001B[0;34m)\u001B[0m\u001B[0;34m\u001B[0m\u001B[0;34m\u001B[0m\u001B[0m\n\u001B[0m\u001B[1;32m    196\u001B[0m         \u001B[0;32mif\u001B[0m \u001B[0mcategories\u001B[0m\u001B[0;34m:\u001B[0m\u001B[0;34m\u001B[0m\u001B[0;34m\u001B[0m\u001B[0m\n\u001B[1;32m    197\u001B[0m             plot_category_validation(\n",
      "\u001B[0;32m~/IdeaProjects/molNet/dev/black_box/notebooks/_plots.py\u001B[0m in \u001B[0;36mplot_true_pred\u001B[0;34m(model, loader, target_file)\u001B[0m\n\u001B[1;32m     21\u001B[0m     \u001B[0mtrue\u001B[0m\u001B[0;34m,\u001B[0m \u001B[0mpred\u001B[0m \u001B[0;34m=\u001B[0m \u001B[0mnp\u001B[0m\u001B[0;34m.\u001B[0m\u001B[0marray\u001B[0m\u001B[0;34m(\u001B[0m\u001B[0mtrue\u001B[0m\u001B[0;34m)\u001B[0m\u001B[0;34m,\u001B[0m\u001B[0mnp\u001B[0m\u001B[0;34m.\u001B[0m\u001B[0marray\u001B[0m\u001B[0;34m(\u001B[0m\u001B[0mpred\u001B[0m\u001B[0;34m)\u001B[0m\u001B[0;34m\u001B[0m\u001B[0;34m\u001B[0m\u001B[0m\n\u001B[1;32m     22\u001B[0m     \u001B[0mprint\u001B[0m\u001B[0;34m(\u001B[0m\u001B[0mtrue\u001B[0m\u001B[0;34m.\u001B[0m\u001B[0mshape\u001B[0m\u001B[0;34m,\u001B[0m\u001B[0mpred\u001B[0m\u001B[0;34m.\u001B[0m\u001B[0mshape\u001B[0m\u001B[0;34m)\u001B[0m\u001B[0;34m\u001B[0m\u001B[0;34m\u001B[0m\u001B[0m\n\u001B[0;32m---> 23\u001B[0;31m     \u001B[0mplt\u001B[0m\u001B[0;34m.\u001B[0m\u001B[0mplot\u001B[0m\u001B[0;34m(\u001B[0m\u001B[0mtrue\u001B[0m\u001B[0;34m,\u001B[0m \u001B[0mpred\u001B[0m\u001B[0;34m,\u001B[0m \u001B[0;34m\"o\"\u001B[0m\u001B[0;34m)\u001B[0m\u001B[0;34m\u001B[0m\u001B[0;34m\u001B[0m\u001B[0m\n\u001B[0m\u001B[1;32m     24\u001B[0m \u001B[0;34m\u001B[0m\u001B[0m\n\u001B[1;32m     25\u001B[0m     \u001B[0;32mif\u001B[0m \u001B[0mtarget_file\u001B[0m \u001B[0;32mis\u001B[0m \u001B[0;32mNone\u001B[0m\u001B[0;34m:\u001B[0m\u001B[0;34m\u001B[0m\u001B[0;34m\u001B[0m\u001B[0m\n",
      "\u001B[0;32m~/anaconda3/envs/molNet/lib/python3.7/site-packages/matplotlib/pyplot.py\u001B[0m in \u001B[0;36mplot\u001B[0;34m(scalex, scaley, data, *args, **kwargs)\u001B[0m\n\u001B[1;32m   2840\u001B[0m     return gca().plot(\n\u001B[1;32m   2841\u001B[0m         \u001B[0;34m*\u001B[0m\u001B[0margs\u001B[0m\u001B[0;34m,\u001B[0m \u001B[0mscalex\u001B[0m\u001B[0;34m=\u001B[0m\u001B[0mscalex\u001B[0m\u001B[0;34m,\u001B[0m \u001B[0mscaley\u001B[0m\u001B[0;34m=\u001B[0m\u001B[0mscaley\u001B[0m\u001B[0;34m,\u001B[0m\u001B[0;34m\u001B[0m\u001B[0;34m\u001B[0m\u001B[0m\n\u001B[0;32m-> 2842\u001B[0;31m         **({\"data\": data} if data is not None else {}), **kwargs)\n\u001B[0m\u001B[1;32m   2843\u001B[0m \u001B[0;34m\u001B[0m\u001B[0m\n\u001B[1;32m   2844\u001B[0m \u001B[0;34m\u001B[0m\u001B[0m\n",
      "\u001B[0;32m~/anaconda3/envs/molNet/lib/python3.7/site-packages/matplotlib/axes/_axes.py\u001B[0m in \u001B[0;36mplot\u001B[0;34m(self, scalex, scaley, data, *args, **kwargs)\u001B[0m\n\u001B[1;32m   1741\u001B[0m         \"\"\"\n\u001B[1;32m   1742\u001B[0m         \u001B[0mkwargs\u001B[0m \u001B[0;34m=\u001B[0m \u001B[0mcbook\u001B[0m\u001B[0;34m.\u001B[0m\u001B[0mnormalize_kwargs\u001B[0m\u001B[0;34m(\u001B[0m\u001B[0mkwargs\u001B[0m\u001B[0;34m,\u001B[0m \u001B[0mmlines\u001B[0m\u001B[0;34m.\u001B[0m\u001B[0mLine2D\u001B[0m\u001B[0;34m)\u001B[0m\u001B[0;34m\u001B[0m\u001B[0;34m\u001B[0m\u001B[0m\n\u001B[0;32m-> 1743\u001B[0;31m         \u001B[0mlines\u001B[0m \u001B[0;34m=\u001B[0m \u001B[0;34m[\u001B[0m\u001B[0;34m*\u001B[0m\u001B[0mself\u001B[0m\u001B[0;34m.\u001B[0m\u001B[0m_get_lines\u001B[0m\u001B[0;34m(\u001B[0m\u001B[0;34m*\u001B[0m\u001B[0margs\u001B[0m\u001B[0;34m,\u001B[0m \u001B[0mdata\u001B[0m\u001B[0;34m=\u001B[0m\u001B[0mdata\u001B[0m\u001B[0;34m,\u001B[0m \u001B[0;34m**\u001B[0m\u001B[0mkwargs\u001B[0m\u001B[0;34m)\u001B[0m\u001B[0;34m]\u001B[0m\u001B[0;34m\u001B[0m\u001B[0;34m\u001B[0m\u001B[0m\n\u001B[0m\u001B[1;32m   1744\u001B[0m         \u001B[0;32mfor\u001B[0m \u001B[0mline\u001B[0m \u001B[0;32min\u001B[0m \u001B[0mlines\u001B[0m\u001B[0;34m:\u001B[0m\u001B[0;34m\u001B[0m\u001B[0;34m\u001B[0m\u001B[0m\n\u001B[1;32m   1745\u001B[0m             \u001B[0mself\u001B[0m\u001B[0;34m.\u001B[0m\u001B[0madd_line\u001B[0m\u001B[0;34m(\u001B[0m\u001B[0mline\u001B[0m\u001B[0;34m)\u001B[0m\u001B[0;34m\u001B[0m\u001B[0;34m\u001B[0m\u001B[0m\n",
      "\u001B[0;32m~/anaconda3/envs/molNet/lib/python3.7/site-packages/matplotlib/axes/_base.py\u001B[0m in \u001B[0;36m__call__\u001B[0;34m(self, data, *args, **kwargs)\u001B[0m\n\u001B[1;32m    271\u001B[0m                 \u001B[0mthis\u001B[0m \u001B[0;34m+=\u001B[0m \u001B[0margs\u001B[0m\u001B[0;34m[\u001B[0m\u001B[0;36m0\u001B[0m\u001B[0;34m]\u001B[0m\u001B[0;34m,\u001B[0m\u001B[0;34m\u001B[0m\u001B[0;34m\u001B[0m\u001B[0m\n\u001B[1;32m    272\u001B[0m                 \u001B[0margs\u001B[0m \u001B[0;34m=\u001B[0m \u001B[0margs\u001B[0m\u001B[0;34m[\u001B[0m\u001B[0;36m1\u001B[0m\u001B[0;34m:\u001B[0m\u001B[0;34m]\u001B[0m\u001B[0;34m\u001B[0m\u001B[0;34m\u001B[0m\u001B[0m\n\u001B[0;32m--> 273\u001B[0;31m             \u001B[0;32myield\u001B[0m \u001B[0;32mfrom\u001B[0m \u001B[0mself\u001B[0m\u001B[0;34m.\u001B[0m\u001B[0m_plot_args\u001B[0m\u001B[0;34m(\u001B[0m\u001B[0mthis\u001B[0m\u001B[0;34m,\u001B[0m \u001B[0mkwargs\u001B[0m\u001B[0;34m)\u001B[0m\u001B[0;34m\u001B[0m\u001B[0;34m\u001B[0m\u001B[0m\n\u001B[0m\u001B[1;32m    274\u001B[0m \u001B[0;34m\u001B[0m\u001B[0m\n\u001B[1;32m    275\u001B[0m     \u001B[0;32mdef\u001B[0m \u001B[0mget_next_color\u001B[0m\u001B[0;34m(\u001B[0m\u001B[0mself\u001B[0m\u001B[0;34m)\u001B[0m\u001B[0;34m:\u001B[0m\u001B[0;34m\u001B[0m\u001B[0;34m\u001B[0m\u001B[0m\n",
      "\u001B[0;32m~/anaconda3/envs/molNet/lib/python3.7/site-packages/matplotlib/axes/_base.py\u001B[0m in \u001B[0;36m_plot_args\u001B[0;34m(self, tup, kwargs)\u001B[0m\n\u001B[1;32m    397\u001B[0m \u001B[0;34m\u001B[0m\u001B[0m\n\u001B[1;32m    398\u001B[0m         \u001B[0;32mif\u001B[0m \u001B[0mx\u001B[0m\u001B[0;34m.\u001B[0m\u001B[0mshape\u001B[0m\u001B[0;34m[\u001B[0m\u001B[0;36m0\u001B[0m\u001B[0;34m]\u001B[0m \u001B[0;34m!=\u001B[0m \u001B[0my\u001B[0m\u001B[0;34m.\u001B[0m\u001B[0mshape\u001B[0m\u001B[0;34m[\u001B[0m\u001B[0;36m0\u001B[0m\u001B[0;34m]\u001B[0m\u001B[0;34m:\u001B[0m\u001B[0;34m\u001B[0m\u001B[0;34m\u001B[0m\u001B[0m\n\u001B[0;32m--> 399\u001B[0;31m             raise ValueError(f\"x and y must have same first dimension, but \"\n\u001B[0m\u001B[1;32m    400\u001B[0m                              f\"have shapes {x.shape} and {y.shape}\")\n\u001B[1;32m    401\u001B[0m         \u001B[0;32mif\u001B[0m \u001B[0mx\u001B[0m\u001B[0;34m.\u001B[0m\u001B[0mndim\u001B[0m \u001B[0;34m>\u001B[0m \u001B[0;36m2\u001B[0m \u001B[0;32mor\u001B[0m \u001B[0my\u001B[0m\u001B[0;34m.\u001B[0m\u001B[0mndim\u001B[0m \u001B[0;34m>\u001B[0m \u001B[0;36m2\u001B[0m\u001B[0;34m:\u001B[0m\u001B[0;34m\u001B[0m\u001B[0;34m\u001B[0m\u001B[0m\n",
      "\u001B[0;31mValueError\u001B[0m: x and y must have same first dimension, but have shapes (0,) and (6300,)"
     ]
    },
    {
     "data": {
      "text/plain": "<Figure size 432x288 with 1 Axes>",
      "image/png": "[encoded data removed]"
     },
     "metadata": {
      "needs_background": "light"
     },
     "output_type": "display_data"
    }
   ],
   "source": [
    "model_FGModel1,data_FGModel1 = bg.default_model_run(\n",
    "        \"FGModel1\",\n",
    "        model_FGModel1,\n",
    "        loader_FGModel1,\n",
    "                      force_run=True,\n",
    "                      #force_test_data_reload=True,\n",
    "                    #min_epochs=200,\n",
    "                    early_stopping=True,\n",
    "                    max_epochs=250,\n",
    "                    early_stopping_delta=1,\n",
    "                   detect_lr=False,\n",
    "                    early_stop_patience=50,\n",
    "\n",
    "    )"
   ],
   "metadata": {
    "collapsed": false,
    "pycharm": {
     "name": "#%%\n"
    }
   }
  },
  {
   "cell_type": "code",
   "execution_count": null,
   "metadata": {},
   "outputs": [],
   "source": []
  },
  {
   "cell_type": "code",
   "execution_count": null,
   "metadata": {},
   "outputs": [],
   "source": [
    "#list(model_FGModel1.parameters())\n",
    "model_parameters = filter(lambda p: p.requires_grad, model_FGModel1.parameters())\n",
    "params = sum([np.prod(p.size()) for p in model_parameters])\n",
    "params"
   ]
  },
  {
   "cell_type": "code",
   "execution_count": null,
   "metadata": {},
   "outputs": [],
   "source": [
    "true=[]\n",
    "pred=[]\n",
    "try:\n",
    "    loader_FGModel1.train_dataloader()\n",
    "except:\n",
    "    loader_FGModel1.setup()\n",
    "    \n",
    "for l in [\n",
    "        loader_FGModel1.train_dataloader(),\n",
    "          loader_FGModel1.val_dataloader(),\n",
    "          loader_FGModel1.test_dataloader()\n",
    "         ]:\n",
    "    for d in l:\n",
    "        pred.extend(model_FGModel1(d).detach().flatten().numpy().tolist())\n",
    "        true.extend(d.y.flatten().numpy().tolist())\n",
    "        \n",
    "    #print(()-np.exp(d.y.numpy())).mean())\n",
    "\n",
    "pred=np.array(pred)\n",
    "true=np.array(true)"
   ]
  },
  {
   "cell_type": "code",
   "execution_count": null,
   "metadata": {},
   "outputs": [],
   "source": [
    "dmin=min(true.min(),pred.min())\n",
    "dmax=max(true.max(),pred.max())\n",
    "\n",
    "plt.plot([dmin-273,dmax-273],[dmin-273,dmax-273],\"--\")\n",
    "plt.plot(true-273,pred-273,\"o\",alpha=0.3,markeredgecolor=\"w\")\n",
    "plt.xlabel(\"true\")\n",
    "plt.ylabel(\"pred\")\n",
    "plt.show()\n",
    "plt.close()\n",
    "#plt.plot(np.exp(pred),np.exp(true),\"o\")\n",
    "#plt.show()\n",
    "#plt.close()"
   ]
  },
  {
   "cell_type": "code",
   "execution_count": null,
   "metadata": {},
   "outputs": [],
   "source": [
    "#print(np.abs(np.exp(pred)-np.exp(true)).mean())\n",
    "print(np.abs(pred-true).mean())"
   ]
  },
  {
   "cell_type": "code",
   "execution_count": null,
   "metadata": {},
   "outputs": [],
   "source": [
    "model_FGModel1"
   ]
  },
  {
   "cell_type": "code",
   "execution_count": null,
   "metadata": {},
   "outputs": [],
   "source": []
  },
  {
   "cell_type": "code",
   "execution_count": null,
   "metadata": {},
   "outputs": [],
   "source": []
  },
  {
   "cell_type": "code",
   "execution_count": null,
   "metadata": {},
   "outputs": [],
   "source": []
  }
 ],
 "metadata": {
  "kernelspec": {
   "display_name": "molNet",
   "language": "python",
   "name": "molnet"
  },
  "language_info": {
   "codemirror_mode": {
    "name": "ipython",
    "version": 3
   },
   "file_extension": ".py",
   "mimetype": "text/x-python",
   "name": "python",
   "nbconvert_exporter": "python",
   "pygments_lexer": "ipython3",
   "version": "3.7.10"
  }
 },
 "nbformat": 4,
 "nbformat_minor": 4
}