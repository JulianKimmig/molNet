{
 "cells": [
  {
   "cell_type": "code",
   "execution_count": 15,
   "metadata": {},
   "outputs": [],
   "source": [
    "%run 00_background.ipynb"
   ]
  },
  {
   "cell_type": "markdown",
   "metadata": {},
   "source": [
    "As long as there is evidence based researh, researches used models to describe the system they are focusing on. Classically these models are relying a lot on theories about the systems, how individual parts interact and influence each other and how certain external changes might change the system. These models are mosly idealised and simplified represenation of real systems which are used to descripe and predict natuarly occurend phenomena as best as possible."
   ]
  },
  {
   "cell_type": "markdown",
   "metadata": {},
   "source": [
    "A basic example for this is Copernican heliocentrism, a model describing the motion of planets around the sun in the center of the universe. The model was developed by Nicolaus Copernicus 1543 to describe the motion of the planets in an better and easier way than the previous accepted geocentric models.\n",
    "This model was later replaced by the Kepler's laws of planetary motion, describing the motion of planets in a eliptic instead of circular motion around the sun, which fits even better to obervations and was later shown to be a good approximation to Newton's laws of motion and gravity."
   ]
  },
  {
   "cell_type": "markdown",
   "metadata": {},
   "source": [
    "A model is always a more or less good description of reality which is usefull as long as it describes the system as good as needed and has to be replaced or refined when new obersvations are made, which cannot be described or even contradict the model."
   ]
  },
  {
   "cell_type": "markdown",
   "metadata": {},
   "source": [
    "In most cases these models can be described by a certain set of mathematically expressions, describing the relationships of different properties within the model. These expressions are rooted the underlying theory, which aims to gernealize the laws describing the observations."
   ]
  },
  {
   "cell_type": "markdown",
   "metadata": {},
   "source": [
    "With the increasing computational power and a wast amount of experimental data in their hands the research in many fields shifted from the usage of hand-crafted models based on defined theories to computer generated, data driven models. These models often rooted in arbitary complex functions with hundrens, thousend or even millions and more of parameters."
   ]
  },
  {
   "cell_type": "markdown",
   "metadata": {},
   "source": [
    "**some more indroduction**"
   ]
  },
  {
   "cell_type": "markdown",
   "metadata": {},
   "source": [
    "For many researchers these types of model are seen as black boxes"
   ]
  },
  {
   "cell_type": "markdown",
   "metadata": {},
   "source": [
    "**...**"
   ]
  },
  {
   "cell_type": "markdown",
   "metadata": {},
   "source": [
    "this paper aims to open the black box and give specifically but not exclusively for chemists to give them a better understanding of some of the underlying principles and show how the model results and intermediate representations can be interprated."
   ]
  },
  {
   "cell_type": "markdown",
   "metadata": {},
   "source": [
    "Every machine learning model needs a specific, well defined structure as input data. For Molecular data different more or less complex inputstructures are described in literature.\n",
    "One of the simplest are vectors encoding certain molecular properties of the molecule. Each value in dese vectores encodes a specific property as a numeric value. For properties like the presence of certain groups or substructures this is usually represented as a 1 of present or 0 if not present. Other propteries, experimental or calcualted can also be used as in input vectors. Examples are the molar mass, expermiental solubilities, chromatographic parameters like retention index, physical properties like boiling or melting point and so on. Nearly every numerical value can be used as an element of the input vector, but espiacially for values which have to be experimental determined this limits the training data space significant. For calculated properties, one has to rely on the accuracy of the calculations. For substructure describing feature the problem might occure, that two different molecules can create the same substruccture vector of all the encoded substructures are identical for both molecules. In this case the prediction result for both would also be the same, where in reality the prediced propertiy might be very different. \n",
    "\n",
    "Another more complex examlple is the usage of coninous text representations of the molecular structure. In this case usually simplified molecular-input line-entry system (SMILES) strings are used as a text input for the model. These models usually are based on a recurrent neural network (RNN) for arbitrary long SMILES or convolutional or fully connected  neuronal networks for one-hot-encoded SMILES. The later one takes a fixed size input and thus can only work with SMILES up to a specific length.\n",
    "\n",
    "The technique described in this paper is the one which is propaply the closest the the natual understanding of chemcial structure by chemists: graph convolutional networks (GCN).\n",
    "GCN take a graph represnetation of the molecular structure as input and propagate the properties of each atom along the the bonds and are lineary combined with other properties. This way atom properties spread across the whole graph (depending on he deepth of the convolutional newtwork) while influencing each other.This results in an overall distribution of combinatin of properties, which finally can be interpreded as new atom wise properties or combined together for one or multiple molecule wide properties."
   ]
  },
  {
   "cell_type": "markdown",
   "metadata": {},
   "source": [
    "The paper will start with basic examples to explain the basic functionality of these networks and continue t more complex examples and how they can be interpreded"
   ]
  },
  {
   "cell_type": "code",
   "execution_count": null,
   "metadata": {},
   "outputs": [],
   "source": []
  },
  {
   "cell_type": "code",
   "execution_count": null,
   "metadata": {},
   "outputs": [],
   "source": []
  },
  {
   "cell_type": "code",
   "execution_count": null,
   "metadata": {},
   "outputs": [],
   "source": []
  }
 ],
 "metadata": {
  "kernelspec": {
   "display_name": "Python 3",
   "language": "python",
   "name": "python3"
  },
  "language_info": {
   "codemirror_mode": {
    "name": "ipython",
    "version": 3
   },
   "file_extension": ".py",
   "mimetype": "text/x-python",
   "name": "python",
   "nbconvert_exporter": "python",
   "pygments_lexer": "ipython3",
   "version": "3.7.9"
  }
 },
 "nbformat": 4,
 "nbformat_minor": 4
}
