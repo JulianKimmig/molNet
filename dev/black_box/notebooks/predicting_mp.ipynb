{
 "cells": [
  {
   "cell_type": "code",
   "execution_count": 1,
   "metadata": {},
   "outputs": [],
   "source": [
    "import _background as bg\n",
    "import pandas as pd\n",
    "import numpy as np\n",
    "\n",
    "from molNet.featurizer.featurizer import FeaturizerList\n",
    "from molNet.featurizer.atom_featurizer import atom_symbol_one_hot_from_set,atom_chiral_tag_one_hot,atom_total_num_H_one_hot, atom_formal_charge, atom_partial_charge, atom_hybridization_one_hot, atom_is_in_ring_size_3_to_20_one_hot, atom_is_aromatic, atom_is_in_ring, atom_total_degree_one_hot\n",
    "from molNet.dataloader.molecule_loader import PytorchGeomMolDfLoader\n",
    "\n",
    "import pytorch_lightning as pl\n",
    "import torch\n",
    "import molNet"
   ]
  },
  {
   "cell_type": "code",
   "execution_count": 2,
   "metadata": {},
   "outputs": [
    {
     "name": "stdout",
     "output_type": "stream",
     "text": [
      "275121\n"
     ]
    },
    {
     "data": {
      "text/plain": [
       "38"
      ]
     },
     "execution_count": 2,
     "metadata": {},
     "output_type": "execute_result"
    }
   ],
   "source": [
    "dataset=pd.read_csv(\"data/patents_ochem_enamine_bradley_begstrom_training_edit.csv\")\n",
    "#dataset=dataset[dataset[\"mpC\"]>=0]\n",
    "#dataset=dataset[dataset[\"mpC\"]<=180]\n",
    "print(len(dataset))\n",
    "#dataset[\"rd_mol\"]=dataset[\"smiles\"].apply(bg.pd_MolFromSmiles)\n",
    "dataset[\"mpK\"]= dataset[\"mpC\"]+273\n",
    "dataset[\"logmpK\"]=np.log(dataset[\"mpK\"])\n",
    "from molNet.featurizer.featurizer import OneHotFeaturizer\n",
    "\n",
    "def _get_atom_symbol(atom):\n",
    "    return atom.GetSymbol()\n",
    "\n",
    "c_mp_atom_symbol_featurizer = OneHotFeaturizer(\n",
    "    possible_values=['O', 'Si', 'Na', 'H', 'P', 'F', 'S', 'C', 'Cl', 'N', 'B', 'Br','I',None],\n",
    "    pre_featurize=_get_atom_symbol,\n",
    "    name=\"atom_symbol_one_hot\",\n",
    ")\n",
    "\n",
    "featurizer = FeaturizerList([\n",
    "    c_mp_atom_symbol_featurizer,\n",
    "    atom_total_degree_one_hot,\n",
    "    atom_formal_charge,\n",
    "    atom_partial_charge,\n",
    "    atom_chiral_tag_one_hot,\n",
    "    #atom_total_num_H_one_hot,\n",
    "    atom_hybridization_one_hot,\n",
    "    atom_is_aromatic,\n",
    "    atom_is_in_ring,\n",
    "])\n",
    "len(featurizer)"
   ]
  },
  {
   "cell_type": "code",
   "execution_count": null,
   "metadata": {},
   "outputs": [],
   "source": []
  },
  {
   "cell_type": "code",
   "execution_count": 3,
   "metadata": {},
   "outputs": [],
   "source": [
    "loader_MPModel1 = PytorchGeomMolDfLoader(dataset,mol_create_source='smiles',#\"all\",\n",
    "                                    atom_featurizer=featurizer,\n",
    "                                         columns=[],\n",
    "                                         y_columns=[\"mpK\"],\n",
    "#                                     y_properties=[\"mpK\"],\n",
    "                                     seed=1,\n",
    "#                                     to_graph_params={\n",
    " #                                        \"atom_featurizer\":featurizer,\n",
    "  #                                       \"with_mol_graph\":True\n",
    "   #                                  },\n",
    "                                    batch_size=2**8,#num_workers=4\n",
    "                                    path=\"test/mp1.pckl\",\n",
    "                                    #follow_batch=[\"y\"]\n",
    "                                             #     num_workers=28\n",
    "                                        # to_graph_input_kwargs=dict(keep_string_data=True,include_graph_features_titles=True)\n",
    "                                         \n",
    "                                    )\n",
    "#loader_MPModel1.setup()\n",
    "#https://www.wonder.me/r?id=d074588c-c7ab-4a0a-a0fd-bd075a1473d0\n"
   ]
  },
  {
   "cell_type": "code",
   "execution_count": 4,
   "metadata": {},
   "outputs": [
    {
     "name": "stdout",
     "output_type": "stream",
     "text": [
      "Batch(batch=[10436], edge_index=[2, 21720], x=[10436, 38], x_graph_features=[256, 0], y=[10436, 0], y_graph_features=[256, 1])\n"
     ]
    }
   ],
   "source": [
    "loader_MPModel1.setup()\n",
    "for d in loader_MPModel1.test_dataloader():\n",
    "    print(d)\n",
    "    break\n",
    "#dir(molNet)"
   ]
  },
  {
   "cell_type": "code",
   "execution_count": 5,
   "metadata": {},
   "outputs": [
    {
     "data": {
      "text/plain": [
       "(192768, 256)"
      ]
     },
     "execution_count": 5,
     "metadata": {},
     "output_type": "execute_result"
    }
   ],
   "source": [
    "len(loader_MPModel1.train_dataloader())*2**8,2**8"
   ]
  },
  {
   "cell_type": "code",
   "execution_count": 6,
   "metadata": {},
   "outputs": [],
   "source": [
    "model_MPModel1 = bg.ChemGCModel(in_size=len(featurizer),\n",
    "                          out_size=1,\n",
    "                              n_chem_layer = 20,\n",
    "                              chem_layer_feats_out=64,\n",
    "                              chem_layer_gc_out=32,\n",
    "                              chem_layer_net_sizes=-1,\n",
    "                              chem_layer_net_count=2,\n",
    "                              collector_net_depth=5,\n",
    "                              collector_net_depth_red_fac=2,\n",
    "                              poolings=[\"pool_min\",\"pool_max\",\"pool_mean\",\"pool_nwsum\"],\n",
    "                              lr=0.00001,\n",
    "                                lossf=torch.nn.RMSELoss()\n",
    "                             )"
   ]
  },
  {
   "cell_type": "code",
   "execution_count": 7,
   "metadata": {},
   "outputs": [
    {
     "name": "stderr",
     "output_type": "stream",
     "text": [
      "\u001b[32m[I 2021-06-17 20:50:48,259]\u001b[0m Using an existing study with name 'MPModel1_study' instead of creating a new one.\u001b[0m\n"
     ]
    },
    {
     "name": "stdout",
     "output_type": "stream",
     "text": [
      "0\n"
     ]
    },
    {
     "ename": "ValueError",
     "evalue": "Record does not exist.",
     "output_type": "error",
     "traceback": [
      "\u001b[0;31m---------------------------------------------------------------------------\u001b[0m",
      "\u001b[0;31mValueError\u001b[0m                                Traceback (most recent call last)",
      "\u001b[0;32m<ipython-input-7-cf9001a4a590>\u001b[0m in \u001b[0;36m<module>\u001b[0;34m\u001b[0m\n\u001b[1;32m      1\u001b[0m \u001b[0mstudy\u001b[0m\u001b[0;34m=\u001b[0m\u001b[0mbg\u001b[0m\u001b[0;34m.\u001b[0m\u001b[0mload_study\u001b[0m\u001b[0;34m(\u001b[0m\u001b[0;34m\"MPModel1\"\u001b[0m\u001b[0;34m)\u001b[0m\u001b[0;34m\u001b[0m\u001b[0;34m\u001b[0m\u001b[0m\n\u001b[1;32m      2\u001b[0m \u001b[0mprint\u001b[0m\u001b[0;34m(\u001b[0m\u001b[0mlen\u001b[0m\u001b[0;34m(\u001b[0m\u001b[0mstudy\u001b[0m\u001b[0;34m.\u001b[0m\u001b[0mtrials\u001b[0m\u001b[0;34m)\u001b[0m\u001b[0;34m)\u001b[0m\u001b[0;34m\u001b[0m\u001b[0;34m\u001b[0m\u001b[0m\n\u001b[0;32m----> 3\u001b[0;31m \u001b[0mstudy\u001b[0m\u001b[0;34m.\u001b[0m\u001b[0mbest_trial\u001b[0m\u001b[0;34m\u001b[0m\u001b[0;34m\u001b[0m\u001b[0m\n\u001b[0m",
      "\u001b[0;32m~/anaconda3/envs/molNet/lib/python3.7/site-packages/optuna/study.py\u001b[0m in \u001b[0;36mbest_trial\u001b[0;34m(self)\u001b[0m\n\u001b[1;32m     93\u001b[0m             )\n\u001b[1;32m     94\u001b[0m \u001b[0;34m\u001b[0m\u001b[0m\n\u001b[0;32m---> 95\u001b[0;31m         \u001b[0;32mreturn\u001b[0m \u001b[0mcopy\u001b[0m\u001b[0;34m.\u001b[0m\u001b[0mdeepcopy\u001b[0m\u001b[0;34m(\u001b[0m\u001b[0mself\u001b[0m\u001b[0;34m.\u001b[0m\u001b[0m_storage\u001b[0m\u001b[0;34m.\u001b[0m\u001b[0mget_best_trial\u001b[0m\u001b[0;34m(\u001b[0m\u001b[0mself\u001b[0m\u001b[0;34m.\u001b[0m\u001b[0m_study_id\u001b[0m\u001b[0;34m)\u001b[0m\u001b[0;34m)\u001b[0m\u001b[0;34m\u001b[0m\u001b[0;34m\u001b[0m\u001b[0m\n\u001b[0m\u001b[1;32m     96\u001b[0m \u001b[0;34m\u001b[0m\u001b[0m\n\u001b[1;32m     97\u001b[0m     \u001b[0;34m@\u001b[0m\u001b[0mproperty\u001b[0m\u001b[0;34m\u001b[0m\u001b[0;34m\u001b[0m\u001b[0m\n",
      "\u001b[0;32m~/anaconda3/envs/molNet/lib/python3.7/site-packages/optuna/storages/_cached_storage.py\u001b[0m in \u001b[0;36mget_best_trial\u001b[0;34m(self, study_id)\u001b[0m\n\u001b[1;32m    273\u001b[0m     \u001b[0;32mdef\u001b[0m \u001b[0mget_best_trial\u001b[0m\u001b[0;34m(\u001b[0m\u001b[0mself\u001b[0m\u001b[0;34m,\u001b[0m \u001b[0mstudy_id\u001b[0m\u001b[0;34m:\u001b[0m \u001b[0mint\u001b[0m\u001b[0;34m)\u001b[0m \u001b[0;34m->\u001b[0m \u001b[0mFrozenTrial\u001b[0m\u001b[0;34m:\u001b[0m\u001b[0;34m\u001b[0m\u001b[0;34m\u001b[0m\u001b[0m\n\u001b[1;32m    274\u001b[0m \u001b[0;34m\u001b[0m\u001b[0m\n\u001b[0;32m--> 275\u001b[0;31m         \u001b[0;32mreturn\u001b[0m \u001b[0mself\u001b[0m\u001b[0;34m.\u001b[0m\u001b[0m_backend\u001b[0m\u001b[0;34m.\u001b[0m\u001b[0mget_best_trial\u001b[0m\u001b[0;34m(\u001b[0m\u001b[0mstudy_id\u001b[0m\u001b[0;34m)\u001b[0m\u001b[0;34m\u001b[0m\u001b[0;34m\u001b[0m\u001b[0m\n\u001b[0m\u001b[1;32m    276\u001b[0m \u001b[0;34m\u001b[0m\u001b[0m\n\u001b[1;32m    277\u001b[0m     \u001b[0;32mdef\u001b[0m \u001b[0mget_trial_param\u001b[0m\u001b[0;34m(\u001b[0m\u001b[0mself\u001b[0m\u001b[0;34m,\u001b[0m \u001b[0mtrial_id\u001b[0m\u001b[0;34m:\u001b[0m \u001b[0mint\u001b[0m\u001b[0;34m,\u001b[0m \u001b[0mparam_name\u001b[0m\u001b[0;34m:\u001b[0m \u001b[0mstr\u001b[0m\u001b[0;34m)\u001b[0m \u001b[0;34m->\u001b[0m \u001b[0mfloat\u001b[0m\u001b[0;34m:\u001b[0m\u001b[0;34m\u001b[0m\u001b[0;34m\u001b[0m\u001b[0m\n",
      "\u001b[0;32m~/anaconda3/envs/molNet/lib/python3.7/site-packages/optuna/storages/_rdb/storage.py\u001b[0m in \u001b[0;36mget_best_trial\u001b[0;34m(self, study_id)\u001b[0m\n\u001b[1;32m   1087\u001b[0m                 \u001b[0mtrial\u001b[0m \u001b[0;34m=\u001b[0m \u001b[0mmodels\u001b[0m\u001b[0;34m.\u001b[0m\u001b[0mTrialModel\u001b[0m\u001b[0;34m.\u001b[0m\u001b[0mfind_max_value_trial\u001b[0m\u001b[0;34m(\u001b[0m\u001b[0mstudy_id\u001b[0m\u001b[0;34m,\u001b[0m \u001b[0;36m0\u001b[0m\u001b[0;34m,\u001b[0m \u001b[0msession\u001b[0m\u001b[0;34m)\u001b[0m\u001b[0;34m\u001b[0m\u001b[0;34m\u001b[0m\u001b[0m\n\u001b[1;32m   1088\u001b[0m             \u001b[0;32melse\u001b[0m\u001b[0;34m:\u001b[0m\u001b[0;34m\u001b[0m\u001b[0;34m\u001b[0m\u001b[0m\n\u001b[0;32m-> 1089\u001b[0;31m                 \u001b[0mtrial\u001b[0m \u001b[0;34m=\u001b[0m \u001b[0mmodels\u001b[0m\u001b[0;34m.\u001b[0m\u001b[0mTrialModel\u001b[0m\u001b[0;34m.\u001b[0m\u001b[0mfind_min_value_trial\u001b[0m\u001b[0;34m(\u001b[0m\u001b[0mstudy_id\u001b[0m\u001b[0;34m,\u001b[0m \u001b[0;36m0\u001b[0m\u001b[0;34m,\u001b[0m \u001b[0msession\u001b[0m\u001b[0;34m)\u001b[0m\u001b[0;34m\u001b[0m\u001b[0;34m\u001b[0m\u001b[0m\n\u001b[0m\u001b[1;32m   1090\u001b[0m \u001b[0;34m\u001b[0m\u001b[0m\n\u001b[1;32m   1091\u001b[0m         \u001b[0;32mreturn\u001b[0m \u001b[0mself\u001b[0m\u001b[0;34m.\u001b[0m\u001b[0mget_trial\u001b[0m\u001b[0;34m(\u001b[0m\u001b[0mtrial\u001b[0m\u001b[0;34m.\u001b[0m\u001b[0mtrial_id\u001b[0m\u001b[0;34m)\u001b[0m\u001b[0;34m\u001b[0m\u001b[0;34m\u001b[0m\u001b[0m\n",
      "\u001b[0;32m~/anaconda3/envs/molNet/lib/python3.7/site-packages/optuna/storages/_rdb/models.py\u001b[0m in \u001b[0;36mfind_min_value_trial\u001b[0;34m(cls, study_id, objective, session)\u001b[0m\n\u001b[1;32m    225\u001b[0m         )\n\u001b[1;32m    226\u001b[0m         \u001b[0;32mif\u001b[0m \u001b[0mtrial\u001b[0m \u001b[0;32mis\u001b[0m \u001b[0;32mNone\u001b[0m\u001b[0;34m:\u001b[0m\u001b[0;34m\u001b[0m\u001b[0;34m\u001b[0m\u001b[0m\n\u001b[0;32m--> 227\u001b[0;31m             \u001b[0;32mraise\u001b[0m \u001b[0mValueError\u001b[0m\u001b[0;34m(\u001b[0m\u001b[0mNOT_FOUND_MSG\u001b[0m\u001b[0;34m)\u001b[0m\u001b[0;34m\u001b[0m\u001b[0;34m\u001b[0m\u001b[0m\n\u001b[0m\u001b[1;32m    228\u001b[0m         \u001b[0;32mreturn\u001b[0m \u001b[0mtrial\u001b[0m\u001b[0;34m\u001b[0m\u001b[0;34m\u001b[0m\u001b[0m\n\u001b[1;32m    229\u001b[0m \u001b[0;34m\u001b[0m\u001b[0m\n",
      "\u001b[0;31mValueError\u001b[0m: Record does not exist."
     ]
    }
   ],
   "source": [
    "study=bg.load_study(\"MPModel1\")\n",
    "print(len(study.trials))\n",
    "study.best_trial"
   ]
  },
  {
   "cell_type": "code",
   "execution_count": null,
   "metadata": {},
   "outputs": [],
   "source": []
  },
  {
   "cell_type": "code",
   "execution_count": null,
   "metadata": {},
   "outputs": [],
   "source": []
  },
  {
   "cell_type": "code",
   "execution_count": null,
   "metadata": {},
   "outputs": [],
   "source": [
    "model_MPModel1"
   ]
  },
  {
   "cell_type": "code",
   "execution_count": null,
   "metadata": {},
   "outputs": [],
   "source": []
  },
  {
   "cell_type": "code",
   "execution_count": null,
   "metadata": {},
   "outputs": [],
   "source": [
    "model_MPModel1 = model_MPModel1.__class__(in_size=len(featurizer),\n",
    "                                          out_size=1,\n",
    "                              n_chem_layer = 18,\n",
    "                              chem_layer_feats_out=16,\n",
    "                              chem_layer_gc_out=8,\n",
    "                              chem_layer_net_sizes=32,#8,\n",
    "                              chem_layer_net_count=2,\n",
    "                              collector_net_depth=8,\n",
    "                              collector_net_depth_red_fac=1.5,\n",
    "                              poolings=[\"pool_min\",\"pool_max\",\"pool_mean\",\"pool_nwsum\",\"pool_nwsum\"],\n",
    "                                          dropout=0.15,\n",
    "                              lr=0.001,\n",
    "                            lossf=torch.nn.RMSELoss()\n",
    "                             )\n",
    "#list(model_MPModel1.parameters())\n",
    "model_parameters = filter(lambda p: p.requires_grad, model_MPModel1.parameters())\n",
    "params = sum([np.prod(p.size()) for p in model_parameters])\n",
    "params"
   ]
  },
  {
   "cell_type": "code",
   "execution_count": null,
   "metadata": {},
   "outputs": [],
   "source": [
    "model_MPModel1,data_MPModel1 = bg.default_model_run(\n",
    "        \"MPModel1\",\n",
    "        model_MPModel1,\n",
    "        loader_MPModel1,\n",
    "                      force_run=True,#bg.REMODEL,\n",
    "                      #force_test_data_reload=True,\n",
    "                    #min_epochs=200,\n",
    "                    early_stopping=True,\n",
    "                    max_epochs=500,\n",
    "                    early_stopping_delta=0,\n",
    "                   detect_lr=False,\n",
    "                    early_stop_patience=100,\n",
    "\n",
    "    )"
   ]
  },
  {
   "cell_type": "code",
   "execution_count": null,
   "metadata": {},
   "outputs": [],
   "source": []
  },
  {
   "cell_type": "code",
   "execution_count": null,
   "metadata": {},
   "outputs": [],
   "source": [
    "#list(model_MPModel1.parameters())\n",
    "model_parameters = filter(lambda p: p.requires_grad, model_MPModel1.parameters())\n",
    "params = sum([np.prod(p.size()) for p in model_parameters])\n",
    "params"
   ]
  },
  {
   "cell_type": "code",
   "execution_count": null,
   "metadata": {},
   "outputs": [],
   "source": [
    "true=[]\n",
    "pred=[]\n",
    "try:\n",
    "    loader_MPModel1.train_dataloader()\n",
    "except:\n",
    "    loader_MPModel1.setup()\n",
    "    \n",
    "for l in [\n",
    "        #loader_MPModel1.train_dataloader(),\n",
    "          #loader_MPModel1.val_dataloader(),\n",
    "          loader_MPModel1.test_dataloader()\n",
    "         ]:\n",
    "    for d in l:\n",
    "        pred.extend(model_MPModel1(d).detach().flatten().numpy().tolist())\n",
    "        true.extend(d.y_graph_features.flatten().numpy().tolist())\n",
    "        \n",
    "    #print(()-np.exp(d.y.numpy())).mean())\n",
    "\n",
    "pred=np.array(pred)\n",
    "true=np.array(true)"
   ]
  },
  {
   "cell_type": "code",
   "execution_count": null,
   "metadata": {},
   "outputs": [],
   "source": [
    "dmin=min(true.min(),pred.min())\n",
    "dmax=max(true.max(),pred.max())\n",
    "dmin,dmax = dmin-(dmax-dmin)*0.05,dmax+(dmax-dmin)*0.05"
   ]
  },
  {
   "cell_type": "code",
   "execution_count": null,
   "metadata": {},
   "outputs": [],
   "source": [
    "import matplotlib.pyplot as plt\n",
    "\n",
    "dmin=min(true.min(),pred.min())\n",
    "dmax=max(true.max(),pred.max())\n",
    "\n",
    "plt.hexbin(true-273,pred-273,gridsize=30,)\n",
    "#plt.plot(true,pred,\"o\",)\n",
    "plt.plot([dmin-273,dmax-273],[dmin-273,dmax-273],\"--r\",alpha=0.75)\n",
    "plt.xlabel(\"true\")\n",
    "plt.ylabel(\"pred\")\n",
    "plt.show()\n",
    "plt.close()\n",
    "#plt.plot(np.exp(pred),np.exp(true),\"o\")\n",
    "#plt.show()\n",
    "#plt.close()"
   ]
  },
  {
   "cell_type": "code",
   "execution_count": null,
   "metadata": {},
   "outputs": [],
   "source": [
    "import datetime\n",
    "np.sqrt((np.abs(pred-true)**2).mean()),np.abs(pred-true).mean(),datetime.datetime.now()"
   ]
  },
  {
   "cell_type": "code",
   "execution_count": null,
   "metadata": {},
   "outputs": [],
   "source": []
  },
  {
   "cell_type": "code",
   "execution_count": null,
   "metadata": {},
   "outputs": [],
   "source": []
  },
  {
   "cell_type": "code",
   "execution_count": null,
   "metadata": {},
   "outputs": [],
   "source": []
  },
  {
   "cell_type": "code",
   "execution_count": null,
   "metadata": {},
   "outputs": [],
   "source": []
  },
  {
   "cell_type": "code",
   "execution_count": null,
   "metadata": {},
   "outputs": [],
   "source": []
  },
  {
   "cell_type": "code",
   "execution_count": null,
   "metadata": {},
   "outputs": [],
   "source": []
  },
  {
   "cell_type": "code",
   "execution_count": null,
   "metadata": {},
   "outputs": [],
   "source": []
  },
  {
   "cell_type": "code",
   "execution_count": null,
   "metadata": {},
   "outputs": [],
   "source": []
  },
  {
   "cell_type": "code",
   "execution_count": null,
   "metadata": {},
   "outputs": [],
   "source": []
  }
 ],
 "metadata": {
  "kernelspec": {
   "display_name": "molNet",
   "language": "python",
   "name": "molnet"
  },
  "language_info": {
   "codemirror_mode": {
    "name": "ipython",
    "version": 3
   },
   "file_extension": ".py",
   "mimetype": "text/x-python",
   "name": "python",
   "nbconvert_exporter": "python",
   "pygments_lexer": "ipython3",
   "version": "3.7.10"
  }
 },
 "nbformat": 4,
 "nbformat_minor": 4
}
