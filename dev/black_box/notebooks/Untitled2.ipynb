{
 "cells": [
  {
   "cell_type": "code",
   "execution_count": null,
   "metadata": {},
   "outputs": [],
   "source": [
    "import pandas as pd\n",
    "\n",
    "import _background as bg\n",
    "import molNet\n",
    "from molNet.dataloader.molecule_loader import PytorchGeomMolDfLoader\n",
    "from molNet.featurizer.atom_featurizer import atom_formal_charge, atom_partial_charge, atom_hybridization_one_hot, \\\n",
    "    atom_is_aromatic, atom_is_in_ring, atom_symbol_one_hot_from_set\n",
    "from molNet.featurizer.featurizer import FeaturizerList\n",
    "import pytorch_lightning as pl\n",
    "import torch"
   ]
  }
 ],
 "metadata": {
  "kernelspec": {
   "display_name": "molNet",
   "language": "python",
   "name": "molnet"
  },
  "language_info": {
   "codemirror_mode": {
    "name": "ipython",
    "version": 3
   },
   "file_extension": ".py",
   "mimetype": "text/x-python",
   "name": "python",
   "nbconvert_exporter": "python",
   "pygments_lexer": "ipython3",
   "version": "3.7.10"
  }
 },
 "nbformat": 4,
 "nbformat_minor": 4
}
