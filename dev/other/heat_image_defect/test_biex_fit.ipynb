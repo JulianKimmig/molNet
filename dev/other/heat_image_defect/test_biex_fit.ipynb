{
 "cells": [
  {
   "cell_type": "code",
   "execution_count": 1,
   "metadata": {},
   "outputs": [],
   "source": [
    "import numpy as np\n",
    "import matplotlib.pyplot as plt\n",
    "import torch\n",
    "import pytorch_lightning as pl\n",
    "from torch.utils.data import random_split, DataLoader"
   ]
  },
  {
   "cell_type": "code",
   "execution_count": 2,
   "metadata": {},
   "outputs": [],
   "source": [
    "a1=0.3\n",
    "a2=1-a1\n",
    "b1=0.3\n",
    "b2=0.43"
   ]
  },
  {
   "cell_type": "code",
   "execution_count": 12,
   "metadata": {},
   "outputs": [],
   "source": [
    "data=np.random.random(10000)*20\n",
    "\n",
    "a1s=np.random.random(len(data)).astype(np.float32)\n",
    "a1s=np.ones(len(data))\n",
    "a2s=1-a1s\n",
    "\n",
    "b1s=np.random.random(len(data)).astype(np.float32)\n",
    "b2s=np.random.random(len(data)).astype(np.float32)\n",
    "b2s=np.zeros(len(data))\n",
    "\n",
    "times=np.linspace(0,10,100)\n",
    "decay=np.zeros((data.shape[0],times.shape[0]),dtype=np.float32)\n",
    "for i,d in enumerate(data):\n",
    "    a1=a1s[i]\n",
    "    b1=b1s[i]\n",
    "    a2=a2s[i]\n",
    "    b2=b2s[i]\n",
    "    decay[i]=data[i]*(a1*np.exp(-b1*times)+a2*np.exp(-b2*times))\n",
    "#dec_data=data[:,None].dot(times[None,:])\n",
    "#(times[:,None]*data[None,:]).shape\n",
    "#decay=decay.T\n",
    "#plt.imshow(decay)"
   ]
  },
  {
   "cell_type": "code",
   "execution_count": 13,
   "metadata": {},
   "outputs": [
    {
     "name": "stdout",
     "output_type": "stream",
     "text": [
      "[1.        0.1597135 0.        0.       ]\n"
     ]
    },
    {
     "data": {
      "image/png": "[encoded data removed]",
      "text/plain": [
       "<Figure size 432x288 with 1 Axes>"
      ]
     },
     "metadata": {
      "needs_background": "light"
     },
     "output_type": "display_data"
    }
   ],
   "source": [
    "decays = [[np.array(l,dtype=np.float32),np.array([a1s[i],b1s[i],a2s[i],b2s[i]],dtype=np.float32)] for i,l in enumerate(decay.tolist())]\n",
    "plt.plot(decays[1][0])\n",
    "print(decays[1][1])"
   ]
  },
  {
   "cell_type": "code",
   "execution_count": 14,
   "metadata": {},
   "outputs": [],
   "source": [
    "class ExpReg(pl.LightningModule):\n",
    "    def __init__(self):\n",
    "        super().__init__()\n",
    "        self.lr=0.001\n",
    "        self.net=torch.nn.Sequential(\n",
    "            torch.nn.Linear(100,64),\n",
    "            torch.nn.ELU(),\n",
    "            torch.nn.Linear(64,16),\n",
    "            torch.nn.ELU(),\n",
    "            torch.nn.Linear(16,4),\n",
    "            #torch.nn.ELU(),\n",
    "        )\n",
    "        self.lossf=torch.nn.MSELoss()\n",
    "        \n",
    "        \n",
    "    def forward(self,x):\n",
    "        return self.net(x)\n",
    "    \n",
    "    def configure_optimizers(self):\n",
    "        optimizer = torch.optim.Adam(self.parameters(), lr=self.lr)\n",
    "        return optimizer\n",
    "\n",
    "    def batch_to_loss(self,batch):\n",
    "        #display(batch[.shape)\n",
    "        y_hat=self(batch[0])\n",
    "        loss = self.lossf(y_hat, batch[1])\n",
    "        return loss\n",
    "\n",
    "    def training_step(self,batch, *args, **kwargs):\n",
    "        loss =  self.batch_to_loss(batch)\n",
    "        self.log('train_loss', loss)\n",
    "        return loss\n",
    "    \n",
    "    def validation_step(self,batch, *args, **kwargs):\n",
    "        loss =  self.batch_to_loss(batch)\n",
    "        self.log('val_loss', loss)\n",
    "        return loss\n",
    "    \n",
    "    def test_step(self,batch, *args, **kwargs):\n",
    "        loss =  self.batch_to_loss(batch)\n",
    "        self.log('test_loss', loss)\n",
    "        return loss\n",
    "        \n",
    "model=ExpReg()"
   ]
  },
  {
   "cell_type": "code",
   "execution_count": 15,
   "metadata": {},
   "outputs": [],
   "source": [
    "class DL(pl.LightningDataModule):\n",
    "    def __init__(self,batch_size=128):\n",
    "        super().__init__()\n",
    "        self.batch_size=batch_size\n",
    "        \n",
    "    def setup(self, stage=None):\n",
    "        split=[0,int(len(decays)*0.2),int(len(decays)*0.1)]\n",
    "        split[0]=len(decays)-sum(split)\n",
    "        self._train, self._val,self._test = random_split(decays, split)\n",
    "\n",
    "    def train_dataloader(self):\n",
    "        return DataLoader(self._train, batch_size=self.batch_size)\n",
    "\n",
    "    def val_dataloader(self):\n",
    "        return DataLoader(self._val, batch_size=self.batch_size)\n",
    "\n",
    "    def test_dataloader(self):\n",
    "        return DataLoader(self._test, batch_size=self.batch_size)\n",
    "    \n",
    "dl=DL()"
   ]
  },
  {
   "cell_type": "code",
   "execution_count": 16,
   "metadata": {},
   "outputs": [
    {
     "name": "stderr",
     "output_type": "stream",
     "text": [
      "GPU available: True, used: False\n",
      "TPU available: None, using: 0 TPU cores\n",
      "/home/julian/anaconda3/envs/molNet/lib/python3.7/site-packages/pytorch_lightning/utilities/distributed.py:50: UserWarning: GPU available but not used. Set the --gpus flag when calling the script.\n",
      "  warnings.warn(*args, **kwargs)\n",
      "\n",
      "  | Name  | Type       | Params\n",
      "-------------------------------------\n",
      "0 | net   | Sequential | 7.6 K \n",
      "1 | lossf | MSELoss    | 0     \n",
      "-------------------------------------\n",
      "7.6 K     Trainable params\n",
      "0         Non-trainable params\n",
      "7.6 K     Total params\n",
      "0.030     Total estimated model params size (MB)\n",
      "/home/julian/anaconda3/envs/molNet/lib/python3.7/site-packages/pytorch_lightning/utilities/distributed.py:50: UserWarning: The dataloader, val dataloader 0, does not have many workers which may be a bottleneck. Consider increasing the value of the `num_workers` argument` (try 28 which is the number of cpus on this machine) in the `DataLoader` init to improve performance.\n",
      "  warnings.warn(*args, **kwargs)\n",
      "/home/julian/anaconda3/envs/molNet/lib/python3.7/site-packages/pytorch_lightning/utilities/distributed.py:50: UserWarning: The dataloader, train dataloader, does not have many workers which may be a bottleneck. Consider increasing the value of the `num_workers` argument` (try 28 which is the number of cpus on this machine) in the `DataLoader` init to improve performance.\n",
      "  warnings.warn(*args, **kwargs)\n"
     ]
    },
    {
     "data": {
      "text/plain": [
       "{'train_loss': tensor(1.8690e-05), 'val_loss': tensor(7.5833e-05)}"
      ]
     },
     "execution_count": 16,
     "metadata": {},
     "output_type": "execute_result"
    }
   ],
   "source": [
    "trainer=pl.Trainer(max_epochs=100,progress_bar_refresh_rate=0)\n",
    "trainer.fit(model,dl)\n",
    "trainer.callback_metrics"
   ]
  },
  {
   "cell_type": "code",
   "execution_count": 19,
   "metadata": {},
   "outputs": [
    {
     "data": {
      "text/plain": [
       "array([1.       , 0.1597135, 0.       , 0.       ], dtype=float32)"
      ]
     },
     "execution_count": 19,
     "metadata": {},
     "output_type": "execute_result"
    }
   ],
   "source": [
    "decays[1][1]"
   ]
  },
  {
   "cell_type": "code",
   "execution_count": 20,
   "metadata": {},
   "outputs": [
    {
     "data": {
      "text/plain": [
       "tensor([1.0020e+00, 1.5661e-01, 3.7209e-03, 3.8251e-05],\n",
       "       grad_fn=<AddBackward0>)"
      ]
     },
     "execution_count": 20,
     "metadata": {},
     "output_type": "execute_result"
    }
   ],
   "source": [
    "model(torch.from_numpy(decays[1][0]))"
   ]
  },
  {
   "cell_type": "code",
   "execution_count": null,
   "metadata": {},
   "outputs": [],
   "source": []
  }
 ],
 "metadata": {
  "kernelspec": {
   "display_name": "molNet",
   "language": "python",
   "name": "molnet"
  },
  "language_info": {
   "codemirror_mode": {
    "name": "ipython",
    "version": 3
   },
   "file_extension": ".py",
   "mimetype": "text/x-python",
   "name": "python",
   "nbconvert_exporter": "python",
   "pygments_lexer": "ipython3",
   "version": "3.7.10"
  }
 },
 "nbformat": 4,
 "nbformat_minor": 4
}
