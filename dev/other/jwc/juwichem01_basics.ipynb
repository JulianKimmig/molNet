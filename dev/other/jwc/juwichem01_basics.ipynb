{
 "cells": [
  {
   "cell_type": "markdown",
   "metadata": {},
   "source": [
    "### Syntax\n",
    "\n",
    "in general python is created with the intention in mind, that the code should be as readable as possible, meaning while reading it, you should know what is happening."
   ]
  },
  {
   "cell_type": "code",
   "execution_count": 2,
   "metadata": {},
   "outputs": [],
   "source": [
    "# use hastag to comment\n",
    "# this comment will be ignored an is just for writing hints or whatever to the code"
   ]
  },
  {
   "cell_type": "markdown",
   "metadata": {},
   "source": [
    "#### Variables\n",
    "there are certain rules when naming variables (we come back to the actuall introduction of variables in a sec):"
   ]
  },
  {
   "cell_type": "code",
   "execution_count": 3,
   "metadata": {},
   "outputs": [
    {
     "ename": "SyntaxError",
     "evalue": "invalid syntax (<ipython-input-3-65ac72c32505>, line 4)",
     "output_type": "error",
     "traceback": [
      "\u001b[1;36m  File \u001b[1;32m\"<ipython-input-3-65ac72c32505>\"\u001b[1;36m, line \u001b[1;32m4\u001b[0m\n\u001b[1;33m    6var_name=2\u001b[0m\n\u001b[1;37m     ^\u001b[0m\n\u001b[1;31mSyntaxError\u001b[0m\u001b[1;31m:\u001b[0m invalid syntax\n"
     ]
    }
   ],
   "source": [
    "#variable names shuld start with an alphanumeric letter ()\n",
    "var_mame=1\n",
    "#numbers at the beinning lead to error\n",
    "6var_name=2"
   ]
  },
  {
   "cell_type": "code",
   "execution_count": 4,
   "metadata": {},
   "outputs": [],
   "source": [
    "#numbers in the variable name are fine\n",
    "var_name_2 = 2"
   ]
  },
  {
   "cell_type": "code",
   "execution_count": 5,
   "metadata": {},
   "outputs": [
    {
     "name": "stdout",
     "output_type": "stream",
     "text": [
      "the code run successful\n",
      "the code run successful\n"
     ]
    }
   ],
   "source": [
    "#always name your variables reasonable\n",
    "hdsd=\"the code run successful\"\n",
    "#...some code\n",
    "print(hdsd) #<-what was this variable again?\n",
    "\n",
    "success_msg=\"the code run successful\"\n",
    "#...some code\n",
    "print(success_msg) # much better"
   ]
  },
  {
   "cell_type": "code",
   "execution_count": 6,
   "metadata": {},
   "outputs": [],
   "source": [
    "# undersore at the beginning hints that if you dont wrote the code you shoulnd change it (private-ish)\n",
    "_dont_change_me=True\n",
    "# but python won't forbid you to do so:\n",
    "_dont_change_me=False"
   ]
  },
  {
   "cell_type": "markdown",
   "metadata": {},
   "source": [
    "#### Indentation\n",
    "in conttrast to e.g. C++ code blocks are grouped by intentation (spaces a the beginning of the line).  \n",
    "Best practis is to use 4 of them, most IDEs will do this automatically (some use 2).\n",
    "\n",
    "In general everthing with $N$ spaces is part of the block from the last line with $<N$ spaces\n"
   ]
  },
  {
   "cell_type": "raw",
   "metadata": {},
   "source": [
    "c++ - ish:\n",
    "\n",
    "if(true){\n",
    "    print(\"hello\");\n",
    "}\n",
    "everything in the bkacket belongs to the if-condition"
   ]
  },
  {
   "cell_type": "code",
   "execution_count": 7,
   "metadata": {},
   "outputs": [
    {
     "name": "stdout",
     "output_type": "stream",
     "text": [
      "hello\n"
     ]
    }
   ],
   "source": [
    "if True: # no space\n",
    "    print(\"hello\") # 4 spaces belngs to if"
   ]
  },
  {
   "cell_type": "markdown",
   "metadata": {},
   "source": [
    "### Variables\n",
    "as in most programming languages on of the core elements of python are variables\n",
    "\n",
    "variables can be anything in python!\n",
    "unlike in many other languages python doesn't care about the type of the variabe (number, string, boolean, etc.)"
   ]
  },
  {
   "cell_type": "code",
   "execution_count": 8,
   "metadata": {},
   "outputs": [],
   "source": [
    "var_1 = 1 # var_1 bevomes the integer 1\n",
    "var_1 = \"text\" # var_1 bevomes now a string and no complains"
   ]
  },
  {
   "cell_type": "raw",
   "metadata": {},
   "source": [
    "in typed languages:\n",
    "\n",
    "int var_1 = 1  # var_1 bevomes the integer 1\n",
    "var_1 = \"text\" # would not work since var_1 has the type int\n",
    "string var_1 = \"text\" # would not work since var_1 is already defined as int\n"
   ]
  },
  {
   "cell_type": "markdown",
   "metadata": {},
   "source": [
    "### Type of variables (Build in types)\n",
    "only a few, full description here:\n",
    "https://docs.python.org/3/library/stdtypes.html\n",
    "#### Itegers\n",
    "integers are numbers without any fractional part, e.g., 1, 10, -99"
   ]
  },
  {
   "cell_type": "code",
   "execution_count": 9,
   "metadata": {},
   "outputs": [
    {
     "name": "stdout",
     "output_type": "stream",
     "text": [
      "2 6\n",
      "14\n",
      "2.0\n"
     ]
    }
   ],
   "source": [
    "int_var=1\n",
    "\n",
    "# you can perform all the math with them, e.g.,\n",
    "#add and substract\n",
    "print(1+1, 10-4) # note the comma separated arguments on print\n",
    "# multiply\n",
    "print(2*7)\n",
    "# but when dividing the integer becomes ALWAYS a float\n",
    "print(10/5)"
   ]
  },
  {
   "cell_type": "code",
   "execution_count": 10,
   "metadata": {},
   "outputs": [
    {
     "name": "stdout",
     "output_type": "stream",
     "text": [
      "1\n",
      "0\n",
      "1\n"
     ]
    },
    {
     "ename": "ValueError",
     "evalue": "invalid literal for int() with base 10: '1.1'",
     "output_type": "error",
     "traceback": [
      "\u001b[1;31m---------------------------------------------------------------------------\u001b[0m",
      "\u001b[1;31mValueError\u001b[0m                                Traceback (most recent call last)",
      "\u001b[1;32m<ipython-input-10-d01a907aebf1>\u001b[0m in \u001b[0;36m<module>\u001b[1;34m\u001b[0m\n\u001b[0;32m      3\u001b[0m \u001b[0mprint\u001b[0m\u001b[1;33m(\u001b[0m\u001b[0mint\u001b[0m\u001b[1;33m(\u001b[0m\u001b[1;32mFalse\u001b[0m\u001b[1;33m)\u001b[0m\u001b[1;33m)\u001b[0m\u001b[1;33m\u001b[0m\u001b[1;33m\u001b[0m\u001b[0m\n\u001b[0;32m      4\u001b[0m \u001b[0mprint\u001b[0m\u001b[1;33m(\u001b[0m\u001b[0mint\u001b[0m\u001b[1;33m(\u001b[0m\u001b[1;34m\"1\"\u001b[0m\u001b[1;33m)\u001b[0m\u001b[1;33m)\u001b[0m \u001b[1;31m# also parses strings\u001b[0m\u001b[1;33m\u001b[0m\u001b[1;33m\u001b[0m\u001b[0m\n\u001b[1;32m----> 5\u001b[1;33m \u001b[0mprint\u001b[0m\u001b[1;33m(\u001b[0m\u001b[0mint\u001b[0m\u001b[1;33m(\u001b[0m\u001b[1;34m\"1.1\"\u001b[0m\u001b[1;33m)\u001b[0m\u001b[1;33m)\u001b[0m \u001b[1;31m#!!! but only if they are integer\u001b[0m\u001b[1;33m\u001b[0m\u001b[1;33m\u001b[0m\u001b[0m\n\u001b[0m",
      "\u001b[1;31mValueError\u001b[0m: invalid literal for int() with base 10: '1.1'"
     ]
    }
   ],
   "source": [
    "# variables can be forced to inegers via int()\n",
    "print(int(1.1)) # always drops decimals\n",
    "print(int(False)) \n",
    "print(int(\"1\")) # also parses strings\n",
    "print(int(\"1.1\")) #!!! but only if they are integer"
   ]
  },
  {
   "cell_type": "markdown",
   "metadata": {},
   "source": [
    "#### Float\n",
    "floats are numbers with decimal places, e.g., 2.3"
   ]
  },
  {
   "cell_type": "code",
   "execution_count": 11,
   "metadata": {},
   "outputs": [
    {
     "name": "stdout",
     "output_type": "stream",
     "text": [
      "10.299999999999999\n",
      "3.3333333333333335\n",
      "3000.0\n"
     ]
    }
   ],
   "source": [
    "print(2.3*4+1.1) #floating point rounding!\n",
    "print(10/3)\n",
    "print(3e3) # scientific notation"
   ]
  },
  {
   "cell_type": "code",
   "execution_count": 12,
   "metadata": {},
   "outputs": [
    {
     "name": "stdout",
     "output_type": "stream",
     "text": [
      "2.0\n",
      "1.0\n",
      "3.141\n",
      "1100000.0\n"
     ]
    }
   ],
   "source": [
    "#variables can be forced to be flaots via float()\n",
    "print(float(2))\n",
    "print(float(\"1\"))\n",
    "print(float(\"3.141\"))\n",
    "print(float(\"1.1e6\")) # scientific notation valid"
   ]
  },
  {
   "cell_type": "markdown",
   "metadata": {},
   "source": [
    "#### Boolean\n",
    "booleans are either true or false (1 or zero)"
   ]
  },
  {
   "cell_type": "code",
   "execution_count": 13,
   "metadata": {},
   "outputs": [
    {
     "name": "stdout",
     "output_type": "stream",
     "text": [
      "True False 1\n",
      "2\n"
     ]
    }
   ],
   "source": [
    "a=True\n",
    "b=False\n",
    "\n",
    "# they are threated as numbers if used in calculations:\n",
    "print(a,b,a+b) # True + False = 1 = True\n",
    "print(a+a) # True + True = 2?"
   ]
  },
  {
   "cell_type": "code",
   "execution_count": 14,
   "metadata": {},
   "outputs": [
    {
     "name": "stdout",
     "output_type": "stream",
     "text": [
      "True\n",
      "False\n",
      "True\n",
      "True\n"
     ]
    }
   ],
   "source": [
    "# varables can be forced to boolean with bool()\n",
    "# everything non-zero is True\n",
    "print(bool(1))\n",
    "print(bool(0))\n",
    "print(bool(-2))\n",
    "print(bool(100))"
   ]
  },
  {
   "cell_type": "markdown",
   "metadata": {},
   "source": [
    "#### None\n",
    "None type can only be None usefull if variable should be \"empty\""
   ]
  },
  {
   "cell_type": "code",
   "execution_count": 15,
   "metadata": {},
   "outputs": [
    {
     "name": "stdout",
     "output_type": "stream",
     "text": [
      "None\n",
      "    if evaluated as bolean, None is False\n",
      "False\n"
     ]
    }
   ],
   "source": [
    "n=None\n",
    "print(n)\n",
    "if not n:\n",
    "    print(\"    if evaluated as bolean, None is False\")\n",
    "print(n==False) "
   ]
  },
  {
   "cell_type": "markdown",
   "metadata": {},
   "source": [
    "#### Strings\n",
    "strings are text that can be used e.g. as output"
   ]
  },
  {
   "cell_type": "code",
   "execution_count": 16,
   "metadata": {},
   "outputs": [
    {
     "data": {
      "text/plain": [
       "'some text, \"quote-type\" is not important'"
      ]
     },
     "execution_count": 16,
     "metadata": {},
     "output_type": "execute_result"
    }
   ],
   "source": [
    "string_var = 'some text, \"quote-type\" is not important'\n",
    "string_var # in jupyter the last line will be printed by default"
   ]
  },
  {
   "cell_type": "code",
   "execution_count": 17,
   "metadata": {},
   "outputs": [
    {
     "name": "stdout",
     "output_type": "stream",
     "text": [
      "ab\n",
      "aaaaaaaaaa\n"
     ]
    },
    {
     "ename": "TypeError",
     "evalue": "unsupported operand type(s) for -: 'str' and 'str'",
     "output_type": "error",
     "traceback": [
      "\u001b[1;31m---------------------------------------------------------------------------\u001b[0m",
      "\u001b[1;31mTypeError\u001b[0m                                 Traceback (most recent call last)",
      "\u001b[1;32m<ipython-input-17-7ebda4912435>\u001b[0m in \u001b[0;36m<module>\u001b[1;34m\u001b[0m\n\u001b[0;32m      4\u001b[0m \u001b[0mprint\u001b[0m\u001b[1;33m(\u001b[0m\u001b[1;34m\"a\"\u001b[0m\u001b[1;33m*\u001b[0m\u001b[1;36m10\u001b[0m\u001b[1;33m)\u001b[0m\u001b[1;33m\u001b[0m\u001b[1;33m\u001b[0m\u001b[0m\n\u001b[0;32m      5\u001b[0m \u001b[1;31m#but not substracted (or divided)\u001b[0m\u001b[1;33m\u001b[0m\u001b[1;33m\u001b[0m\u001b[1;33m\u001b[0m\u001b[0m\n\u001b[1;32m----> 6\u001b[1;33m \u001b[0mprint\u001b[0m\u001b[1;33m(\u001b[0m\u001b[1;34m\"aa\"\u001b[0m\u001b[1;33m-\u001b[0m\u001b[1;34m\"a\"\u001b[0m\u001b[1;33m)\u001b[0m\u001b[1;33m\u001b[0m\u001b[1;33m\u001b[0m\u001b[0m\n\u001b[0m",
      "\u001b[1;31mTypeError\u001b[0m: unsupported operand type(s) for -: 'str' and 'str'"
     ]
    }
   ],
   "source": [
    "#strings can be added\n",
    "print(\"a\"+\"b\")\n",
    "# multiplied\n",
    "print(\"a\"*10)\n",
    "#but not substracted (or divided)\n",
    "print(\"aa\"-\"a\")"
   ]
  },
  {
   "cell_type": "code",
   "execution_count": 18,
   "metadata": {},
   "outputs": [
    {
     "name": "stdout",
     "output_type": "stream",
     "text": [
      "1\n",
      "3.3333333333333335\n"
     ]
    }
   ],
   "source": [
    "# variable can be forced to strings via str()\n",
    "# print() does this by default\n",
    "print(str(1))\n",
    "print(str(10/3)) "
   ]
  },
  {
   "cell_type": "markdown",
   "metadata": {},
   "source": [
    "#### List\n",
    "list are variables which can hold multiple items"
   ]
  },
  {
   "cell_type": "code",
   "execution_count": 19,
   "metadata": {},
   "outputs": [
    {
     "name": "stdout",
     "output_type": "stream",
     "text": [
      "[] []\n",
      "[1, 2, 3, 100]\n"
     ]
    }
   ],
   "source": [
    "#equal initalization\n",
    "a = list()\n",
    "b=[] #personal preference \n",
    "\n",
    "print(a,b)\n",
    "\n",
    "#can directly be filled\n",
    "c = [1,2,3,100]\n",
    "print(c)"
   ]
  },
  {
   "cell_type": "code",
   "execution_count": 20,
   "metadata": {},
   "outputs": [
    {
     "name": "stdout",
     "output_type": "stream",
     "text": [
      "[1, 2]\n"
     ]
    },
    {
     "ename": "TypeError",
     "evalue": "can only concatenate list (not \"int\") to list",
     "output_type": "error",
     "traceback": [
      "\u001b[1;31m---------------------------------------------------------------------------\u001b[0m",
      "\u001b[1;31mTypeError\u001b[0m                                 Traceback (most recent call last)",
      "\u001b[1;32m<ipython-input-20-4ed2ba5082a7>\u001b[0m in \u001b[0;36m<module>\u001b[1;34m\u001b[0m\n\u001b[0;32m      6\u001b[0m \u001b[1;33m\u001b[0m\u001b[0m\n\u001b[0;32m      7\u001b[0m \u001b[1;31m# addition of value does not work\u001b[0m\u001b[1;33m\u001b[0m\u001b[1;33m\u001b[0m\u001b[1;33m\u001b[0m\u001b[0m\n\u001b[1;32m----> 8\u001b[1;33m \u001b[0mlist_var\u001b[0m \u001b[1;33m+\u001b[0m \u001b[1;36m1\u001b[0m\u001b[1;33m\u001b[0m\u001b[1;33m\u001b[0m\u001b[0m\n\u001b[0m",
      "\u001b[1;31mTypeError\u001b[0m: can only concatenate list (not \"int\") to list"
     ]
    }
   ],
   "source": [
    "list_var=[]\n",
    "# values can be added to lists via append\n",
    "list_var.append(1)\n",
    "list_var.append(2)\n",
    "print(list_var)\n",
    "\n",
    "# addition of value does not work\n",
    "list_var + 1"
   ]
  },
  {
   "cell_type": "code",
   "execution_count": 21,
   "metadata": {},
   "outputs": [
    {
     "name": "stdout",
     "output_type": "stream",
     "text": [
      "[1, 2, 1]\n",
      "[1, 2, 3, 4]\n",
      "[1, 2]\n",
      "[1, 2, 3, 4]\n",
      "[1, 2, 3, 4, 5, 6]\n"
     ]
    }
   ],
   "source": [
    "list_var = [1,2]\n",
    "# but addition of lists do\n",
    "print(list_var + [1])\n",
    "print(list_var + [3,4])\n",
    "#but it does not change the original variable:\n",
    "print(list_var)\n",
    "\n",
    "# if you want to do this (re)set variable\n",
    "list_var = list_var + [3,4]\n",
    "print(list_var)\n",
    "#eqal to:\n",
    "list_var.extend([5,6])\n",
    "print(list_var)"
   ]
  },
  {
   "cell_type": "code",
   "execution_count": 22,
   "metadata": {},
   "outputs": [
    {
     "data": {
      "text/plain": [
       "[1, 1.1, 'string']"
      ]
     },
     "execution_count": 22,
     "metadata": {},
     "output_type": "execute_result"
    }
   ],
   "source": [
    "#lists can have different types of content:\n",
    "mixed_list=[1,1.1,\"string\"]\n",
    "mixed_list"
   ]
  },
  {
   "cell_type": "code",
   "execution_count": 23,
   "metadata": {},
   "outputs": [
    {
     "name": "stdout",
     "output_type": "stream",
     "text": [
      "[1, 2, 3, 4, 5, 6]\n",
      "1\n",
      "2\n",
      "6\n",
      "5\n",
      "[2, 3, 4, 5]\n",
      "[2, 3, 4, 5, 6]\n",
      "[1, 2, 3, 4, 5]\n",
      "6\n"
     ]
    }
   ],
   "source": [
    "print(list_var)\n",
    "# lists can be indexed via brackes (index starts with 0)\n",
    "\n",
    "#get fist item\n",
    "print(list_var[0])\n",
    "\n",
    "#get second item\n",
    "print(list_var[1])\n",
    "\n",
    "#get get last item\n",
    "print(list_var[-1])\n",
    "\n",
    "#get get second last item\n",
    "print(list_var[-2])\n",
    "\n",
    "#get second to fifth element:\n",
    "print(list_var[1:5])\n",
    "\n",
    "#get all but fist:\n",
    "print(list_var[1:])\n",
    "\n",
    "#get all but last:\n",
    "print(list_var[:-1])\n",
    "\n",
    "#possible to get length of list via\n",
    "print(len(list_var))"
   ]
  },
  {
   "cell_type": "markdown",
   "metadata": {},
   "source": [
    "#### Dictionary\n",
    "dictionaries are key-value-pair lists "
   ]
  },
  {
   "cell_type": "code",
   "execution_count": 24,
   "metadata": {},
   "outputs": [
    {
     "name": "stdout",
     "output_type": "stream",
     "text": [
      "{} {}\n",
      "{'key': 'value'}\n",
      "{'key': 'value', 'a_flaot': 1.1, 'some_int': 3, 'some_bool': True}\n",
      "\n"
     ]
    },
    {
     "data": {
      "text/plain": [
       "{'key': 'value',\n",
       " 'a_flaot': 1.1,\n",
       " 'some_int': 3,\n",
       " 'some_bool': True,\n",
       " 1: 'one',\n",
       " 1.1: None,\n",
       " False: True,\n",
       " None: 'Nothing'}"
      ]
     },
     "metadata": {},
     "output_type": "display_data"
    }
   ],
   "source": [
    "dict_var = dict()\n",
    "dict_var_2 = {}\n",
    "print(dict_var, dict_var_2) # equal initalization\n",
    "\n",
    "#items can be set via:\n",
    "dict_var[\"key\"]=\"value\"\n",
    "print(dict_var)\n",
    "\n",
    "#keys and values can have (nearly) every type:\n",
    "dict_var[\"a_flaot\"]=1.1\n",
    "dict_var[\"some_int\"]=3\n",
    "dict_var[\"some_bool\"]=True\n",
    "print(dict_var)\n",
    "dict_var[1]=\"one\"\n",
    "dict_var[1.1]=None\n",
    "dict_var[False]=True\n",
    "dict_var[None]=\"Nothing\"\n",
    "print() # emty print -> newline\n",
    "display(dict_var) # display is similar to print in jupyter but nicer to look at\n"
   ]
  },
  {
   "cell_type": "markdown",
   "metadata": {},
   "source": [
    "**Normally it is best to use strings as keys!**"
   ]
  },
  {
   "cell_type": "code",
   "execution_count": 25,
   "metadata": {},
   "outputs": [
    {
     "name": "stdout",
     "output_type": "stream",
     "text": [
      "value\n",
      "Nothing\n"
     ]
    },
    {
     "ename": "KeyError",
     "evalue": "'unknown'",
     "output_type": "error",
     "traceback": [
      "\u001b[1;31m---------------------------------------------------------------------------\u001b[0m",
      "\u001b[1;31mKeyError\u001b[0m                                  Traceback (most recent call last)",
      "\u001b[1;32m<ipython-input-25-0d3873fe3eb4>\u001b[0m in \u001b[0;36m<module>\u001b[1;34m\u001b[0m\n\u001b[0;32m      3\u001b[0m \u001b[0mprint\u001b[0m\u001b[1;33m(\u001b[0m\u001b[0mdict_var\u001b[0m\u001b[1;33m[\u001b[0m\u001b[1;32mNone\u001b[0m\u001b[1;33m]\u001b[0m\u001b[1;33m)\u001b[0m\u001b[1;33m\u001b[0m\u001b[1;33m\u001b[0m\u001b[0m\n\u001b[0;32m      4\u001b[0m \u001b[1;31m# if the key is not known, raises an error\u001b[0m\u001b[1;33m\u001b[0m\u001b[1;33m\u001b[0m\u001b[1;33m\u001b[0m\u001b[0m\n\u001b[1;32m----> 5\u001b[1;33m \u001b[0mprint\u001b[0m\u001b[1;33m(\u001b[0m\u001b[0mdict_var\u001b[0m\u001b[1;33m[\u001b[0m\u001b[1;34m\"unknown\"\u001b[0m\u001b[1;33m]\u001b[0m\u001b[1;33m)\u001b[0m\u001b[1;33m\u001b[0m\u001b[1;33m\u001b[0m\u001b[0m\n\u001b[0m",
      "\u001b[1;31mKeyError\u001b[0m: 'unknown'"
     ]
    }
   ],
   "source": [
    "# values can be accest by calling the key:\n",
    "print(dict_var[\"key\"])\n",
    "print(dict_var[None])\n",
    "# if the key is not known, raises an error\n",
    "print(dict_var[\"unknown\"])"
   ]
  },
  {
   "cell_type": "code",
   "execution_count": 26,
   "metadata": {},
   "outputs": [
    {
     "name": "stdout",
     "output_type": "stream",
     "text": [
      "True\n",
      "value\n",
      "key 'unknown' is not in dict\n"
     ]
    }
   ],
   "source": [
    "#to check wether an key in a dict:\n",
    "print(\"key\" in dict_var)\n",
    "if \"key\" in dict_var:\n",
    "    print(dict_var[\"key\"])\n",
    "    \n",
    "if \"unknown\" in dict_var:\n",
    "    print(dict_var[\"unknown\"])\n",
    "else:   #uhhh else is new :3\n",
    "    print(\"key 'unknown' is not in dict\")"
   ]
  },
  {
   "cell_type": "code",
   "execution_count": 27,
   "metadata": {},
   "outputs": [
    {
     "name": "stdout",
     "output_type": "stream",
     "text": [
      "value\n",
      "None\n",
      "default_value\n"
     ]
    }
   ],
   "source": [
    "# also possible to get variable with get(), then if unknonw uses default content (None if not stated otherwise)\n",
    "print(dict_var.get(\"key\"))\n",
    "print(dict_var.get(\"unknown\"))\n",
    "print(dict_var.get(\"unknown\",\"default_value\"))"
   ]
  },
  {
   "cell_type": "markdown",
   "metadata": {},
   "source": [
    "### Conditionals and loops\n",
    "#### for loops\n",
    "for loops can iterate over an list (or other iterable variables) and perform an action for each if the items"
   ]
  },
  {
   "cell_type": "code",
   "execution_count": 28,
   "metadata": {},
   "outputs": [
    {
     "name": "stdout",
     "output_type": "stream",
     "text": [
      "0\n",
      "1\n",
      "2\n",
      "3\n",
      "----------\n",
      "0\n",
      "1\n",
      "2\n",
      "3\n",
      "4\n",
      "5\n",
      "6\n",
      "7\n",
      "8\n",
      "9\n",
      "----------\n",
      "range(0, 10)\n",
      "[0, 1, 2, 3, 4, 5, 6, 7, 8, 9]\n"
     ]
    }
   ],
   "source": [
    "for i in [0,1,2,3]:\n",
    "    print(i)\n",
    "print(\"-\"*10)\n",
    "for i in range(10):\n",
    "    print(i)\n",
    "print(\"-\"*10)\n",
    "print(range(10))# range is not a list but a generator (not explained in detail)\n",
    "print(list(range(10))) # to make it a list"
   ]
  },
  {
   "cell_type": "code",
   "execution_count": 29,
   "metadata": {},
   "outputs": [
    {
     "name": "stdout",
     "output_type": "stream",
     "text": [
      "0a 0b 0c 1a 1b 1c 2a 2b 2c 3a 3b 3c 4a 4b 4c 5a 5b 5c 6a 6b 6c 7a 7b 7c 8a 8b 8c 9a 9b 9c "
     ]
    },
    {
     "data": {
      "text/plain": [
       "[[0, 0, 0, 0, 0, 0, 0, 0, 0, 0, 0],\n",
       " [0, 1, 2, 3, 4, 5, 6, 7, 8, 9, 10],\n",
       " [0, 2, 4, 6, 8, 10, 12, 14, 16, 18, 20],\n",
       " [0, 3, 6, 9, 12, 15, 18, 21, 24, 27, 30],\n",
       " [0, 4, 8, 12, 16, 20, 24, 28, 32, 36, 40],\n",
       " [0, 5, 10, 15, 20, 25, 30, 35, 40, 45, 50],\n",
       " [0, 6, 12, 18, 24, 30, 36, 42, 48, 54, 60],\n",
       " [0, 7, 14, 21, 28, 35, 42, 49, 56, 63, 70],\n",
       " [0, 8, 16, 24, 32, 40, 48, 56, 64, 72, 80],\n",
       " [0, 9, 18, 27, 36, 45, 54, 63, 72, 81, 90],\n",
       " [0, 10, 20, 30, 40, 50, 60, 70, 80, 90, 100]]"
      ]
     },
     "execution_count": 29,
     "metadata": {},
     "output_type": "execute_result"
    }
   ],
   "source": [
    "for i in range(10):\n",
    "    for c in \"abc\":\n",
    "        print(i,c,  sep=\"\", end=\" \") # note the end and sep\n",
    "list_2d=[]\n",
    "for i in range(11):\n",
    "    new_sublist=[]\n",
    "    for j in range(11):\n",
    "        new_sublist.append(i*j)\n",
    "    list_2d.append(new_sublist)\n",
    "list_2d"
   ]
  },
  {
   "cell_type": "code",
   "execution_count": 30,
   "metadata": {},
   "outputs": [
    {
     "data": {
      "text/plain": [
       "[0, 1, 2, 3, 4, 5, 6, 7, 8, 9, 10, 11, 12, 13, 14, 15, 16, 17, 18, 19]"
      ]
     },
     "execution_count": 30,
     "metadata": {},
     "output_type": "execute_result"
    }
   ],
   "source": [
    "new_list=[i for i in range(20)]\n",
    "new_list"
   ]
  },
  {
   "cell_type": "code",
   "execution_count": 31,
   "metadata": {},
   "outputs": [
    {
     "data": {
      "text/plain": [
       "[[0, 0, 0, 0, 0, 0, 0, 0, 0, 0],\n",
       " [0, 1, 2, 3, 4, 5, 6, 7, 8, 9],\n",
       " [0, 2, 4, 6, 8, 10, 12, 14, 16, 18],\n",
       " [0, 3, 6, 9, 12, 15, 18, 21, 24, 27],\n",
       " [0, 4, 8, 12, 16, 20, 24, 28, 32, 36],\n",
       " [0, 5, 10, 15, 20, 25, 30, 35, 40, 45],\n",
       " [0, 6, 12, 18, 24, 30, 36, 42, 48, 54],\n",
       " [0, 7, 14, 21, 28, 35, 42, 49, 56, 63],\n",
       " [0, 8, 16, 24, 32, 40, 48, 56, 64, 72],\n",
       " [0, 9, 18, 27, 36, 45, 54, 63, 72, 81]]"
      ]
     },
     "execution_count": 31,
     "metadata": {},
     "output_type": "execute_result"
    }
   ],
   "source": [
    "new_list=[[i*j for j in range(10)] for i in range(10)]\n",
    "new_list"
   ]
  },
  {
   "cell_type": "markdown",
   "metadata": {},
   "source": [
    "#### while loops\n",
    "while is like for but it continues as long as the statement is True"
   ]
  },
  {
   "cell_type": "code",
   "execution_count": 47,
   "metadata": {},
   "outputs": [
    {
     "name": "stdout",
     "output_type": "stream",
     "text": [
      "2\n",
      "4\n",
      "8\n",
      "16\n",
      "32\n",
      "64\n",
      "128\n",
      "256\n",
      "512\n",
      "1024\n",
      "2048\n",
      "4096\n",
      "8192\n",
      "16384\n",
      "32768\n",
      "65536\n",
      "131072\n",
      "262144\n",
      "524288\n",
      "1048576\n",
      "2097152\n",
      "4194304\n",
      "8388608\n",
      "16777216\n",
      "33554432\n",
      "67108864\n",
      "134217728\n",
      "268435456\n",
      "536870912\n",
      "1073741824\n",
      "2147483648\n",
      "4294967296\n",
      "8589934592\n",
      "17179869184\n",
      "34359738368\n",
      "68719476736\n",
      "137438953472\n",
      "274877906944\n",
      "549755813888\n",
      "1099511627776\n",
      "2199023255552\n",
      "4398046511104\n",
      "8796093022208\n",
      "17592186044416\n",
      "35184372088832\n",
      "70368744177664\n",
      "140737488355328\n",
      "281474976710656\n",
      "562949953421312\n",
      "1125899906842624\n",
      "2251799813685248\n",
      "4503599627370496\n",
      "9007199254740992\n",
      "18014398509481984\n",
      "36028797018963968\n",
      "72057594037927936\n",
      "144115188075855872\n",
      "288230376151711744\n",
      "576460752303423488\n",
      "1152921504606846976\n",
      "2305843009213693952\n",
      "4611686018427387904\n",
      "9223372036854775808\n",
      "18446744073709551616\n",
      "36893488147419103232\n",
      "73786976294838206464\n",
      "147573952589676412928\n",
      "295147905179352825856\n",
      "590295810358705651712\n",
      "1180591620717411303424\n",
      "2361183241434822606848\n",
      "4722366482869645213696\n",
      "9444732965739290427392\n",
      "18889465931478580854784\n",
      "37778931862957161709568\n",
      "75557863725914323419136\n",
      "151115727451828646838272\n",
      "302231454903657293676544\n",
      "604462909807314587353088\n",
      "1208925819614629174706176\n",
      "2417851639229258349412352\n",
      "4835703278458516698824704\n",
      "9671406556917033397649408\n",
      "19342813113834066795298816\n",
      "38685626227668133590597632\n",
      "77371252455336267181195264\n",
      "154742504910672534362390528\n",
      "309485009821345068724781056\n",
      "618970019642690137449562112\n",
      "1237940039285380274899124224\n",
      "2475880078570760549798248448\n",
      "4951760157141521099596496896\n",
      "9903520314283042199192993792\n",
      "19807040628566084398385987584\n",
      "39614081257132168796771975168\n",
      "79228162514264337593543950336\n",
      "158456325028528675187087900672\n",
      "316912650057057350374175801344\n",
      "633825300114114700748351602688\n",
      "1267650600228229401496703205376\n",
      "2535301200456458802993406410752\n",
      "5070602400912917605986812821504\n",
      "10141204801825835211973625643008\n",
      "20282409603651670423947251286016\n",
      "40564819207303340847894502572032\n",
      "81129638414606681695789005144064\n",
      "162259276829213363391578010288128\n",
      "324518553658426726783156020576256\n",
      "649037107316853453566312041152512\n",
      "1298074214633706907132624082305024\n",
      "2596148429267413814265248164610048\n",
      "5192296858534827628530496329220096\n",
      "10384593717069655257060992658440192\n",
      "20769187434139310514121985316880384\n",
      "41538374868278621028243970633760768\n",
      "83076749736557242056487941267521536\n",
      "166153499473114484112975882535043072\n",
      "332306998946228968225951765070086144\n",
      "664613997892457936451903530140172288\n",
      "1329227995784915872903807060280344576\n",
      "2658455991569831745807614120560689152\n",
      "5316911983139663491615228241121378304\n",
      "10633823966279326983230456482242756608\n",
      "21267647932558653966460912964485513216\n",
      "42535295865117307932921825928971026432\n",
      "85070591730234615865843651857942052864\n",
      "170141183460469231731687303715884105728\n",
      "340282366920938463463374607431768211456\n",
      "680564733841876926926749214863536422912\n",
      "1361129467683753853853498429727072845824\n",
      "2722258935367507707706996859454145691648\n",
      "5444517870735015415413993718908291383296\n",
      "10889035741470030830827987437816582766592\n",
      "21778071482940061661655974875633165533184\n",
      "43556142965880123323311949751266331066368\n",
      "87112285931760246646623899502532662132736\n",
      "174224571863520493293247799005065324265472\n",
      "348449143727040986586495598010130648530944\n",
      "696898287454081973172991196020261297061888\n",
      "1393796574908163946345982392040522594123776\n",
      "2787593149816327892691964784081045188247552\n",
      "5575186299632655785383929568162090376495104\n",
      "11150372599265311570767859136324180752990208\n",
      "22300745198530623141535718272648361505980416\n",
      "44601490397061246283071436545296723011960832\n",
      "89202980794122492566142873090593446023921664\n",
      "178405961588244985132285746181186892047843328\n",
      "356811923176489970264571492362373784095686656\n",
      "713623846352979940529142984724747568191373312\n",
      "1427247692705959881058285969449495136382746624\n",
      "2854495385411919762116571938898990272765493248\n",
      "5708990770823839524233143877797980545530986496\n",
      "11417981541647679048466287755595961091061972992\n",
      "22835963083295358096932575511191922182123945984\n",
      "45671926166590716193865151022383844364247891968\n",
      "91343852333181432387730302044767688728495783936\n",
      "182687704666362864775460604089535377456991567872\n",
      "365375409332725729550921208179070754913983135744\n",
      "730750818665451459101842416358141509827966271488\n",
      "1461501637330902918203684832716283019655932542976\n",
      "2923003274661805836407369665432566039311865085952\n",
      "5846006549323611672814739330865132078623730171904\n",
      "11692013098647223345629478661730264157247460343808\n",
      "23384026197294446691258957323460528314494920687616\n",
      "46768052394588893382517914646921056628989841375232\n",
      "93536104789177786765035829293842113257979682750464\n",
      "187072209578355573530071658587684226515959365500928\n",
      "374144419156711147060143317175368453031918731001856\n",
      "748288838313422294120286634350736906063837462003712\n",
      "1496577676626844588240573268701473812127674924007424\n",
      "2993155353253689176481146537402947624255349848014848\n",
      "5986310706507378352962293074805895248510699696029696\n",
      "11972621413014756705924586149611790497021399392059392\n",
      "23945242826029513411849172299223580994042798784118784\n",
      "47890485652059026823698344598447161988085597568237568\n",
      "95780971304118053647396689196894323976171195136475136\n",
      "191561942608236107294793378393788647952342390272950272\n",
      "383123885216472214589586756787577295904684780545900544\n",
      "766247770432944429179173513575154591809369561091801088\n",
      "1532495540865888858358347027150309183618739122183602176\n",
      "3064991081731777716716694054300618367237478244367204352\n",
      "6129982163463555433433388108601236734474956488734408704\n",
      "12259964326927110866866776217202473468949912977468817408\n",
      "24519928653854221733733552434404946937899825954937634816\n",
      "49039857307708443467467104868809893875799651909875269632\n",
      "98079714615416886934934209737619787751599303819750539264\n",
      "196159429230833773869868419475239575503198607639501078528\n",
      "392318858461667547739736838950479151006397215279002157056\n",
      "784637716923335095479473677900958302012794430558004314112\n",
      "1569275433846670190958947355801916604025588861116008628224\n",
      "3138550867693340381917894711603833208051177722232017256448\n",
      "6277101735386680763835789423207666416102355444464034512896\n",
      "12554203470773361527671578846415332832204710888928069025792\n",
      "25108406941546723055343157692830665664409421777856138051584\n",
      "50216813883093446110686315385661331328818843555712276103168\n",
      "100433627766186892221372630771322662657637687111424552206336\n",
      "200867255532373784442745261542645325315275374222849104412672\n",
      "401734511064747568885490523085290650630550748445698208825344\n",
      "803469022129495137770981046170581301261101496891396417650688\n",
      "1606938044258990275541962092341162602522202993782792835301376\n",
      "3213876088517980551083924184682325205044405987565585670602752\n",
      "6427752177035961102167848369364650410088811975131171341205504\n",
      "12855504354071922204335696738729300820177623950262342682411008\n",
      "25711008708143844408671393477458601640355247900524685364822016\n",
      "51422017416287688817342786954917203280710495801049370729644032\n",
      "102844034832575377634685573909834406561420991602098741459288064\n",
      "205688069665150755269371147819668813122841983204197482918576128\n",
      "411376139330301510538742295639337626245683966408394965837152256\n",
      "822752278660603021077484591278675252491367932816789931674304512\n",
      "1645504557321206042154969182557350504982735865633579863348609024\n",
      "3291009114642412084309938365114701009965471731267159726697218048\n",
      "6582018229284824168619876730229402019930943462534319453394436096\n",
      "13164036458569648337239753460458804039861886925068638906788872192\n",
      "26328072917139296674479506920917608079723773850137277813577744384\n",
      "52656145834278593348959013841835216159447547700274555627155488768\n",
      "105312291668557186697918027683670432318895095400549111254310977536\n",
      "210624583337114373395836055367340864637790190801098222508621955072\n",
      "421249166674228746791672110734681729275580381602196445017243910144\n",
      "842498333348457493583344221469363458551160763204392890034487820288\n",
      "1684996666696914987166688442938726917102321526408785780068975640576\n",
      "3369993333393829974333376885877453834204643052817571560137951281152\n",
      "6739986666787659948666753771754907668409286105635143120275902562304\n",
      "13479973333575319897333507543509815336818572211270286240551805124608\n",
      "26959946667150639794667015087019630673637144422540572481103610249216\n",
      "53919893334301279589334030174039261347274288845081144962207220498432\n",
      "107839786668602559178668060348078522694548577690162289924414440996864\n",
      "215679573337205118357336120696157045389097155380324579848828881993728\n",
      "431359146674410236714672241392314090778194310760649159697657763987456\n",
      "862718293348820473429344482784628181556388621521298319395315527974912\n",
      "1725436586697640946858688965569256363112777243042596638790631055949824\n",
      "3450873173395281893717377931138512726225554486085193277581262111899648\n",
      "6901746346790563787434755862277025452451108972170386555162524223799296\n",
      "13803492693581127574869511724554050904902217944340773110325048447598592\n",
      "27606985387162255149739023449108101809804435888681546220650096895197184\n",
      "55213970774324510299478046898216203619608871777363092441300193790394368\n",
      "110427941548649020598956093796432407239217743554726184882600387580788736\n",
      "220855883097298041197912187592864814478435487109452369765200775161577472\n",
      "441711766194596082395824375185729628956870974218904739530401550323154944\n",
      "883423532389192164791648750371459257913741948437809479060803100646309888\n",
      "1766847064778384329583297500742918515827483896875618958121606201292619776\n",
      "3533694129556768659166595001485837031654967793751237916243212402585239552\n",
      "7067388259113537318333190002971674063309935587502475832486424805170479104\n",
      "14134776518227074636666380005943348126619871175004951664972849610340958208\n",
      "28269553036454149273332760011886696253239742350009903329945699220681916416\n",
      "56539106072908298546665520023773392506479484700019806659891398441363832832\n",
      "113078212145816597093331040047546785012958969400039613319782796882727665664\n",
      "226156424291633194186662080095093570025917938800079226639565593765455331328\n",
      "452312848583266388373324160190187140051835877600158453279131187530910662656\n",
      "904625697166532776746648320380374280103671755200316906558262375061821325312\n",
      "1809251394333065553493296640760748560207343510400633813116524750123642650624\n",
      "3618502788666131106986593281521497120414687020801267626233049500247285301248\n",
      "7237005577332262213973186563042994240829374041602535252466099000494570602496\n",
      "14474011154664524427946373126085988481658748083205070504932198000989141204992\n",
      "28948022309329048855892746252171976963317496166410141009864396001978282409984\n",
      "57896044618658097711785492504343953926634992332820282019728792003956564819968\n",
      "115792089237316195423570985008687907853269984665640564039457584007913129639936\n",
      "231584178474632390847141970017375815706539969331281128078915168015826259279872\n",
      "463168356949264781694283940034751631413079938662562256157830336031652518559744\n",
      "926336713898529563388567880069503262826159877325124512315660672063305037119488\n",
      "1852673427797059126777135760139006525652319754650249024631321344126610074238976\n",
      "3705346855594118253554271520278013051304639509300498049262642688253220148477952\n",
      "7410693711188236507108543040556026102609279018600996098525285376506440296955904\n",
      "14821387422376473014217086081112052205218558037201992197050570753012880593911808\n",
      "29642774844752946028434172162224104410437116074403984394101141506025761187823616\n",
      "59285549689505892056868344324448208820874232148807968788202283012051522375647232\n",
      "118571099379011784113736688648896417641748464297615937576404566024103044751294464\n",
      "237142198758023568227473377297792835283496928595231875152809132048206089502588928\n",
      "474284397516047136454946754595585670566993857190463750305618264096412179005177856\n",
      "948568795032094272909893509191171341133987714380927500611236528192824358010355712\n",
      "1897137590064188545819787018382342682267975428761855001222473056385648716020711424\n",
      "3794275180128377091639574036764685364535950857523710002444946112771297432041422848\n",
      "7588550360256754183279148073529370729071901715047420004889892225542594864082845696\n",
      "15177100720513508366558296147058741458143803430094840009779784451085189728165691392\n",
      "30354201441027016733116592294117482916287606860189680019559568902170379456331382784\n",
      "60708402882054033466233184588234965832575213720379360039119137804340758912662765568\n",
      "121416805764108066932466369176469931665150427440758720078238275608681517825325531136\n",
      "242833611528216133864932738352939863330300854881517440156476551217363035650651062272\n",
      "485667223056432267729865476705879726660601709763034880312953102434726071301302124544\n",
      "971334446112864535459730953411759453321203419526069760625906204869452142602604249088\n",
      "1942668892225729070919461906823518906642406839052139521251812409738904285205208498176\n",
      "3885337784451458141838923813647037813284813678104279042503624819477808570410416996352\n",
      "7770675568902916283677847627294075626569627356208558085007249638955617140820833992704\n",
      "15541351137805832567355695254588151253139254712417116170014499277911234281641667985408\n",
      "31082702275611665134711390509176302506278509424834232340028998555822468563283335970816\n",
      "62165404551223330269422781018352605012557018849668464680057997111644937126566671941632\n",
      "124330809102446660538845562036705210025114037699336929360115994223289874253133343883264\n",
      "248661618204893321077691124073410420050228075398673858720231988446579748506266687766528\n",
      "497323236409786642155382248146820840100456150797347717440463976893159497012533375533056\n",
      "994646472819573284310764496293641680200912301594695434880927953786318994025066751066112\n",
      "1989292945639146568621528992587283360401824603189390869761855907572637988050133502132224\n",
      "3978585891278293137243057985174566720803649206378781739523711815145275976100267004264448\n",
      "7957171782556586274486115970349133441607298412757563479047423630290551952200534008528896\n",
      "15914343565113172548972231940698266883214596825515126958094847260581103904401068017057792\n",
      "31828687130226345097944463881396533766429193651030253916189694521162207808802136034115584\n",
      "63657374260452690195888927762793067532858387302060507832379389042324415617604272068231168\n",
      "127314748520905380391777855525586135065716774604121015664758778084648831235208544136462336\n",
      "254629497041810760783555711051172270131433549208242031329517556169297662470417088272924672\n",
      "509258994083621521567111422102344540262867098416484062659035112338595324940834176545849344\n",
      "1018517988167243043134222844204689080525734196832968125318070224677190649881668353091698688\n",
      "2037035976334486086268445688409378161051468393665936250636140449354381299763336706183397376\n",
      "4074071952668972172536891376818756322102936787331872501272280898708762599526673412366794752\n",
      "8148143905337944345073782753637512644205873574663745002544561797417525199053346824733589504\n",
      "16296287810675888690147565507275025288411747149327490005089123594835050398106693649467179008\n",
      "32592575621351777380295131014550050576823494298654980010178247189670100796213387298934358016\n",
      "65185151242703554760590262029100101153646988597309960020356494379340201592426774597868716032\n",
      "130370302485407109521180524058200202307293977194619920040712988758680403184853549195737432064\n",
      "260740604970814219042361048116400404614587954389239840081425977517360806369707098391474864128\n",
      "521481209941628438084722096232800809229175908778479680162851955034721612739414196782949728256\n",
      "1042962419883256876169444192465601618458351817556959360325703910069443225478828393565899456512\n",
      "2085924839766513752338888384931203236916703635113918720651407820138886450957656787131798913024\n",
      "4171849679533027504677776769862406473833407270227837441302815640277772901915313574263597826048\n",
      "8343699359066055009355553539724812947666814540455674882605631280555545803830627148527195652096\n",
      "16687398718132110018711107079449625895333629080911349765211262561111091607661254297054391304192\n",
      "33374797436264220037422214158899251790667258161822699530422525122222183215322508594108782608384\n",
      "66749594872528440074844428317798503581334516323645399060845050244444366430645017188217565216768\n",
      "133499189745056880149688856635597007162669032647290798121690100488888732861290034376435130433536\n",
      "266998379490113760299377713271194014325338065294581596243380200977777465722580068752870260867072\n",
      "533996758980227520598755426542388028650676130589163192486760401955554931445160137505740521734144\n",
      "1067993517960455041197510853084776057301352261178326384973520803911109862890320275011481043468288\n",
      "2135987035920910082395021706169552114602704522356652769947041607822219725780640550022962086936576\n",
      "4271974071841820164790043412339104229205409044713305539894083215644439451561281100045924173873152\n",
      "8543948143683640329580086824678208458410818089426611079788166431288878903122562200091848347746304\n",
      "17087896287367280659160173649356416916821636178853222159576332862577757806245124400183696695492608\n",
      "34175792574734561318320347298712833833643272357706444319152665725155515612490248800367393390985216\n",
      "68351585149469122636640694597425667667286544715412888638305331450311031224980497600734786781970432\n",
      "136703170298938245273281389194851335334573089430825777276610662900622062449960995201469573563940864\n",
      "273406340597876490546562778389702670669146178861651554553221325801244124899921990402939147127881728\n",
      "546812681195752981093125556779405341338292357723303109106442651602488249799843980805878294255763456\n",
      "1093625362391505962186251113558810682676584715446606218212885303204976499599687961611756588511526912\n",
      "2187250724783011924372502227117621365353169430893212436425770606409952999199375923223513177023053824\n",
      "4374501449566023848745004454235242730706338861786424872851541212819905998398751846447026354046107648\n",
      "8749002899132047697490008908470485461412677723572849745703082425639811996797503692894052708092215296\n",
      "17498005798264095394980017816940970922825355447145699491406164851279623993595007385788105416184430592\n",
      "34996011596528190789960035633881941845650710894291398982812329702559247987190014771576210832368861184\n",
      "unreachable\n"
     ]
    }
   ],
   "source": [
    "p=1\n",
    "while p<100:\n",
    "    p*=2 # p=p+1\n",
    "    print(p)\n",
    "\n",
    "# beware of infitiy loops\n",
    "while p>1:\n",
    "    p*=2\n",
    "    print(p)\n",
    "    \n",
    "    ##force break\n",
    "    if p> (2e100):\n",
    "        break\n",
    "print(\"unreachable\")"
   ]
  },
  {
   "cell_type": "markdown",
   "metadata": {},
   "source": [
    "## conditionals"
   ]
  },
  {
   "cell_type": "code",
   "execution_count": 48,
   "metadata": {},
   "outputs": [
    {
     "name": "stdout",
     "output_type": "stream",
     "text": [
      "check 0\n",
      "  dividable by 2\n",
      "  and also by 5\n",
      "\n",
      "check 7\n",
      "  uneven and not multiple by 3\n",
      "\n",
      "check 14\n",
      "  dividable by 2\n",
      "\n",
      "check 21\n",
      "  dividable by 3\n",
      "\n",
      "check 28\n",
      "  dividable by 2\n",
      "\n",
      "check 35\n",
      "  uneven and not multiple by 3\n",
      "\n",
      "check 42\n",
      "  dividable by 2\n",
      "\n",
      "check 49\n",
      "  uneven and not multiple by 3\n",
      "\n",
      "check 56\n",
      "  dividable by 2\n",
      "\n",
      "check 63\n",
      "  dividable by 3\n",
      "\n",
      "check 70\n",
      "  dividable by 2\n",
      "  and also by 5\n",
      "\n",
      "check 77\n",
      "  uneven and not multiple by 3\n",
      "\n",
      "check 84\n",
      "  dividable by 2\n",
      "\n",
      "check 91\n",
      "  uneven and not multiple by 3\n",
      "\n",
      "check 98\n",
      "  dividable by 2\n",
      "\n"
     ]
    }
   ],
   "source": [
    "for i in range(0,100,7): # from 0 to 100 \n",
    "    print(\"check\",i)\n",
    "    if i%2 == 0:\n",
    "        print(\"  dividable by 2\")\n",
    "        if i%5==0:\n",
    "            print(\"  and also by 5\")\n",
    "          \n",
    "    elif i%3==0:\n",
    "        print(\"  dividable by 3\")\n",
    "    else:\n",
    "        print(\"  uneven and not multiple by 3\")\n",
    "    print()"
   ]
  },
  {
   "cell_type": "markdown",
   "metadata": {},
   "source": [
    "### Functions\n",
    "functions are, as in most programming languages very important concepts. In general take inputs (or nothing), perform some code and return some output"
   ]
  },
  {
   "cell_type": "code",
   "execution_count": 49,
   "metadata": {},
   "outputs": [
    {
     "ename": "NameError",
     "evalue": "name 'funcname' is not defined",
     "output_type": "error",
     "traceback": [
      "\u001b[1;31m---------------------------------------------------------------------------\u001b[0m",
      "\u001b[1;31mNameError\u001b[0m                                 Traceback (most recent call last)",
      "\u001b[1;32m<ipython-input-49-c219f6c27024>\u001b[0m in \u001b[0;36m<module>\u001b[1;34m\u001b[0m\n\u001b[0;32m      2\u001b[0m     \u001b[1;32mpass\u001b[0m\u001b[1;33m\u001b[0m\u001b[1;33m\u001b[0m\u001b[0m\n\u001b[0;32m      3\u001b[0m \u001b[1;33m\u001b[0m\u001b[0m\n\u001b[1;32m----> 4\u001b[1;33m \u001b[0mv\u001b[0m\u001b[1;33m=\u001b[0m\u001b[0mfuncname\u001b[0m\u001b[1;33m(\u001b[0m\u001b[1;33m)\u001b[0m\u001b[1;33m\u001b[0m\u001b[1;33m\u001b[0m\u001b[0m\n\u001b[0m\u001b[0;32m      5\u001b[0m \u001b[0mprint\u001b[0m\u001b[1;33m(\u001b[0m\u001b[0mv\u001b[0m\u001b[1;33m)\u001b[0m \u001b[1;31m# if nothing is returned explicitly, None is returned\u001b[0m\u001b[1;33m\u001b[0m\u001b[1;33m\u001b[0m\u001b[0m\n",
      "\u001b[1;31mNameError\u001b[0m: name 'funcname' is not defined"
     ]
    }
   ],
   "source": [
    "def testfunc():\n",
    "    pass\n",
    "\n",
    "v=funcname()\n",
    "print(v) # if nothing is returned explicitly, None is returned"
   ]
  },
  {
   "cell_type": "markdown",
   "metadata": {},
   "source": [
    "if no default values are set for the input, they mst be set:"
   ]
  },
  {
   "cell_type": "code",
   "execution_count": 50,
   "metadata": {},
   "outputs": [
    {
     "name": "stdout",
     "output_type": "stream",
     "text": [
      "input hello\n",
      "output hello\n"
     ]
    },
    {
     "ename": "TypeError",
     "evalue": "testfunc() missing 1 required positional argument: 'a'",
     "output_type": "error",
     "traceback": [
      "\u001b[1;31m---------------------------------------------------------------------------\u001b[0m",
      "\u001b[1;31mTypeError\u001b[0m                                 Traceback (most recent call last)",
      "\u001b[1;32m<ipython-input-50-f7cecfe1fece>\u001b[0m in \u001b[0;36m<module>\u001b[1;34m\u001b[0m\n\u001b[0;32m      6\u001b[0m \u001b[0mprint\u001b[0m\u001b[1;33m(\u001b[0m\u001b[1;34m\"output\"\u001b[0m\u001b[1;33m,\u001b[0m\u001b[0mv\u001b[0m\u001b[1;33m)\u001b[0m\u001b[1;33m\u001b[0m\u001b[1;33m\u001b[0m\u001b[0m\n\u001b[0;32m      7\u001b[0m \u001b[1;33m\u001b[0m\u001b[0m\n\u001b[1;32m----> 8\u001b[1;33m \u001b[0mv\u001b[0m\u001b[1;33m=\u001b[0m\u001b[0mtestfunc\u001b[0m\u001b[1;33m(\u001b[0m\u001b[1;33m)\u001b[0m\u001b[1;33m\u001b[0m\u001b[1;33m\u001b[0m\u001b[0m\n\u001b[0m",
      "\u001b[1;31mTypeError\u001b[0m: testfunc() missing 1 required positional argument: 'a'"
     ]
    }
   ],
   "source": [
    "def testfunc(a):\n",
    "    print(\"input\",a)\n",
    "    return a\n",
    "\n",
    "v=testfunc(\"hello\")\n",
    "print(\"output\",v)\n",
    "\n",
    "v=testfunc()"
   ]
  },
  {
   "cell_type": "markdown",
   "metadata": {},
   "source": [
    "but default values can be set:"
   ]
  },
  {
   "cell_type": "code",
   "execution_count": 51,
   "metadata": {},
   "outputs": [
    {
     "ename": "SyntaxError",
     "evalue": "positional argument follows keyword argument (<ipython-input-51-5d95884e1e86>, line 16)",
     "output_type": "error",
     "traceback": [
      "\u001b[1;36m  File \u001b[1;32m\"<ipython-input-51-5d95884e1e86>\"\u001b[1;36m, line \u001b[1;32m16\u001b[0m\n\u001b[1;33m    v=testfunc(b=2,\"d\")\u001b[0m\n\u001b[1;37m                   ^\u001b[0m\n\u001b[1;31mSyntaxError\u001b[0m\u001b[1;31m:\u001b[0m positional argument follows keyword argument\n"
     ]
    }
   ],
   "source": [
    "def testfunc(a,b=3):\n",
    "    for _ in range(b-1):\n",
    "        print(a,end = \"\")\n",
    "    print(a)\n",
    "    return str(a)*(b+2)\n",
    "\n",
    "v=testfunc(\"a\")\n",
    "print(v)\n",
    "v=testfunc(\"b\",4)\n",
    "#varnames, known as keywords, can also be used\n",
    "v=testfunc(\"c\",b=1)\n",
    "#then order can be changed\n",
    "v=testfunc(b=2,a=\"d\")\n",
    "\n",
    "#but keywords have to be used after positionals (without varname)\n",
    "v=testfunc(b=2,\"d\")"
   ]
  },
  {
   "cell_type": "code",
   "execution_count": 52,
   "metadata": {},
   "outputs": [
    {
     "name": "stdout",
     "output_type": "stream",
     "text": [
      "([10, 2], 20)\n",
      "[10, 2]\n",
      "20\n"
     ]
    }
   ],
   "source": [
    "# multiple returns\n",
    "def multivaluefunc(a,b):\n",
    "    return [a,b],a*b\n",
    "\n",
    "v = multivaluefunc(10,2)\n",
    "print(v)\n",
    "\n",
    "#multiple values can be assigned to multiple variables\n",
    "r1,r2=multivaluefunc(10,2)\n",
    "print(r1)\n",
    "print(r2)"
   ]
  },
  {
   "cell_type": "markdown",
   "metadata": {},
   "source": [
    "but keep in mind: python doesn't check for correct variable types:"
   ]
  },
  {
   "cell_type": "code",
   "execution_count": 53,
   "metadata": {},
   "outputs": [
    {
     "name": "stdout",
     "output_type": "stream",
     "text": [
      "11.3\n"
     ]
    },
    {
     "ename": "TypeError",
     "evalue": "unsupported operand type(s) for +: 'int' and 'str'",
     "output_type": "error",
     "traceback": [
      "\u001b[1;31m---------------------------------------------------------------------------\u001b[0m",
      "\u001b[1;31mTypeError\u001b[0m                                 Traceback (most recent call last)",
      "\u001b[1;32m<ipython-input-53-64a6e9314cd9>\u001b[0m in \u001b[0;36m<module>\u001b[1;34m\u001b[0m\n\u001b[0;32m      3\u001b[0m \u001b[1;33m\u001b[0m\u001b[0m\n\u001b[0;32m      4\u001b[0m \u001b[0mprint\u001b[0m\u001b[1;33m(\u001b[0m\u001b[0madd\u001b[0m\u001b[1;33m(\u001b[0m\u001b[1;36m10\u001b[0m\u001b[1;33m,\u001b[0m\u001b[1;36m1.3\u001b[0m\u001b[1;33m)\u001b[0m\u001b[1;33m)\u001b[0m\u001b[1;33m\u001b[0m\u001b[1;33m\u001b[0m\u001b[0m\n\u001b[1;32m----> 5\u001b[1;33m \u001b[0mprint\u001b[0m\u001b[1;33m(\u001b[0m\u001b[0madd\u001b[0m\u001b[1;33m(\u001b[0m\u001b[1;36m10\u001b[0m\u001b[1;33m,\u001b[0m\u001b[1;34m\"hello\"\u001b[0m\u001b[1;33m)\u001b[0m\u001b[1;33m)\u001b[0m\u001b[1;33m\u001b[0m\u001b[1;33m\u001b[0m\u001b[0m\n\u001b[0m",
      "\u001b[1;32m<ipython-input-53-64a6e9314cd9>\u001b[0m in \u001b[0;36madd\u001b[1;34m(a, b)\u001b[0m\n\u001b[0;32m      1\u001b[0m \u001b[1;32mdef\u001b[0m \u001b[0madd\u001b[0m\u001b[1;33m(\u001b[0m\u001b[0ma\u001b[0m\u001b[1;33m,\u001b[0m\u001b[0mb\u001b[0m\u001b[1;33m)\u001b[0m\u001b[1;33m:\u001b[0m\u001b[1;33m\u001b[0m\u001b[1;33m\u001b[0m\u001b[0m\n\u001b[1;32m----> 2\u001b[1;33m     \u001b[1;32mreturn\u001b[0m \u001b[0ma\u001b[0m\u001b[1;33m+\u001b[0m\u001b[0mb\u001b[0m\u001b[1;33m\u001b[0m\u001b[1;33m\u001b[0m\u001b[0m\n\u001b[0m\u001b[0;32m      3\u001b[0m \u001b[1;33m\u001b[0m\u001b[0m\n\u001b[0;32m      4\u001b[0m \u001b[0mprint\u001b[0m\u001b[1;33m(\u001b[0m\u001b[0madd\u001b[0m\u001b[1;33m(\u001b[0m\u001b[1;36m10\u001b[0m\u001b[1;33m,\u001b[0m\u001b[1;36m1.3\u001b[0m\u001b[1;33m)\u001b[0m\u001b[1;33m)\u001b[0m\u001b[1;33m\u001b[0m\u001b[1;33m\u001b[0m\u001b[0m\n\u001b[0;32m      5\u001b[0m \u001b[0mprint\u001b[0m\u001b[1;33m(\u001b[0m\u001b[0madd\u001b[0m\u001b[1;33m(\u001b[0m\u001b[1;36m10\u001b[0m\u001b[1;33m,\u001b[0m\u001b[1;34m\"hello\"\u001b[0m\u001b[1;33m)\u001b[0m\u001b[1;33m)\u001b[0m\u001b[1;33m\u001b[0m\u001b[1;33m\u001b[0m\u001b[0m\n",
      "\u001b[1;31mTypeError\u001b[0m: unsupported operand type(s) for +: 'int' and 'str'"
     ]
    }
   ],
   "source": [
    "def add(a,b):\n",
    "    return a+b\n",
    "\n",
    "print(add(10,1.3))\n",
    "print(add(10,\"hello\"))"
   ]
  },
  {
   "cell_type": "markdown",
   "metadata": {},
   "source": [
    "functions can also call other functions or itself (recoursive):\n",
    "\n",
    "e.g. factorial:  \n",
    "$n!=n*(n-1)*(n-1)*...*2*1$  \n",
    "$n!=n*(n-1)!$ \n"
   ]
  },
  {
   "cell_type": "code",
   "execution_count": 54,
   "metadata": {},
   "outputs": [
    {
     "name": "stdout",
     "output_type": "stream",
     "text": [
      "10 : 3628800\n",
      "9 : 362880\n",
      "8 : 40320\n",
      "7 : 5040\n",
      "6 : 720\n",
      "5 : 120\n",
      "4 : 24\n",
      "3 : 6\n",
      "2 : 2\n",
      "1 : 1\n",
      "0 : 1\n",
      "-1 : "
     ]
    },
    {
     "ename": "ValueError",
     "evalue": "negiativ factorial not supported",
     "output_type": "error",
     "traceback": [
      "\u001b[1;31m---------------------------------------------------------------------------\u001b[0m",
      "\u001b[1;31mValueError\u001b[0m                                Traceback (most recent call last)",
      "\u001b[1;32m<ipython-input-54-f111231d1bea>\u001b[0m in \u001b[0;36m<module>\u001b[1;34m\u001b[0m\n\u001b[0;32m     12\u001b[0m \u001b[1;32mfor\u001b[0m \u001b[0mi\u001b[0m \u001b[1;32min\u001b[0m \u001b[0mrange\u001b[0m\u001b[1;33m(\u001b[0m\u001b[1;36m10\u001b[0m\u001b[1;33m,\u001b[0m\u001b[1;33m-\u001b[0m\u001b[1;36m10\u001b[0m\u001b[1;33m,\u001b[0m\u001b[1;33m-\u001b[0m\u001b[1;36m1\u001b[0m\u001b[1;33m)\u001b[0m\u001b[1;33m:\u001b[0m\u001b[1;33m\u001b[0m\u001b[1;33m\u001b[0m\u001b[0m\n\u001b[0;32m     13\u001b[0m     \u001b[0mprint\u001b[0m\u001b[1;33m(\u001b[0m\u001b[0mi\u001b[0m\u001b[1;33m,\u001b[0m\u001b[1;34m\":\"\u001b[0m\u001b[1;33m,\u001b[0m \u001b[0mend\u001b[0m\u001b[1;33m=\u001b[0m\u001b[1;34m\" \"\u001b[0m\u001b[1;33m)\u001b[0m\u001b[1;33m\u001b[0m\u001b[1;33m\u001b[0m\u001b[0m\n\u001b[1;32m---> 14\u001b[1;33m     \u001b[0mprint\u001b[0m\u001b[1;33m(\u001b[0m\u001b[0mfactorial\u001b[0m\u001b[1;33m(\u001b[0m\u001b[0mi\u001b[0m\u001b[1;33m)\u001b[0m\u001b[1;33m)\u001b[0m\u001b[1;33m\u001b[0m\u001b[1;33m\u001b[0m\u001b[0m\n\u001b[0m",
      "\u001b[1;32m<ipython-input-54-f111231d1bea>\u001b[0m in \u001b[0;36mfactorial\u001b[1;34m(n)\u001b[0m\n\u001b[0;32m      5\u001b[0m         \u001b[1;32mreturn\u001b[0m \u001b[1;36m1\u001b[0m\u001b[1;33m\u001b[0m\u001b[1;33m\u001b[0m\u001b[0m\n\u001b[0;32m      6\u001b[0m     \u001b[1;32mif\u001b[0m \u001b[0mn\u001b[0m\u001b[1;33m<\u001b[0m\u001b[1;36m0\u001b[0m\u001b[1;33m:\u001b[0m \u001b[1;31m#not defined\u001b[0m\u001b[1;33m\u001b[0m\u001b[1;33m\u001b[0m\u001b[0m\n\u001b[1;32m----> 7\u001b[1;33m         \u001b[1;32mraise\u001b[0m \u001b[0mValueError\u001b[0m\u001b[1;33m(\u001b[0m\u001b[1;34m\"negiativ factorial not supported\"\u001b[0m\u001b[1;33m)\u001b[0m\u001b[1;33m\u001b[0m\u001b[1;33m\u001b[0m\u001b[0m\n\u001b[0m\u001b[0;32m      8\u001b[0m \u001b[1;33m\u001b[0m\u001b[0m\n\u001b[0;32m      9\u001b[0m     \u001b[1;32mreturn\u001b[0m \u001b[0mn\u001b[0m\u001b[1;33m*\u001b[0m\u001b[0mfactorial\u001b[0m\u001b[1;33m(\u001b[0m\u001b[0mn\u001b[0m\u001b[1;33m-\u001b[0m\u001b[1;36m1\u001b[0m\u001b[1;33m)\u001b[0m \u001b[1;31m#n!=n*(n-1)!\u001b[0m\u001b[1;33m\u001b[0m\u001b[1;33m\u001b[0m\u001b[0m\n",
      "\u001b[1;31mValueError\u001b[0m: negiativ factorial not supported"
     ]
    }
   ],
   "source": [
    "#factorial\n",
    "\n",
    "def factorial(n):\n",
    "    if n==0: #stop recoursion\n",
    "        return 1\n",
    "    if n<0: #not defined\n",
    "        raise ValueError(\"negiativ factorial not supported\")\n",
    "        \n",
    "    return n*factorial(n-1) #n!=n*(n-1)!\n",
    "\n",
    "\n",
    "for i in range(10,-10,-1):\n",
    "    print(i,\":\", end=\" \")\n",
    "    print(factorial(i))"
   ]
  },
  {
   "cell_type": "code",
   "execution_count": null,
   "metadata": {},
   "outputs": [],
   "source": []
  },
  {
   "cell_type": "code",
   "execution_count": null,
   "metadata": {},
   "outputs": [],
   "source": []
  },
  {
   "cell_type": "code",
   "execution_count": null,
   "metadata": {},
   "outputs": [],
   "source": []
  },
  {
   "cell_type": "code",
   "execution_count": null,
   "metadata": {},
   "outputs": [],
   "source": []
  }
 ],
 "metadata": {
  "kernelspec": {
   "display_name": "Python 3",
   "language": "python",
   "name": "python3"
  },
  "language_info": {
   "codemirror_mode": {
    "name": "ipython",
    "version": 3
   },
   "file_extension": ".py",
   "mimetype": "text/x-python",
   "name": "python",
   "nbconvert_exporter": "python",
   "pygments_lexer": "ipython3",
   "version": "3.7.6"
  }
 },
 "nbformat": 4,
 "nbformat_minor": 2
}
