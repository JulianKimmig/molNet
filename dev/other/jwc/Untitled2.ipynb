{
 "cells": [
  {
   "cell_type": "code",
   "execution_count": 8,
   "id": "capital-pickup",
   "metadata": {},
   "outputs": [],
   "source": [
    "import numpy as np\n",
    "import matplotlib.pyplot as plt\n",
    "#wieder weg machen"
   ]
  },
  {
   "cell_type": "code",
   "execution_count": 9,
   "id": "accepted-impression",
   "metadata": {},
   "outputs": [],
   "source": [
    "#hinweis"
   ]
  },
  {
   "cell_type": "code",
   "execution_count": 19,
   "id": "distinguished-lodge",
   "metadata": {},
   "outputs": [],
   "source": [
    "var_name = 1\n",
    "#keine nummer haben,  klein, keine sonderzeichen"
   ]
  },
  {
   "cell_type": "code",
   "execution_count": 26,
   "id": "pleasant-factor",
   "metadata": {},
   "outputs": [],
   "source": [
    "hasbr = \"hallo\" # sinnvoller name!!!\n",
    "message = \"hallo\""
   ]
  },
  {
   "cell_type": "code",
   "execution_count": 28,
   "id": "declared-pendant",
   "metadata": {},
   "outputs": [],
   "source": [
    "var_name = \"test\""
   ]
  },
  {
   "cell_type": "code",
   "execution_count": null,
   "id": "following-section",
   "metadata": {},
   "outputs": [],
   "source": [
    "#integer: ...,-2, -1, 0, 1 ,2 ...\n",
    "1+1\n",
    "10/5"
   ]
  },
  {
   "cell_type": "code",
   "execution_count": 64,
   "id": "egyptian-mercury",
   "metadata": {},
   "outputs": [
    {
     "data": {
      "text/plain": [
       "0.10000000000000009"
      ]
     },
     "execution_count": 64,
     "metadata": {},
     "output_type": "execute_result"
    }
   ],
   "source": [
    "#floats: kommazahlen\n",
    "\n",
    "(11/10 - 1) # ungenau ab stelle n"
   ]
  },
  {
   "cell_type": "code",
   "execution_count": 62,
   "id": "studied-arrangement",
   "metadata": {},
   "outputs": [
    {
     "data": {
      "text/plain": [
       "6"
      ]
     },
     "execution_count": 62,
     "metadata": {},
     "output_type": "execute_result"
    }
   ],
   "source": [
    "int(5.5 + 0.5)"
   ]
  },
  {
   "cell_type": "code",
   "execution_count": 72,
   "id": "federal-upgrade",
   "metadata": {},
   "outputs": [
    {
     "data": {
      "text/plain": [
       "'100'"
      ]
     },
     "execution_count": 72,
     "metadata": {},
     "output_type": "execute_result"
    }
   ],
   "source": [
    "var_text= \"100\"\n",
    "var_text"
   ]
  },
  {
   "cell_type": "code",
   "execution_count": 73,
   "id": "radical-amazon",
   "metadata": {},
   "outputs": [
    {
     "ename": "TypeError",
     "evalue": "can only concatenate str (not \"int\") to str",
     "output_type": "error",
     "traceback": [
      "\u001b[0;31m---------------------------------------------------------------------------\u001b[0m",
      "\u001b[0;31mTypeError\u001b[0m                                 Traceback (most recent call last)",
      "\u001b[0;32m<ipython-input-73-d91feb053e17>\u001b[0m in \u001b[0;36m<module>\u001b[0;34m\u001b[0m\n\u001b[0;32m----> 1\u001b[0;31m \u001b[0mvar_text\u001b[0m\u001b[0;34m+\u001b[0m\u001b[0;36m10\u001b[0m\u001b[0;34m\u001b[0m\u001b[0;34m\u001b[0m\u001b[0m\n\u001b[0m",
      "\u001b[0;31mTypeError\u001b[0m: can only concatenate str (not \"int\") to str"
     ]
    }
   ],
   "source": [
    "var_text+10"
   ]
  },
  {
   "cell_type": "code",
   "execution_count": 76,
   "id": "amber-violation",
   "metadata": {},
   "outputs": [
    {
     "data": {
      "text/plain": [
       "'100 welt'"
      ]
     },
     "execution_count": 76,
     "metadata": {},
     "output_type": "execute_result"
    }
   ],
   "source": [
    "var_text+\" welt\""
   ]
  },
  {
   "cell_type": "code",
   "execution_count": 90,
   "id": "removed-third",
   "metadata": {},
   "outputs": [],
   "source": [
    "var_bool = True"
   ]
  },
  {
   "cell_type": "code",
   "execution_count": 106,
   "id": "upper-master",
   "metadata": {},
   "outputs": [
    {
     "data": {
      "text/plain": [
       "True"
      ]
     },
     "execution_count": 106,
     "metadata": {},
     "output_type": "execute_result"
    }
   ],
   "source": [
    "var_check = \"1\"==str(1)\n",
    "var_check"
   ]
  },
  {
   "cell_type": "code",
   "execution_count": 109,
   "id": "everyday-improvement",
   "metadata": {},
   "outputs": [
    {
     "data": {
      "text/plain": [
       "[1, 2]"
      ]
     },
     "execution_count": 109,
     "metadata": {},
     "output_type": "execute_result"
    }
   ],
   "source": [
    "var_list = []\n",
    "var_list.append(1)\n",
    "var_list.append(2)\n",
    "var_list"
   ]
  },
  {
   "cell_type": "code",
   "execution_count": 110,
   "id": "funny-migration",
   "metadata": {},
   "outputs": [
    {
     "data": {
      "text/plain": [
       "[1, 2, 4, 5.6, 'hello']"
      ]
     },
     "execution_count": 110,
     "metadata": {},
     "output_type": "execute_result"
    }
   ],
   "source": [
    "var_list = [1,2,4,5.6,\"hello\"]\n",
    "var_list"
   ]
  },
  {
   "cell_type": "code",
   "execution_count": 113,
   "id": "lonely-roman",
   "metadata": {},
   "outputs": [
    {
     "ename": "IndexError",
     "evalue": "list index out of range",
     "output_type": "error",
     "traceback": [
      "\u001b[0;31m---------------------------------------------------------------------------\u001b[0m",
      "\u001b[0;31mIndexError\u001b[0m                                Traceback (most recent call last)",
      "\u001b[0;32m<ipython-input-113-12cebd302046>\u001b[0m in \u001b[0;36m<module>\u001b[0;34m\u001b[0m\n\u001b[0;32m----> 1\u001b[0;31m \u001b[0mvar_list\u001b[0m\u001b[0;34m[\u001b[0m\u001b[0;36m5\u001b[0m\u001b[0;34m]\u001b[0m\u001b[0;34m\u001b[0m\u001b[0;34m\u001b[0m\u001b[0m\n\u001b[0m",
      "\u001b[0;31mIndexError\u001b[0m: list index out of range"
     ]
    }
   ],
   "source": [
    "var_list[5]"
   ]
  },
  {
   "cell_type": "code",
   "execution_count": 115,
   "id": "selected-council",
   "metadata": {},
   "outputs": [
    {
     "data": {
      "text/plain": [
       "5.6"
      ]
     },
     "execution_count": 115,
     "metadata": {},
     "output_type": "execute_result"
    }
   ],
   "source": [
    "var_list[-2]"
   ]
  },
  {
   "cell_type": "code",
   "execution_count": 121,
   "id": "derived-shopping",
   "metadata": {},
   "outputs": [
    {
     "data": {
      "text/plain": [
       "[2, 4, 5.6, 'hello']"
      ]
     },
     "execution_count": 121,
     "metadata": {},
     "output_type": "execute_result"
    }
   ],
   "source": [
    "var_list[1:]"
   ]
  },
  {
   "cell_type": "code",
   "execution_count": 124,
   "id": "communist-cleaner",
   "metadata": {},
   "outputs": [
    {
     "data": {
      "text/plain": [
       "{'key': 'value', 'another key': 1}"
      ]
     },
     "execution_count": 124,
     "metadata": {},
     "output_type": "execute_result"
    }
   ],
   "source": [
    "var_dict={\n",
    "    \"key\":\"value\",\n",
    "    \"another key\":1\n",
    "         }\n",
    "var_dict"
   ]
  },
  {
   "cell_type": "code",
   "execution_count": 125,
   "id": "center-dependence",
   "metadata": {},
   "outputs": [
    {
     "data": {
      "text/plain": [
       "'value'"
      ]
     },
     "execution_count": 125,
     "metadata": {},
     "output_type": "execute_result"
    }
   ],
   "source": [
    "var_dict[\"key\"]"
   ]
  },
  {
   "cell_type": "code",
   "execution_count": 127,
   "id": "approved-serbia",
   "metadata": {},
   "outputs": [
    {
     "data": {
      "text/plain": [
       "{'key': 'changed_value', 'another key': 1}"
      ]
     },
     "execution_count": 127,
     "metadata": {},
     "output_type": "execute_result"
    }
   ],
   "source": [
    "var_dict[\"key\"]=\"changed_value\"\n",
    "var_dict"
   ]
  },
  {
   "cell_type": "code",
   "execution_count": 128,
   "id": "smaller-earth",
   "metadata": {},
   "outputs": [
    {
     "data": {
      "text/plain": [
       "{'key': 'changed_value', 'another key': 1, 'newkey': 'so wow'}"
      ]
     },
     "execution_count": 128,
     "metadata": {},
     "output_type": "execute_result"
    }
   ],
   "source": [
    "var_dict[\"newkey\"]=\"so wow\"\n",
    "var_dict"
   ]
  },
  {
   "cell_type": "code",
   "execution_count": 146,
   "id": "affiliated-rover",
   "metadata": {},
   "outputs": [
    {
     "name": "stdout",
     "output_type": "stream",
     "text": [
      "2\n",
      "4\n",
      "6\n",
      "8\n",
      "10\n"
     ]
    }
   ],
   "source": [
    "#intendation!\n",
    "for v in [1,2,3,4,5]:\n",
    "    print(v*2)"
   ]
  },
  {
   "cell_type": "code",
   "execution_count": 132,
   "id": "loving-reality",
   "metadata": {},
   "outputs": [
    {
     "name": "stdout",
     "output_type": "stream",
     "text": [
      "1\n",
      "2\n",
      "3\n",
      "4\n",
      "5\n"
     ]
    }
   ],
   "source": [
    "for v in range(1,6,1):\n",
    "    print(v)"
   ]
  },
  {
   "cell_type": "code",
   "execution_count": 134,
   "id": "moderate-maintenance",
   "metadata": {},
   "outputs": [
    {
     "name": "stdout",
     "output_type": "stream",
     "text": [
      "hello\n",
      "hello\n",
      "hello\n",
      "hello\n",
      "hello\n",
      "hello\n"
     ]
    }
   ],
   "source": [
    "for v in range(6):\n",
    "    print(\"hello\")"
   ]
  },
  {
   "cell_type": "code",
   "execution_count": 138,
   "id": "known-virtue",
   "metadata": {},
   "outputs": [
    {
     "data": {
      "text/plain": [
       "[0, 1, 2, 3, 4, 5, 6, 7, 8, 9, 10, 11, 12, 13, 14, 15, 16, 17, 18, 19]"
      ]
     },
     "execution_count": 138,
     "metadata": {},
     "output_type": "execute_result"
    }
   ],
   "source": [
    "new_list = []\n",
    "for i in range(20):\n",
    "    new_list.append(i)\n",
    "new_list"
   ]
  },
  {
   "cell_type": "code",
   "execution_count": 154,
   "id": "artificial-cambridge",
   "metadata": {},
   "outputs": [
    {
     "name": "stdout",
     "output_type": "stream",
     "text": [
      "1\n",
      "2\n",
      "4\n",
      "8\n",
      "16\n",
      "32\n",
      "64\n"
     ]
    },
    {
     "data": {
      "text/plain": [
       "128"
      ]
     },
     "execution_count": 154,
     "metadata": {},
     "output_type": "execute_result"
    }
   ],
   "source": [
    "p=1\n",
    "while p<100:\n",
    "    print(p)\n",
    "    p=p*2\n",
    "p"
   ]
  },
  {
   "cell_type": "code",
   "execution_count": 155,
   "id": "western-underground",
   "metadata": {},
   "outputs": [
    {
     "name": "stdout",
     "output_type": "stream",
     "text": [
      "jap\n"
     ]
    }
   ],
   "source": [
    "if p>130:\n",
    "    print(\"never\")\n",
    "else:\n",
    "    print(\"jap\")\n",
    "p=150"
   ]
  },
  {
   "cell_type": "code",
   "execution_count": 157,
   "id": "opposed-membrane",
   "metadata": {},
   "outputs": [],
   "source": [
    "#f(x)=2x\n",
    "#f(2)\n",
    "\n",
    "def testfunc(a):\n",
    "    print(a)\n",
    "    return a"
   ]
  },
  {
   "cell_type": "code",
   "execution_count": 159,
   "id": "surrounded-introduction",
   "metadata": {},
   "outputs": [
    {
     "name": "stdout",
     "output_type": "stream",
     "text": [
      "10\n"
     ]
    }
   ],
   "source": [
    "res = testfunc(10)"
   ]
  },
  {
   "cell_type": "code",
   "execution_count": 160,
   "id": "happy-license",
   "metadata": {},
   "outputs": [],
   "source": [
    "def addition(a,b):\n",
    "    return a+b"
   ]
  },
  {
   "cell_type": "code",
   "execution_count": 163,
   "id": "favorite-triumph",
   "metadata": {},
   "outputs": [
    {
     "data": {
      "text/plain": [
       "11"
      ]
     },
     "execution_count": 163,
     "metadata": {},
     "output_type": "execute_result"
    }
   ],
   "source": [
    "addition(10,1)"
   ]
  },
  {
   "cell_type": "code",
   "execution_count": 164,
   "id": "cardiac-heaven",
   "metadata": {},
   "outputs": [],
   "source": [
    "#n! z.b. 5!=5*4*3*2*1\n",
    "#n! = n*(n-1)*(n-2)*...*2*1\n",
    "#tipp n! = n* (n-1)!"
   ]
  },
  {
   "cell_type": "code",
   "execution_count": 167,
   "id": "focused-survivor",
   "metadata": {},
   "outputs": [],
   "source": [
    "def factorial(n):\n",
    "    if n<=1:\n",
    "        return 1\n",
    "    return n * factorial(n-1)"
   ]
  },
  {
   "cell_type": "code",
   "execution_count": 171,
   "id": "adjusted-communist",
   "metadata": {},
   "outputs": [
    {
     "data": {
      "text/plain": [
       "3628800"
      ]
     },
     "execution_count": 171,
     "metadata": {},
     "output_type": "execute_result"
    }
   ],
   "source": [
    "factorial(10)"
   ]
  },
  {
   "cell_type": "code",
   "execution_count": null,
   "id": "convenient-chase",
   "metadata": {},
   "outputs": [],
   "source": []
  },
  {
   "cell_type": "code",
   "execution_count": null,
   "id": "threaded-murray",
   "metadata": {},
   "outputs": [],
   "source": []
  },
  {
   "cell_type": "code",
   "execution_count": null,
   "id": "coupled-viewer",
   "metadata": {},
   "outputs": [],
   "source": []
  },
  {
   "cell_type": "code",
   "execution_count": 174,
   "id": "responsible-somewhere",
   "metadata": {},
   "outputs": [
    {
     "data": {
      "text/plain": [
       "10"
      ]
     },
     "execution_count": 174,
     "metadata": {},
     "output_type": "execute_result"
    }
   ],
   "source": [
    "import numpy as np\n",
    "np.sum([1,2,3,4])"
   ]
  },
  {
   "cell_type": "code",
   "execution_count": 181,
   "id": "international-gasoline",
   "metadata": {},
   "outputs": [],
   "source": [
    "#sin von 0 bis 2*pi  mit 1000 werten\n",
    "x=np.linspace(0,2*np.pi,1000)\n",
    "y=np.sin(x)"
   ]
  },
  {
   "cell_type": "code",
   "execution_count": 186,
   "id": "introductory-translator",
   "metadata": {},
   "outputs": [],
   "source": [
    "x=np.arange(0,1000,10)\n",
    "y=np.random.rand(len(x))"
   ]
  },
  {
   "cell_type": "code",
   "execution_count": 187,
   "id": "freelance-stupid",
   "metadata": {},
   "outputs": [],
   "source": [
    "import matplotlib.pyplot as plt"
   ]
  },
  {
   "cell_type": "code",
   "execution_count": 223,
   "id": "british-frank",
   "metadata": {},
   "outputs": [
    {
     "data": {
      "text/plain": [
       "Text(0, 0.5, 'y-ax')"
      ]
     },
     "execution_count": 223,
     "metadata": {},
     "output_type": "execute_result"
    },
    {
     "data": {
      "image/png": "[encoded data removed]",
      "text/plain": [
       "<Figure size 432x288 with 1 Axes>"
      ]
     },
     "metadata": {
      "needs_background": "light"
     },
     "output_type": "display_data"
    }
   ],
   "source": [
    "x=np.linspace(0,2*np.pi,20)\n",
    "y=np.sin(x)\n",
    "\n",
    "plt.plot(x,y,marker=\"o\",linestyle=\"--\",label=\"sinus\")\n",
    "plt.legend()\n",
    "plt.title(\"Sinus\")\n",
    "plt.xlabel(\"X\")\n",
    "plt.ylabel(\"y-ax\")\n",
    "\n",
    "# save\n"
   ]
  },
  {
   "cell_type": "code",
   "execution_count": 240,
   "id": "british-liver",
   "metadata": {},
   "outputs": [
    {
     "data": {
      "text/plain": [
       "[<matplotlib.lines.Line2D at 0x7f75d1ae8410>]"
      ]
     },
     "execution_count": 240,
     "metadata": {},
     "output_type": "execute_result"
    },
    {
     "data": {
      "image/png": "[encoded data removed]",
      "text/plain": [
       "<Figure size 432x288 with 1 Axes>"
      ]
     },
     "metadata": {
      "needs_background": "light"
     },
     "output_type": "display_data"
    }
   ],
   "source": [
    "x=np.arange(0,14,0.1)\n",
    "y=[factorial(xi) for xi in x]\n",
    "plt.plot(x,y)\n",
    "plt.plot(x,6**x)"
   ]
  },
  {
   "cell_type": "code",
   "execution_count": null,
   "id": "affiliated-interval",
   "metadata": {},
   "outputs": [],
   "source": []
  }
 ],
 "metadata": {
  "kernelspec": {
   "display_name": "Python 3",
   "language": "python",
   "name": "python3"
  },
  "language_info": {
   "codemirror_mode": {
    "name": "ipython",
    "version": 3
   },
   "file_extension": ".py",
   "mimetype": "text/x-python",
   "name": "python",
   "nbconvert_exporter": "python",
   "pygments_lexer": "ipython3",
   "version": "3.7.6"
  }
 },
 "nbformat": 4,
 "nbformat_minor": 5
}
