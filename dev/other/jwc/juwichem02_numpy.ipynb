{
 "cells": [
  {
   "cell_type": "markdown",
   "metadata": {},
   "source": [
    "Numpy is one of the most important packages in python"
   ]
  },
  {
   "cell_type": "code",
   "execution_count": 7,
   "metadata": {},
   "outputs": [],
   "source": [
    "import numpy as np #it is default to import numpy as np"
   ]
  },
  {
   "cell_type": "code",
   "execution_count": 8,
   "metadata": {},
   "outputs": [
    {
     "name": "stdout",
     "output_type": "stream",
     "text": [
      "[0, 1, 2, 3, 4, 5, 6, 7, 8, 9, 10, 11, 12, 13, 14, 15, 16, 17, 18, 19]\n"
     ]
    }
   ],
   "source": [
    "num_list=[i for i in range(20)]\n",
    "print(num_list)"
   ]
  },
  {
   "cell_type": "code",
   "execution_count": 9,
   "metadata": {},
   "outputs": [
    {
     "ename": "TypeError",
     "evalue": "can only concatenate list (not \"int\") to list",
     "output_type": "error",
     "traceback": [
      "\u001b[1;31m---------------------------------------------------------------------------\u001b[0m",
      "\u001b[1;31mTypeError\u001b[0m                                 Traceback (most recent call last)",
      "\u001b[1;32m<ipython-input-9-d1de1daebc20>\u001b[0m in \u001b[0;36m<module>\u001b[1;34m\u001b[0m\n\u001b[1;32m----> 1\u001b[1;33m \u001b[0mnum_list\u001b[0m\u001b[1;33m+\u001b[0m\u001b[1;36m20\u001b[0m \u001b[1;31m# does not work\u001b[0m\u001b[1;33m\u001b[0m\u001b[1;33m\u001b[0m\u001b[0m\n\u001b[0m",
      "\u001b[1;31mTypeError\u001b[0m: can only concatenate list (not \"int\") to list"
     ]
    }
   ],
   "source": [
    "num_list+20 # does not work"
   ]
  },
  {
   "cell_type": "code",
   "execution_count": 10,
   "metadata": {},
   "outputs": [
    {
     "name": "stdout",
     "output_type": "stream",
     "text": [
      "[20, 21, 22, 23, 24, 25, 26, 27, 28, 29, 30, 31, 32, 33, 34, 35, 36, 37, 38, 39]\n"
     ]
    }
   ],
   "source": [
    "for i in range(len(num_list)):\n",
    "    num_list[i]+=20 #equals to num_list[i]=num_list[i] + 20\n",
    "print(num_list)"
   ]
  },
  {
   "cell_type": "code",
   "execution_count": 11,
   "metadata": {},
   "outputs": [
    {
     "name": "stdout",
     "output_type": "stream",
     "text": [
      "[20, 21, 22, 23, 24, 25, 26, 27, 28, 29, 30, 31, 32, 33, 34, 35, 36, 37, 38, 39, 20, 21, 22, 23, 24, 25, 26, 27, 28, 29, 30, 31, 32, 33, 34, 35, 36, 37, 38, 39]\n"
     ]
    }
   ],
   "source": [
    "num_list_two=num_list*2\n",
    "print(num_list_two)"
   ]
  },
  {
   "cell_type": "code",
   "execution_count": 12,
   "metadata": {},
   "outputs": [
    {
     "name": "stdout",
     "output_type": "stream",
     "text": [
      "[40, 42, 44, 46, 48, 50, 52, 54, 56, 58, 60, 62, 64, 66, 68, 70, 72, 74, 76, 78]\n"
     ]
    }
   ],
   "source": [
    "num_list_two=[]\n",
    "for n in num_list:\n",
    "    num_list_two.append(n * 2)\n",
    "print(num_list_two)"
   ]
  },
  {
   "cell_type": "code",
   "execution_count": 13,
   "metadata": {},
   "outputs": [
    {
     "name": "stdout",
     "output_type": "stream",
     "text": [
      "[ 0  1  2  3  4  5  6  7  8  9 10 11 12 13 14 15 16 17 18 19]\n",
      "[20 21 22 23 24 25 26 27 28 29 30 31 32 33 34 35 36 37 38 39]\n",
      "[ 0  2  4  6  8 10 12 14 16 18 20 22 24 26 28 30 32 34 36 38]\n"
     ]
    }
   ],
   "source": [
    "num_list=np.arange(20)\n",
    "print(num_list)\n",
    "print(num_list+20)\n",
    "print(num_list*2)"
   ]
  },
  {
   "cell_type": "code",
   "execution_count": 16,
   "metadata": {},
   "outputs": [
    {
     "name": "stdout",
     "output_type": "stream",
     "text": [
      "[nan  0.]\n",
      "[       nan 2.03873598]\n"
     ]
    },
    {
     "name": "stderr",
     "output_type": "stream",
     "text": [
      "<ipython-input-16-b51775aa259a>:25: RuntimeWarning: divide by zero encountered in true_divide\n",
      "  t1=-(v0/a) - np.sqrt((v0/a)**2 - 2*s0/a)\n",
      "<ipython-input-16-b51775aa259a>:25: RuntimeWarning: invalid value encountered in true_divide\n",
      "  t1=-(v0/a) - np.sqrt((v0/a)**2 - 2*s0/a)\n",
      "<ipython-input-16-b51775aa259a>:26: RuntimeWarning: divide by zero encountered in true_divide\n",
      "  t2=-(v0/a) + np.sqrt((v0/a)**2 - 2*s0/a)\n",
      "<ipython-input-16-b51775aa259a>:26: RuntimeWarning: invalid value encountered in true_divide\n",
      "  t2=-(v0/a) + np.sqrt((v0/a)**2 - 2*s0/a)\n"
     ]
    },
    {
     "data": {
      "text/plain": [
       "2.038735983690112"
      ]
     },
     "execution_count": 16,
     "metadata": {},
     "output_type": "execute_result"
    }
   ],
   "source": [
    "\n",
    "#x=0\n",
    "#y=0\n",
    "#z=0\n",
    "s0=np.array([0,0])\n",
    "v0=np.array([10,10])\n",
    "a=np.array([0,-9.81])\n",
    "\n",
    "#v=v0+a*t\n",
    "#s=s0 + v0*t + 1/2 * a*t**2\n",
    "\n",
    "\n",
    "def v(t):\n",
    "    return v0+a*t \n",
    "\n",
    "def s(t):\n",
    "    return s0 + v0*t + 1/2 * a* t**2\n",
    "\n",
    "# at the end if\n",
    "#s[1]=0\n",
    "#0=s0 + v0*t + 1/2 * a* t**2\n",
    "#t**2 + (2*v0/a) *t  + 2*s0/a = 0\n",
    "\n",
    "#x=-p/2 +/- sqrt(p*p/4 - q)\n",
    "\n",
    "t1=-(v0/a) - np.sqrt((v0/a)**2 - 2*s0/a)\n",
    "t2=-(v0/a) + np.sqrt((v0/a)**2 - 2*s0/a)\n",
    "print(t1)\n",
    "print(t2)\n",
    "t_fin=t2[1]\n",
    "t_fin"
   ]
  },
  {
   "cell_type": "code",
   "execution_count": 17,
   "metadata": {},
   "outputs": [
    {
     "name": "stdout",
     "output_type": "stream",
     "text": [
      "v(0.00)=[10. 10.]\n",
      "s(0.00)=[0. 0.]\n",
      "\n",
      "v(0.23)=[10.    7.78]\n",
      "s(0.23)=[2.27 2.01]\n",
      "\n",
      "v(0.45)=[10.    5.56]\n",
      "s(0.45)=[4.53 3.52]\n",
      "\n",
      "v(0.68)=[10.    3.33]\n",
      "s(0.68)=[6.8  4.53]\n",
      "\n",
      "v(0.91)=[10.    1.11]\n",
      "s(0.91)=[9.06 5.03]\n",
      "\n",
      "v(1.13)=[10.   -1.11]\n",
      "s(1.13)=[11.33  5.03]\n",
      "\n",
      "v(1.36)=[10.   -3.33]\n",
      "s(1.36)=[13.59  4.53]\n",
      "\n",
      "v(1.59)=[10.   -5.56]\n",
      "s(1.59)=[15.86  3.52]\n",
      "\n",
      "v(1.81)=[10.   -7.78]\n",
      "s(1.81)=[18.12  2.01]\n",
      "\n",
      "v(2.04)=[ 10. -10.]\n",
      "s(2.04)=[20.39  0.  ]\n",
      "\n"
     ]
    }
   ],
   "source": [
    "for t in np.linspace(0,t_fin,10):\n",
    "    print(\"v({:.2f})={}\\ns({:.2f})={}\\n\".format(t,v(t).round(2),t,s(t).round(2)))\n"
   ]
  },
  {
   "cell_type": "code",
   "execution_count": null,
   "metadata": {},
   "outputs": [],
   "source": []
  },
  {
   "cell_type": "code",
   "execution_count": null,
   "metadata": {},
   "outputs": [],
   "source": []
  }
 ],
 "metadata": {
  "kernelspec": {
   "display_name": "Python 3",
   "language": "python",
   "name": "python3"
  },
  "language_info": {
   "codemirror_mode": {
    "name": "ipython",
    "version": 3
   },
   "file_extension": ".py",
   "mimetype": "text/x-python",
   "name": "python",
   "nbconvert_exporter": "python",
   "pygments_lexer": "ipython3",
   "version": "3.7.6"
  }
 },
 "nbformat": 4,
 "nbformat_minor": 2
}
