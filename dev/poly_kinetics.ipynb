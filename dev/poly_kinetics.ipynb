{
 "cells": [
  {
   "cell_type": "code",
   "execution_count": 30,
   "outputs": [
    {
     "data": {
      "text/plain": "<molNet.rxn.general.ReactionSet at 0x7f645b0dd9d0>",
      "text/latex": "$1 I \\xrightarrow{ 0.001834 }  2 Ir \\\\ 1 Ir + 1 M \\xrightarrow{ 49876 }  1 R \\\\ 1 R + 1 M \\xrightarrow{ 49876 }  1 R \\\\ 2 R \\xrightarrow{ 1414000000.0 }  1 P$"
     },
     "execution_count": 30,
     "metadata": {},
     "output_type": "execute_result"
    }
   ],
   "source": [
    "import numpy as np\n",
    "import matplotlib.pyplot as plt\n",
    "from scipy.integrate import odeint\n",
    "from molNet.rxn.general import Substance, Reaction, ReactionSet\n",
    "initiator=Substance(name=\"I\")\n",
    "initiator_radical=Substance(name=\"Ir\")\n",
    "monomer=Substance(name=\"M\")\n",
    "poly_radical=Substance(name=\"R\")\n",
    "polymer=Substance(name=\"P\")\n",
    "\n",
    "initiation1=Reaction(k=0.001834,reactants=[(initiator,1)],products=[(initiator_radical,2)])\n",
    "initiation2=Reaction(k=49876,reactants=[(initiator_radical,1),(monomer,1)],products=[(poly_radical,1)])\n",
    "\n",
    "grow=Reaction(k=49876,reactants=[(poly_radical,1),(monomer,1)],products=[(poly_radical,1)])\n",
    "\n",
    "termi1 = Reaction(k=1.414*10**9,reactants=[(poly_radical,2)],products=[(polymer,1)])\n",
    "#termi1 = Reaction(k=10,reactants=[(poly_radical,2)],products=[(polymer,2)])\n",
    "\n",
    "rs = ReactionSet()\n",
    "rs.add_reaction(initiation1)\n",
    "rs.add_reaction(initiation2)\n",
    "rs.add_reaction(grow)\n",
    "rs.add_reaction(termi1)\n",
    "rs"
   ],
   "metadata": {
    "collapsed": false,
    "pycharm": {
     "name": "#%%\n"
    }
   }
  },
  {
   "cell_type": "code",
   "execution_count": 34,
   "outputs": [
    {
     "data": {
      "text/plain": "<matplotlib.legend.Legend at 0x7f64580cd290>"
     },
     "execution_count": 34,
     "metadata": {},
     "output_type": "execute_result"
    },
    {
     "data": {
      "text/plain": "<Figure size 432x288 with 1 Axes>",
      "image/png": "[encoded data removed]"
     },
     "metadata": {
      "needs_background": "light"
     },
     "output_type": "display_data"
    }
   ],
   "source": [
    "T=2000\n",
    "dT=0.1\n",
    "ts=np.arange(0,T,dT)\n",
    "diff_eq,data = rs.get_differential_function()\n",
    "\n",
    "conc_map={initiator:0.01,initiator_radical:0,monomer:1,poly_radical:0,polymer:0}\n",
    "conc=[conc_map[r] for r in data['substances']]\n",
    "\n",
    "ys = odeint(diff_eq,conc,ts,hmax=dT)\n",
    "\n",
    "for i in range(ys.shape[1]):\n",
    "    plt.plot(ts[:ys.shape[0]],ys[:,i],\n",
    "                 label=data['substances'][i]\n",
    "                 )\n",
    "plt.legend()\n"
   ],
   "metadata": {
    "collapsed": false,
    "pycharm": {
     "name": "#%%\n"
    }
   }
  },
  {
   "cell_type": "code",
   "execution_count": 35,
   "outputs": [
    {
     "data": {
      "text/plain": "array([[0.00000000e+00, 0.00000000e+00, 1.00000000e-02, 0.00000000e+00,\n        1.00000000e+00],\n       [1.13876926e-07, 1.77648860e-06, 9.99816621e-03, 7.35700276e-10,\n        9.99440885e-01],\n       [1.13866485e-07, 3.60998923e-06, 9.99633271e-03, 7.35985940e-10,\n        9.98869751e-01],\n       ...,\n       [1.82013269e-08, 9.74457295e-03, 2.55415230e-04, 5.43042012e-09,\n        3.45901720e-03],\n       [1.81996579e-08, 9.74461979e-03, 2.55368392e-04, 5.43006423e-09,\n        3.45860954e-03],\n       [1.81979891e-08, 9.74466662e-03, 2.55321561e-04, 5.42970831e-09,\n        3.45820197e-03]])"
     },
     "execution_count": 35,
     "metadata": {},
     "output_type": "execute_result"
    }
   ],
   "source": [
    "ys"
   ],
   "metadata": {
    "collapsed": false,
    "pycharm": {
     "name": "#%%\n"
    }
   }
  },
  {
   "cell_type": "code",
   "execution_count": null,
   "outputs": [],
   "source": [],
   "metadata": {
    "collapsed": false,
    "pycharm": {
     "name": "#%%\n"
    }
   }
  }
 ],
 "metadata": {
  "kernelspec": {
   "display_name": "Python 3",
   "language": "python",
   "name": "python3"
  },
  "language_info": {
   "codemirror_mode": {
    "name": "ipython",
    "version": 2
   },
   "file_extension": ".py",
   "mimetype": "text/x-python",
   "name": "python",
   "nbconvert_exporter": "python",
   "pygments_lexer": "ipython2",
   "version": "2.7.6"
  }
 },
 "nbformat": 4,
 "nbformat_minor": 0
}