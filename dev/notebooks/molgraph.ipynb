{
 "cells": [
  {
   "cell_type": "code",
   "execution_count": 1,
   "metadata": {
    "collapsed": true
   },
   "outputs": [],
   "source": [
    "import networkx as nx\n",
    "import rdkit\n",
    "import torch\n",
    "from IPython.core.display import SVG, display\n",
    "from rdkit import Chem\n",
    "from rdkit.Chem import rdMolDescriptors, AllChem, rdmolops\n",
    "from rdkit.Chem.rdMolDescriptors import CalcNumAtomStereoCenters\n",
    "from torch_geometric.data import DataLoader\n",
    "from molNet.featurizer.molecule_featurizer import default_molecule_featurizer\n",
    "from molNet.mol.molecules import Molecule"
   ]
  },
  {
   "cell_type": "code",
   "execution_count": 2,
   "outputs": [
    {
     "data": {
      "text/plain": "<IPython.core.display.SVG object>",
      "image/svg+xml": "<svg baseProfile=\"full\" height=\"200px\" version=\"1.1\" viewBox=\"0 0 200 200\" width=\"200px\" xml:space=\"preserve\" xmlns=\"http://www.w3.org/2000/svg\" xmlns:rdkit=\"http://www.rdkit.org/xml\" xmlns:xlink=\"http://www.w3.org/1999/xlink\">\n<!-- END OF HEADER -->\n<rect height=\"200\" style=\"opacity:1.0;fill:#FFFFFF;stroke:none\" width=\"200\" x=\"0\" y=\"0\"> </rect>\n<path class=\"bond-0\" d=\"M 88.3508,135.218 L 41.5978,145.761\" style=\"fill:none;fill-rule:evenodd;stroke:#000000;stroke-width:2px;stroke-linecap:butt;stroke-linejoin:miter;stroke-opacity:1\"/>\n<path class=\"bond-0\" d=\"M 79.2293,127.449 L 46.5022,134.829\" style=\"fill:none;fill-rule:evenodd;stroke:#000000;stroke-width:2px;stroke-linecap:butt;stroke-linejoin:miter;stroke-opacity:1\"/>\n<path class=\"bond-7\" d=\"M 88.3508,135.218 L 102.597,89.4571\" style=\"fill:none;fill-rule:evenodd;stroke:#000000;stroke-width:2px;stroke-linecap:butt;stroke-linejoin:miter;stroke-opacity:1\"/>\n<path class=\"bond-1\" d=\"M 41.5978,145.761 L 9.09091,110.543\" style=\"fill:none;fill-rule:evenodd;stroke:#000000;stroke-width:2px;stroke-linecap:butt;stroke-linejoin:miter;stroke-opacity:1\"/>\n<path class=\"bond-2\" d=\"M 9.09091,110.543 L 23.337,64.7821\" style=\"fill:none;fill-rule:evenodd;stroke:#000000;stroke-width:2px;stroke-linecap:butt;stroke-linejoin:miter;stroke-opacity:1\"/>\n<path class=\"bond-2\" d=\"M 20.38,106.528 L 30.3523,74.4955\" style=\"fill:none;fill-rule:evenodd;stroke:#000000;stroke-width:2px;stroke-linecap:butt;stroke-linejoin:miter;stroke-opacity:1\"/>\n<path class=\"bond-3\" d=\"M 23.337,64.7821 L 70.0901,54.2393\" style=\"fill:none;fill-rule:evenodd;stroke:#000000;stroke-width:2px;stroke-linecap:butt;stroke-linejoin:miter;stroke-opacity:1\"/>\n<path class=\"bond-4\" d=\"M 70.0901,54.2393 L 102.597,89.4571\" style=\"fill:none;fill-rule:evenodd;stroke:#000000;stroke-width:2px;stroke-linecap:butt;stroke-linejoin:miter;stroke-opacity:1\"/>\n<path class=\"bond-4\" d=\"M 67.9225,66.0233 L 90.6773,90.6758\" style=\"fill:none;fill-rule:evenodd;stroke:#000000;stroke-width:2px;stroke-linecap:butt;stroke-linejoin:miter;stroke-opacity:1\"/>\n<path class=\"bond-5\" d=\"M 102.597,89.4571 L 149.35,78.9143\" style=\"fill:none;fill-rule:evenodd;stroke:#000000;stroke-width:2px;stroke-linecap:butt;stroke-linejoin:miter;stroke-opacity:1\"/>\n<path class=\"bond-6\" d=\"M 149.35,78.9143 L 161.917,92.5293\" style=\"fill:none;fill-rule:evenodd;stroke:#000000;stroke-width:2px;stroke-linecap:butt;stroke-linejoin:miter;stroke-opacity:1\"/>\n<path class=\"bond-6\" d=\"M 161.917,92.5293 L 174.484,106.144\" style=\"fill:none;fill-rule:evenodd;stroke:#00CC00;stroke-width:2px;stroke-linecap:butt;stroke-linejoin:miter;stroke-opacity:1\"/>\n<text dominant-baseline=\"central\" style=\"font-size:15px;font-style:normal;font-weight:normal;fill-opacity:1;stroke:none;font-family:sans-serif;fill:#00CC00\" text-anchor=\"start\" x=\"174.402\" y=\"116.529\"><tspan>Cl</tspan></text>\n</svg>"
     },
     "metadata": {},
     "output_type": "display_data"
    }
   ],
   "source": [
    "from molNet.nn.models.graph_convolution import GraphFingerprint\n",
    "m = Molecule(rdkit.Chem.MolFromSmiles(\"c1ccccc1CCl\"))\n",
    "display(SVG(m.to_svg()))\n",
    "mg = m.to_molgraph()"
   ],
   "metadata": {
    "collapsed": false,
    "pycharm": {
     "name": "#%%\n"
    }
   }
  },
  {
   "cell_type": "code",
   "execution_count": 3,
   "outputs": [
    {
     "data": {
      "text/plain": "<Figure size 432x288 with 1 Axes>",
      "image/png": "[encoded data removed]"
     },
     "metadata": {},
     "output_type": "display_data"
    }
   ],
   "source": [
    "nx.nx_pylab.draw(\n",
    "    mg,\n",
    "    pos=nx.nx_pylab.spring_layout(mg,iterations=10,\n",
    "                                  pos=nx.nx_pylab.kamada_kawai_layout(mg)\n",
    "                                  ),\n",
    "    with_labels=True,\n",
    "    labels = {i:mg.mol.GetAtomWithIdx(i).GetSymbol() for i in mg.nodes },\n",
    ")\n",
    "\n"
   ],
   "metadata": {
    "collapsed": false,
    "pycharm": {
     "name": "#%%\n"
    }
   }
  },
  {
   "cell_type": "code",
   "execution_count": 4,
   "outputs": [],
   "source": [
    "mg.featurize(molecule_featurizer=default_molecule_featurizer)"
   ],
   "metadata": {
    "collapsed": false,
    "pycharm": {
     "name": "#%%\n"
    }
   }
  },
  {
   "cell_type": "code",
   "execution_count": 5,
   "outputs": [
    {
     "data": {
      "text/plain": "Data(edge_index=[2, 30], graph_features=[18], node_features=[15, 122])"
     },
     "execution_count": 5,
     "metadata": {},
     "output_type": "execute_result"
    }
   ],
   "source": [
    "mg.to_graph_input()"
   ],
   "metadata": {
    "collapsed": false,
    "pycharm": {
     "name": "#%%\n"
    }
   }
  },
  {
   "cell_type": "code",
   "execution_count": 6,
   "outputs": [
    {
     "name": "stderr",
     "output_type": "stream",
     "text": [
      "WARNING:root:The number of nodes in your data object can only be inferred by its edge indices, and hence may result in unexpected batch-wise behavior, e.g., in case there exists isolated nodes. Please consider explicitly setting the number of nodes for this data object by assigning it to data.num_nodes.\n",
      "WARNING:root:The number of nodes in your data object can only be inferred by its edge indices, and hence may result in unexpected batch-wise behavior, e.g., in case there exists isolated nodes. Please consider explicitly setting the number of nodes for this data object by assigning it to data.num_nodes.\n"
     ]
    },
    {
     "name": "stdout",
     "output_type": "stream",
     "text": [
      "Batch(batch=[15], edge_index=[2, 30], graph_features=[1], node_features=[15, 122])\n",
      "tensor([[0.2592]], grad_fn=<SigmoidBackward>)\n"
     ]
    }
   ],
   "source": [
    "data=mg.to_graph_input()\n",
    "\n",
    "gcn = GraphFingerprint(in_feats=data.node_features.shape[1],hidden_feats=[None],fingerprint_size=1,activation=torch.nn.Sigmoid)\n",
    "data = DataLoader([data], batch_size=32, shuffle=False)\n",
    "for d in data:\n",
    "    print(d)\n",
    "    print(gcn(d))"
   ],
   "metadata": {
    "collapsed": false,
    "pycharm": {
     "name": "#%%\n"
    }
   }
  },
  {
   "cell_type": "code",
   "execution_count": 6,
   "outputs": [],
   "source": [],
   "metadata": {
    "collapsed": false,
    "pycharm": {
     "name": "#%%\n"
    }
   }
  },
  {
   "cell_type": "code",
   "execution_count": 6,
   "outputs": [],
   "source": [
    "\n"
   ],
   "metadata": {
    "collapsed": false,
    "pycharm": {
     "name": "#%%\n"
    }
   }
  }
 ],
 "metadata": {
  "kernelspec": {
   "name": "python3",
   "language": "python",
   "display_name": "Python 3"
  },
  "language_info": {
   "codemirror_mode": {
    "name": "ipython",
    "version": 2
   },
   "file_extension": ".py",
   "mimetype": "text/x-python",
   "name": "python",
   "nbconvert_exporter": "python",
   "pygments_lexer": "ipython2",
   "version": "2.7.6"
  },
  "pycharm": {
   "stem_cell": {
    "cell_type": "raw",
    "source": [],
    "metadata": {
     "collapsed": false
    }
   }
  }
 },
 "nbformat": 4,
 "nbformat_minor": 0
}