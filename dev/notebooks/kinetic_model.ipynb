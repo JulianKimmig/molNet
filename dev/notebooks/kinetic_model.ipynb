{
 "cells": [
  {
   "cell_type": "code",
   "execution_count": 6,
   "metadata": {},
   "outputs": [],
   "source": [
    "from typing import List\n",
    "import matplotlib.pyplot as plt\n",
    "try:\n",
    "    import cupy as np\n",
    "except:\n",
    "    import numpy as np\n",
    "\n",
    "from scipy.integrate import odeint"
   ]
  },
  {
   "cell_type": "code",
   "execution_count": 2,
   "outputs": [
    {
     "data": {
      "text/plain": "<molNet.rxn.general.Reaction at 0x7f88f2fa9610>",
      "text/latex": "$1 A \\xrightarrow{ 0.001 }  0.7 D$"
     },
     "execution_count": 2,
     "metadata": {},
     "output_type": "execute_result"
    }
   ],
   "source": [
    "from molNet.rxn.general import Reaction, Substance, ReactionSet\n",
    "ZA=Substance(name=\"A\")\n",
    "ZB=Substance(name=\"B\")\n",
    "ZC=Substance(name=\"C\")\n",
    "ZD=Substance(name=\"D\")\n",
    "\n",
    "zalinskya=Reaction(k=0.01)\n",
    "zalinskya.add_reactant(ZA,1)\n",
    "zalinskya.add_reactant(ZB,1)\n",
    "zalinskya.add_product(ZA,1)\n",
    "zalinskya.add_product(ZA,1)\n",
    "\n",
    "zalinskyb=Reaction(k=0.02)\n",
    "zalinskyb.add_reactant(ZB,1)\n",
    "zalinskyb.add_reactant(ZC,1)\n",
    "zalinskyb.add_product(ZB,2)\n",
    "\n",
    "zalinskyc=Reaction(k=0.03)\n",
    "zalinskyc.add_reactant(ZC,1)\n",
    "zalinskyc.add_reactant(ZA,1)\n",
    "zalinskyc.add_product(ZC,2)\n",
    "\n",
    "zalinskyd=Reaction(k=0.001)\n",
    "zalinskyd.add_reactant(ZA,1)\n",
    "zalinskyd.add_product(ZD,0.7)\n",
    "zalinskyd"
   ],
   "metadata": {
    "collapsed": false,
    "pycharm": {
     "name": "#%%#%%\n"
    }
   }
  },
  {
   "cell_type": "code",
   "execution_count": 3,
   "outputs": [
    {
     "data": {
      "text/plain": "<molNet.rxn.general.ReactionSet at 0x7f88f2fde0d0>",
      "text/latex": "$1 A + 1 B \\xrightarrow{ 0.01 }  2 A \\\\ 1 B + 1 C \\xrightarrow{ 0.02 }  2 B \\\\ 1 C + 1 A \\xrightarrow{ 0.03 }  2 C \\\\ 1 A \\xrightarrow{ 0.001 }  0.7 D$"
     },
     "execution_count": 3,
     "metadata": {},
     "output_type": "execute_result"
    }
   ],
   "source": [
    "rs = ReactionSet()\n",
    "rs.add_reaction(zalinskya)\n",
    "rs.add_reaction(zalinskyb)\n",
    "rs.add_reaction(zalinskyc)\n",
    "rs.add_reaction(zalinskyd)\n",
    "rs"
   ],
   "metadata": {
    "collapsed": false,
    "pycharm": {
     "name": "#%%\n"
    }
   }
  },
  {
   "cell_type": "code",
   "execution_count": 7,
   "metadata": {},
   "outputs": [
    {
     "ename": "CUDARuntimeError",
     "evalue": "cudaErrorCompatNotSupportedOnDevice: forward compatibility was attempted on non supported HW",
     "output_type": "error",
     "traceback": [
      "\u001B[0;31m---------------------------------------------------------------------------\u001B[0m",
      "\u001B[0;31mCUDARuntimeError\u001B[0m                          Traceback (most recent call last)",
      "\u001B[0;32m<ipython-input-7-d61a9d8c5b2f>\u001B[0m in \u001B[0;36m<module>\u001B[0;34m\u001B[0m\n\u001B[1;32m      1\u001B[0m \u001B[0mT\u001B[0m\u001B[0;34m=\u001B[0m\u001B[0;36m2000\u001B[0m\u001B[0;34m\u001B[0m\u001B[0;34m\u001B[0m\u001B[0m\n\u001B[1;32m      2\u001B[0m \u001B[0mdT\u001B[0m\u001B[0;34m=\u001B[0m\u001B[0;36m0.1\u001B[0m\u001B[0;34m\u001B[0m\u001B[0;34m\u001B[0m\u001B[0m\n\u001B[0;32m----> 3\u001B[0;31m \u001B[0mts\u001B[0m\u001B[0;34m=\u001B[0m\u001B[0mnp\u001B[0m\u001B[0;34m.\u001B[0m\u001B[0marange\u001B[0m\u001B[0;34m(\u001B[0m\u001B[0;36m0\u001B[0m\u001B[0;34m,\u001B[0m\u001B[0mT\u001B[0m\u001B[0;34m,\u001B[0m\u001B[0mdT\u001B[0m\u001B[0;34m)\u001B[0m\u001B[0;34m\u001B[0m\u001B[0;34m\u001B[0m\u001B[0m\n\u001B[0m\u001B[1;32m      4\u001B[0m \u001B[0mdiff_eq\u001B[0m\u001B[0;34m,\u001B[0m\u001B[0mdata\u001B[0m \u001B[0;34m=\u001B[0m \u001B[0mrs\u001B[0m\u001B[0;34m.\u001B[0m\u001B[0mget_differential_function\u001B[0m\u001B[0;34m(\u001B[0m\u001B[0;34m)\u001B[0m\u001B[0;34m\u001B[0m\u001B[0;34m\u001B[0m\u001B[0m\n\u001B[1;32m      5\u001B[0m \u001B[0;34m\u001B[0m\u001B[0m\n",
      "\u001B[0;32m~/anaconda3/envs/molNet/lib/python3.7/site-packages/cupy/creation/ranges.py\u001B[0m in \u001B[0;36marange\u001B[0;34m(start, stop, step, dtype)\u001B[0m\n\u001B[1;32m     53\u001B[0m             \u001B[0;32mreturn\u001B[0m \u001B[0mcupy\u001B[0m\u001B[0;34m.\u001B[0m\u001B[0marray\u001B[0m\u001B[0;34m(\u001B[0m\u001B[0;34m[\u001B[0m\u001B[0mstart\u001B[0m\u001B[0;34m]\u001B[0m\u001B[0;34m,\u001B[0m \u001B[0mdtype\u001B[0m\u001B[0;34m=\u001B[0m\u001B[0mnumpy\u001B[0m\u001B[0;34m.\u001B[0m\u001B[0mbool_\u001B[0m\u001B[0;34m)\u001B[0m\u001B[0;34m\u001B[0m\u001B[0;34m\u001B[0m\u001B[0m\n\u001B[1;32m     54\u001B[0m \u001B[0;34m\u001B[0m\u001B[0m\n\u001B[0;32m---> 55\u001B[0;31m     \u001B[0mret\u001B[0m \u001B[0;34m=\u001B[0m \u001B[0mcupy\u001B[0m\u001B[0;34m.\u001B[0m\u001B[0mempty\u001B[0m\u001B[0;34m(\u001B[0m\u001B[0;34m(\u001B[0m\u001B[0msize\u001B[0m\u001B[0;34m,\u001B[0m\u001B[0;34m)\u001B[0m\u001B[0;34m,\u001B[0m \u001B[0mdtype\u001B[0m\u001B[0;34m=\u001B[0m\u001B[0mdtype\u001B[0m\u001B[0;34m)\u001B[0m\u001B[0;34m\u001B[0m\u001B[0;34m\u001B[0m\u001B[0m\n\u001B[0m\u001B[1;32m     56\u001B[0m     \u001B[0mtyp\u001B[0m \u001B[0;34m=\u001B[0m \u001B[0mnumpy\u001B[0m\u001B[0;34m.\u001B[0m\u001B[0mdtype\u001B[0m\u001B[0;34m(\u001B[0m\u001B[0mdtype\u001B[0m\u001B[0;34m)\u001B[0m\u001B[0;34m.\u001B[0m\u001B[0mtype\u001B[0m\u001B[0;34m\u001B[0m\u001B[0;34m\u001B[0m\u001B[0m\n\u001B[1;32m     57\u001B[0m     \u001B[0m_arange_ufunc\u001B[0m\u001B[0;34m(\u001B[0m\u001B[0mtyp\u001B[0m\u001B[0;34m(\u001B[0m\u001B[0mstart\u001B[0m\u001B[0;34m)\u001B[0m\u001B[0;34m,\u001B[0m \u001B[0mtyp\u001B[0m\u001B[0;34m(\u001B[0m\u001B[0mstep\u001B[0m\u001B[0;34m)\u001B[0m\u001B[0;34m,\u001B[0m \u001B[0mret\u001B[0m\u001B[0;34m,\u001B[0m \u001B[0mdtype\u001B[0m\u001B[0;34m=\u001B[0m\u001B[0mdtype\u001B[0m\u001B[0;34m)\u001B[0m\u001B[0;34m\u001B[0m\u001B[0;34m\u001B[0m\u001B[0m\n",
      "\u001B[0;32m~/anaconda3/envs/molNet/lib/python3.7/site-packages/cupy/creation/basic.py\u001B[0m in \u001B[0;36mempty\u001B[0;34m(shape, dtype, order)\u001B[0m\n\u001B[1;32m     20\u001B[0m \u001B[0;34m\u001B[0m\u001B[0m\n\u001B[1;32m     21\u001B[0m     \"\"\"\n\u001B[0;32m---> 22\u001B[0;31m     \u001B[0;32mreturn\u001B[0m \u001B[0mcupy\u001B[0m\u001B[0;34m.\u001B[0m\u001B[0mndarray\u001B[0m\u001B[0;34m(\u001B[0m\u001B[0mshape\u001B[0m\u001B[0;34m,\u001B[0m \u001B[0mdtype\u001B[0m\u001B[0;34m,\u001B[0m \u001B[0morder\u001B[0m\u001B[0;34m=\u001B[0m\u001B[0morder\u001B[0m\u001B[0;34m)\u001B[0m\u001B[0;34m\u001B[0m\u001B[0;34m\u001B[0m\u001B[0m\n\u001B[0m\u001B[1;32m     23\u001B[0m \u001B[0;34m\u001B[0m\u001B[0m\n\u001B[1;32m     24\u001B[0m \u001B[0;34m\u001B[0m\u001B[0m\n",
      "\u001B[0;32mcupy/core/core.pyx\u001B[0m in \u001B[0;36mcupy.core.core.ndarray.__init__\u001B[0;34m()\u001B[0m\n",
      "\u001B[0;32mcupy/cuda/memory.pyx\u001B[0m in \u001B[0;36mcupy.cuda.memory.alloc\u001B[0;34m()\u001B[0m\n",
      "\u001B[0;32mcupy/cuda/memory.pyx\u001B[0m in \u001B[0;36mcupy.cuda.memory.MemoryPool.malloc\u001B[0;34m()\u001B[0m\n",
      "\u001B[0;32mcupy/cuda/memory.pyx\u001B[0m in \u001B[0;36mcupy.cuda.memory.MemoryPool.malloc\u001B[0;34m()\u001B[0m\n",
      "\u001B[0;32mcupy/cuda/device.pyx\u001B[0m in \u001B[0;36mcupy.cuda.device.get_device_id\u001B[0;34m()\u001B[0m\n",
      "\u001B[0;32mcupy/cuda/runtime.pyx\u001B[0m in \u001B[0;36mcupy.cuda.runtime.getDevice\u001B[0;34m()\u001B[0m\n",
      "\u001B[0;32mcupy/cuda/runtime.pyx\u001B[0m in \u001B[0;36mcupy.cuda.runtime.check_status\u001B[0;34m()\u001B[0m\n",
      "\u001B[0;31mCUDARuntimeError\u001B[0m: cudaErrorCompatNotSupportedOnDevice: forward compatibility was attempted on non supported HW"
     ]
    }
   ],
   "source": [
    "T=2000\n",
    "dT=0.1\n",
    "ts=np.arange(0,T,dT)\n",
    "diff_eq,data = rs.get_differential_function()\n",
    "\n",
    "conc_map={ZA:1,ZB:1.1,ZC:1.2,ZD:0}\n",
    "conc=[conc_map[r] for r in data['substances']]\n",
    "\n",
    "ys = odeint(diff_eq,conc,ts,hmax=dT)\n",
    "\n",
    "for i in range(ys.shape[1]):\n",
    "    plt.plot(ts[:ys.shape[0]],ys[:,i],\n",
    "                 label=data['substances'][i]\n",
    "                 )\n",
    "plt.legend()\n"
   ]
  },
  {
   "cell_type": "code",
   "execution_count": 5,
   "outputs": [
    {
     "name": "stdout",
     "output_type": "stream",
     "text": [
      "1.14 s ± 23.1 ms per loop (mean ± std. dev. of 7 runs, 1 loop each)\n"
     ]
    }
   ],
   "source": [
    "T=1000\n",
    "dT=0.01\n",
    "ts=np.arange(0,T,dT)\n",
    "%timeit odeint(diff_eq,conc,ts,hmax=dT)"
   ],
   "metadata": {
    "collapsed": false,
    "pycharm": {
     "name": "#%%\n"
    }
   }
  },
  {
   "cell_type": "code",
   "execution_count": 5,
   "outputs": [],
   "source": [],
   "metadata": {
    "collapsed": false,
    "pycharm": {
     "name": "#%%\n"
    }
   }
  },
  {
   "cell_type": "code",
   "execution_count": 5,
   "outputs": [],
   "source": [],
   "metadata": {
    "collapsed": false,
    "pycharm": {
     "name": "#%%\n"
    }
   }
  }
 ],
 "metadata": {
  "kernelspec": {
   "display_name": "Python 3",
   "language": "python",
   "name": "python3"
  },
  "language_info": {
   "codemirror_mode": {
    "name": "ipython",
    "version": 3
   },
   "file_extension": ".py",
   "mimetype": "text/x-python",
   "name": "python",
   "nbconvert_exporter": "python",
   "pygments_lexer": "ipython3",
   "version": "3.7.8"
  }
 },
 "nbformat": 4,
 "nbformat_minor": 1
}