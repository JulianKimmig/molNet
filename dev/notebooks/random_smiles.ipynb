{
 "cells": [
  {
   "cell_type": "code",
   "execution_count": 1,
   "metadata": {
    "collapsed": true
   },
   "outputs": [],
   "source": [
    "from rdkit import Chem\n",
    "from molNet.mol.molecules import Molecule"
   ]
  },
  {
   "cell_type": "code",
   "execution_count": 2,
   "metadata": {
    "pycharm": {
     "name": "#%%\n"
    }
   },
   "outputs": [
    {
     "name": "stdout",
     "output_type": "stream",
     "text": [
      "768\n"
     ]
    }
   ],
   "source": [
    "mol = Chem.MolFromSmiles(\"c1ccccc1\")\n",
    "mol\n",
    "m = Molecule(mol,\"test\")\n",
    "rs =  m.get_random_smiles()"
   ]
  },
  {
   "cell_type": "code",
   "execution_count": 3,
   "metadata": {
    "pycharm": {
     "name": "#%%\n"
    }
   },
   "outputs": [
    {
     "data": {
      "text/plain": "['C1(-[H]):C(-[H]):C(-[H]):C(-[H]):C(-[H]):C:1-[H]',\n '[cH]1:[cH]:[cH]:[cH]:[cH]:[cH]:1',\n 'c1(-[H]):c(-[H]):c(-[H]):c(-[H]):c(-[H]):c:1-[H]',\n '[CH]1:[CH]:[CH]:[CH]:[CH]:[CH]:1',\n '[cH]1[cH][cH][cH][cH][cH]1',\n '[H][c]1[c]([H])[c]([H])[c]([H])[c]([H])[c]1[H]',\n '[H]-c1:c(-[H]):c(-[H]):c(-[H]):c(-[H]):c:1-[H]',\n '[C]1([H]):[C]([H]):[C]([H]):[C]([H]):[C]([H]):[C]:1[H]',\n 'C1:C:C:C:C:C:1',\n 'c1ccccc1',\n '[c]1([H])[c]([H])[c]([H])[c]([H])[c]([H])[c]1[H]',\n 'C1([H]):C([H]):C([H]):C([H]):C([H]):C:1[H]',\n 'c1:c:c:c:c:c:1',\n '[H]c1c([H])c([H])c([H])c([H])c1[H]',\n '[H]C1:C([H]):C([H]):C([H]):C([H]):C:1[H]',\n '[H]-[C]1:[C](-[H]):[C](-[H]):[C](-[H]):[C](-[H]):[C]:1-[H]',\n '[H]-C1:C(-[H]):C(-[H]):C(-[H]):C(-[H]):C:1-[H]',\n 'c1([H])c([H])c([H])c([H])c([H])c1[H]',\n '[C]1(-[H]):[C](-[H]):[C](-[H]):[C](-[H]):[C](-[H]):[C]:1-[H]',\n '[H]-[c]1:[c](-[H]):[c](-[H]):[c](-[H]):[c](-[H]):[c]:1-[H]',\n '[c]1(-[H]):[c](-[H]):[c](-[H]):[c](-[H]):[c](-[H]):[c]:1-[H]',\n '[H][C]1:[C]([H]):[C]([H]):[C]([H]):[C]([H]):[C]:1[H]']"
     },
     "execution_count": 3,
     "metadata": {},
     "output_type": "execute_result"
    }
   ],
   "source": [
    "rs"
   ]
  },
  {
   "cell_type": "code",
   "execution_count": 2,
   "metadata": {
    "pycharm": {
     "name": "#%%\n"
    }
   },
   "outputs": [],
   "source": []
  },
  {
   "cell_type": "code",
   "execution_count": 2,
   "metadata": {
    "pycharm": {
     "name": "#%%\n"
    }
   },
   "outputs": [],
   "source": []
  },
  {
   "cell_type": "code",
   "execution_count": 2,
   "metadata": {
    "pycharm": {
     "name": "#%%\n"
    }
   },
   "outputs": [],
   "source": []
  },
  {
   "cell_type": "code",
   "execution_count": 2,
   "metadata": {},
   "outputs": [],
   "source": []
  },
  {
   "cell_type": "code",
   "execution_count": 2,
   "metadata": {},
   "outputs": [],
   "source": []
  },
  {
   "cell_type": "code",
   "execution_count": 2,
   "outputs": [],
   "source": [],
   "metadata": {
    "collapsed": false,
    "pycharm": {
     "name": "#%%\n"
    }
   }
  },
  {
   "cell_type": "code",
   "execution_count": 2,
   "metadata": {},
   "outputs": [],
   "source": []
  },
  {
   "cell_type": "code",
   "execution_count": 2,
   "metadata": {},
   "outputs": [],
   "source": []
  }
 ],
 "metadata": {
  "kernelspec": {
   "display_name": "Python 3",
   "language": "python",
   "name": "python3"
  },
  "language_info": {
   "codemirror_mode": {
    "name": "ipython",
    "version": 3
   },
   "file_extension": ".py",
   "mimetype": "text/x-python",
   "name": "python",
   "nbconvert_exporter": "python",
   "pygments_lexer": "ipython3",
   "version": "3.7.8"
  }
 },
 "nbformat": 4,
 "nbformat_minor": 1
}